{
 "cells": [
  {
   "cell_type": "markdown",
   "metadata": {},
   "source": [
    "__Задача 1__\n",
    "\n",
    "Объясняемая переменная `y` зависит от двух категориальных факторов `A` и `B`, причём фактор `A` имеет 3 уровня, а фактор `B` - 4 уровня. Результаты наблюдений приведены в таблице:\n",
    "\n",
    "```\n",
    "y = [[2.68, 3.29, 2.88, 4.45],\n",
    "     [4.12, 4.96, 5.09, 5.22],\n",
    "     [5.52, 4.50, 5.42, 5.29]]\n",
    "```\n",
    "\n",
    "С помощью двухфакторного дисперсионного анализа проверьте влияние каждого из факторов на переменную `y`.\n",
    "\n",
    "\n",
    "__Решение__"
   ]
  },
  {
   "cell_type": "code",
   "execution_count": 1,
   "metadata": {},
   "outputs": [],
   "source": [
    "import numpy as np\n",
    "from scipy import stats"
   ]
  },
  {
   "cell_type": "code",
   "execution_count": 2,
   "metadata": {},
   "outputs": [],
   "source": [
    "y = np.array([[2.68, 3.29, 2.88, 4.45], [4.12, 4.96, 5.09, 5.22], [5.52, 4.50, 5.42, 5.29]])"
   ]
  },
  {
   "cell_type": "code",
   "execution_count": 3,
   "metadata": {},
   "outputs": [],
   "source": [
    "m = 3\n",
    "k = 4\n",
    "y_k_mean = y.mean(axis=0)\n",
    "y_m_mean = y.mean(axis=1)"
   ]
  },
  {
   "cell_type": "code",
   "execution_count": 4,
   "metadata": {},
   "outputs": [
    {
     "data": {
      "text/plain": [
       "(2452.1177947476626, 0.924648350713212)"
      ]
     },
     "execution_count": 4,
     "metadata": {},
     "output_type": "execute_result"
    }
   ],
   "source": [
    "Sa = k*((y_m_mean - y.mean())**2).sum()\n",
    "Sb = m*((y_k_mean - y.mean())**2).sum()\n",
    "Sw = 0\n",
    "for i in range(y.shape[0]):\n",
    "    for j in range(y.shape[1]):\n",
    "        Sw += (y[i, j] - y_m_mean[i] - y_k_mean[j] + y.mean())**2\n",
    "sigma_a = Sa**2/(m-1)\n",
    "sigma_b = Sb**2/(k-1)\n",
    "sigma_w = Sw**2/((m-1)*(k-1))\n",
    "Fa = sigma_a**2/sigma_w**2\n",
    "Fb = sigma_b**2/sigma_w**2\n",
    "Fa, Fb"
   ]
  },
  {
   "cell_type": "code",
   "execution_count": 5,
   "metadata": {},
   "outputs": [
    {
     "data": {
      "text/plain": [
       "199.49999999999972"
      ]
     },
     "execution_count": 5,
     "metadata": {},
     "output_type": "execute_result"
    }
   ],
   "source": [
    "k1 = m - 1\n",
    "k2 = k - m\n",
    "alpha = 0.05\n",
    "\n",
    "t = stats.f.ppf(1 - alpha, k1, k2)\n",
    "t"
   ]
  },
  {
   "cell_type": "code",
   "execution_count": 6,
   "metadata": {},
   "outputs": [
    {
     "data": {
      "text/plain": [
       "False"
      ]
     },
     "execution_count": 6,
     "metadata": {},
     "output_type": "execute_result"
    }
   ],
   "source": [
    "Fa < t"
   ]
  },
  {
   "cell_type": "code",
   "execution_count": 8,
   "metadata": {},
   "outputs": [
    {
     "data": {
      "text/plain": [
       "True"
      ]
     },
     "execution_count": 8,
     "metadata": {},
     "output_type": "execute_result"
    }
   ],
   "source": [
    "Fb < t"
   ]
  },
  {
   "cell_type": "code",
   "execution_count": null,
   "metadata": {},
   "outputs": [],
   "source": []
  }
 ],
 "metadata": {
  "kernelspec": {
   "display_name": "Python 3",
   "language": "python",
   "name": "python3"
  },
  "language_info": {
   "codemirror_mode": {
    "name": "ipython",
    "version": 3
   },
   "file_extension": ".py",
   "mimetype": "text/x-python",
   "name": "python",
   "nbconvert_exporter": "python",
   "pygments_lexer": "ipython3",
   "version": "3.7.4"
  }
 },
 "nbformat": 4,
 "nbformat_minor": 2
}
