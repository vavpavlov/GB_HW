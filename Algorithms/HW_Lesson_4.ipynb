{
 "cells": [
  {
   "cell_type": "code",
   "execution_count": 66,
   "metadata": {},
   "outputs": [],
   "source": [
    "import numpy as np\n",
    "import matplotlib.pyplot as plt\n",
    "\n",
    "import random\n",
    "\n",
    "from matplotlib.colors import ListedColormap\n",
    "from sklearn import datasets, model_selection"
   ]
  },
  {
   "cell_type": "code",
   "execution_count": 67,
   "metadata": {},
   "outputs": [],
   "source": [
    "# Реализуем класс узла\n",
    "class Node:\n",
    "    \n",
    "    def __init__(self, index, t, true_branch, false_branch):\n",
    "        self.index = index  # индекс признака, по которому ведется сравнение с порогом в этом узле\n",
    "        self.t = t  # значение порога\n",
    "        self.true_branch = true_branch  # поддерево, удовлетворяющее условию в узле\n",
    "        self.false_branch = false_branch  # поддерево, не удовлетворяющее условию в узле"
   ]
  },
  {
   "cell_type": "code",
   "execution_count": 68,
   "metadata": {},
   "outputs": [],
   "source": [
    "\n",
    "# Класс терминального узла (листа)\n",
    "class Leaf:\n",
    "    \n",
    "    def __init__(self, data, labels):\n",
    "        self.data = data\n",
    "        self.labels = labels\n",
    "        self.prediction = self.predict()        \n",
    "        \n",
    "    def predict(self):\n",
    "              \n",
    "        # подсчет количества объектов разных классов\n",
    "        classes = {}  # сформируем словарь \"класс: количество объектов\"\n",
    "        for label in self.labels:\n",
    "            if label not in classes:\n",
    "                classes[label] = 0\n",
    "            classes[label] += 1\n",
    "        #  найдем класс, количество объектов которого будет максимальным в этом листе и вернем его        \n",
    "        prediction = max(classes, key=classes.get)        \n",
    "        return prediction"
   ]
  },
  {
   "cell_type": "code",
   "execution_count": 69,
   "metadata": {},
   "outputs": [],
   "source": [
    "class Tree:\n",
    "    \n",
    "    def __init__(self, n_features, min_leaf, criteria):\n",
    "        self.n_features = n_features\n",
    "        self.min_leaf = min_leaf\n",
    "        self.criteria = criteria\n",
    "             \n",
    "        \n",
    "    def info_criteria(self, labels):\n",
    "        \n",
    "        #  подсчет количества объектов разных классов\n",
    "        classes = {}\n",
    "        for label in labels:\n",
    "            if label not in classes:\n",
    "                classes[label] = 0\n",
    "            classes[label] += 1\n",
    "\n",
    "        #  расчет критерия\n",
    "        entropy_ = 1\n",
    "        impurity = 1            \n",
    "\n",
    "        if self.criteria == 'gini':     \n",
    "            for label in classes:\n",
    "                p = classes[label] / len(labels)\n",
    "                impurity -= p ** 2\n",
    "            return impurity\n",
    "        \n",
    "        elif self.criteria == 'entropy':\n",
    "            for label in classes:\n",
    "                p = classes[label] / len(labels)\n",
    "                entropy_ -= p * np.log2(p)                \n",
    "            return entropy_\n",
    "        \n",
    "        \n",
    "    # Расчет качества\n",
    "    def quality(self, true_labels, false_labels, current_criteria):        \n",
    "        # доля выбоки, ушедшая в левое поддерево\n",
    "        p = float(true_labels.shape[0]) / (true_labels.shape[0] + false_labels.shape[0])\n",
    "        return current_criteria - p * self.info_criteria(true_labels) - (1 - p) * self.info_criteria(false_labels)         \n",
    "        \n",
    "        \n",
    "    # Разбиение датасета в узле\n",
    "    def split(self, data, labels, index, t):\n",
    "\n",
    "        left = np.where(data[:, index] <= t)\n",
    "        right = np.where(data[:, index] > t)\n",
    "\n",
    "        true_data = data[left]\n",
    "        false_data = data[right]\n",
    "        true_labels = labels[left]\n",
    "        false_labels = labels[right]\n",
    "\n",
    "        return true_data, false_data, true_labels, false_labels \n",
    "        \n",
    "        \n",
    "    # Нахождение наилучшего разбиения\n",
    "    def find_best_split(self, data, labels):\n",
    "\n",
    "        current_criteria = self.info_criteria(labels)\n",
    "\n",
    "        best_quality = 0\n",
    "        best_t = None\n",
    "        best_index = None\n",
    "        \n",
    "        random.seed(42)\n",
    "        selected_features =  random.sample(range(data.shape[1]), self.n_features)\n",
    "\n",
    "        for index in selected_features:\n",
    "            # будем проверять только уникальные значения признака, исключая повторения\n",
    "            t_values = np.unique([row[index] for row in data])\n",
    "\n",
    "            for t in t_values:\n",
    "                true_data, false_data, true_labels, false_labels = self.split(data, labels, index, t)\n",
    "                \n",
    "                #  пропускаем разбиения, в которых в узле остается менее 5 объектов\n",
    "                if len(true_data) < self.min_leaf or len(false_data) < self.min_leaf:\n",
    "                    continue\n",
    "\n",
    "                current_quality = self.quality(true_labels, false_labels, current_criteria)\n",
    "\n",
    "                #  выбираем порог, на котором получается максимальный прирост качества\n",
    "                if current_quality > best_quality:\n",
    "                    best_quality, best_t, best_index = current_quality, t, index\n",
    "                    \n",
    "        return best_quality, best_t, best_index        \n",
    "          \n",
    "        \n",
    "    # Построение дерева с помощью рекурсивной функции\n",
    "    def build_tree(self, data, labels): \n",
    "\n",
    "        quality, t, index = self.find_best_split(data, labels)        \n",
    "\n",
    "        #  Базовый случай - прекращаем рекурсию, когда нет прироста в качества\n",
    "        if quality == 0:\n",
    "            return Leaf(data, labels)\n",
    "\n",
    "        true_data, false_data, true_labels, false_labels = self.split(data, labels, index, t)        \n",
    "\n",
    "        # Рекурсивно строим два поддерева\n",
    "        true_branch = self.build_tree(true_data, true_labels)\n",
    "        false_branch = self.build_tree(false_data, false_labels)\n",
    "\n",
    "        # Возвращаем класс узла со всеми поддеревьями, то есть целого дерева        \n",
    "        return Node(index, t, true_branch, false_branch)\n",
    "    \n",
    "    \n",
    "    def fit(self, data, labels):\n",
    "        self.my_tree = self.build_tree(data, labels)\n",
    "        \n",
    "    \n",
    "    def classify_object(self, obj, node):\n",
    "        #  Останавливаем рекурсию, если достигли листа\n",
    "        if isinstance(node, Leaf):\n",
    "            answer = node.prediction\n",
    "            return answer\n",
    "\n",
    "        if obj[node.index] <= node.t:\n",
    "            return self.classify_object(obj, node.true_branch)\n",
    "        else:\n",
    "            return self.classify_object(obj, node.false_branch)\n",
    "        \n",
    "        \n",
    "    def predict(self, data):        \n",
    "        classes = []\n",
    "        for obj in data:\n",
    "            prediction = self.classify_object(obj, self.my_tree)        \n",
    "            classes.append(prediction)\n",
    "        return classes"
   ]
  },
  {
   "cell_type": "code",
   "execution_count": 70,
   "metadata": {},
   "outputs": [],
   "source": [
    "# Введем функцию подсчета точности как доли правильных ответов\n",
    "def accuracy_metric(actual, predicted):\n",
    "    correct = 0\n",
    "    for i in range(len(actual)):\n",
    "        if actual[i] == predicted[i]:\n",
    "            correct += 1\n",
    "    return correct / float(len(actual)) * 100.0\n"
   ]
  },
  {
   "cell_type": "code",
   "execution_count": 71,
   "metadata": {},
   "outputs": [],
   "source": [
    "# сгенерируем данные\n",
    "classification_data, classification_labels = datasets.make_classification(n_features = 12, n_informative = 9, \n",
    "                                                      n_classes = 2, n_redundant=0, \n",
    "                                                      n_clusters_per_class=1, random_state=42)"
   ]
  },
  {
   "cell_type": "code",
   "execution_count": 72,
   "metadata": {},
   "outputs": [],
   "source": [
    "# Разобьем выборку на обучающую и тестовую\n",
    "train_data, test_data, train_labels, test_labels = model_selection.train_test_split(classification_data, \n",
    "                                                                                     classification_labels, \n",
    "                                                                                     test_size = 0.3,\n",
    "                                                                                     random_state = 1)"
   ]
  },
  {
   "cell_type": "code",
   "execution_count": 73,
   "metadata": {},
   "outputs": [],
   "source": [
    "tree_entropy = Tree(n_features=8, min_leaf=5, criteria='entropy')   #entropy\n",
    "tree_entropy.fit(train_data, train_labels)\n",
    "\n",
    "train_answers = tree_entropy.predict(train_data)\n",
    "test_answers = tree_entropy.predict(test_data)"
   ]
  },
  {
   "cell_type": "code",
   "execution_count": 74,
   "metadata": {},
   "outputs": [
    {
     "data": {
      "text/plain": [
       "94.28571428571428"
      ]
     },
     "execution_count": 74,
     "metadata": {},
     "output_type": "execute_result"
    }
   ],
   "source": [
    "\n",
    "# Точность на обучающей выборке\n",
    "train_accuracy = accuracy_metric(train_labels, train_answers)\n",
    "train_accuracy"
   ]
  },
  {
   "cell_type": "code",
   "execution_count": 75,
   "metadata": {},
   "outputs": [
    {
     "data": {
      "text/plain": [
       "93.33333333333333"
      ]
     },
     "execution_count": 75,
     "metadata": {},
     "output_type": "execute_result"
    }
   ],
   "source": [
    "\n",
    "# Точность на тестовой выборке\n",
    "test_accuracy = accuracy_metric(test_labels, test_answers)\n",
    "test_accuracy"
   ]
  },
  {
   "cell_type": "code",
   "execution_count": 76,
   "metadata": {},
   "outputs": [],
   "source": [
    "tree_gini = Tree(n_features=8, min_leaf=5, criteria='gini')   #gini\n",
    "tree_gini.fit(train_data, train_labels)\n",
    "\n",
    "train_answers = tree_gini.predict(train_data)\n",
    "test_answers = tree_gini.predict(test_data)"
   ]
  },
  {
   "cell_type": "code",
   "execution_count": 77,
   "metadata": {},
   "outputs": [
    {
     "data": {
      "text/plain": [
       "94.28571428571428"
      ]
     },
     "execution_count": 77,
     "metadata": {},
     "output_type": "execute_result"
    }
   ],
   "source": [
    "train_accuracy = accuracy_metric(train_labels, train_answers)\n",
    "train_accuracy"
   ]
  },
  {
   "cell_type": "code",
   "execution_count": 78,
   "metadata": {},
   "outputs": [
    {
     "data": {
      "text/plain": [
       "93.33333333333333"
      ]
     },
     "execution_count": 78,
     "metadata": {},
     "output_type": "execute_result"
    }
   ],
   "source": [
    "test_accuracy = accuracy_metric(test_labels, test_answers)\n",
    "test_accuracy"
   ]
  },
  {
   "cell_type": "code",
   "execution_count": null,
   "metadata": {},
   "outputs": [],
   "source": []
  }
 ],
 "metadata": {
  "kernelspec": {
   "display_name": "Python 3",
   "language": "python",
   "name": "python3"
  },
  "language_info": {
   "codemirror_mode": {
    "name": "ipython",
    "version": 3
   },
   "file_extension": ".py",
   "mimetype": "text/x-python",
   "name": "python",
   "nbconvert_exporter": "python",
   "pygments_lexer": "ipython3",
   "version": "3.8.2"
  }
 },
 "nbformat": 4,
 "nbformat_minor": 4
}
