{
 "cells": [
  {
   "cell_type": "markdown",
   "metadata": {},
   "source": [
    "# Практическое задание по теме 5. Временные ряды\n",
    "## Поиск аномалий и особенные случаи обработки"
   ]
  },
  {
   "cell_type": "code",
   "execution_count": 22,
   "metadata": {},
   "outputs": [],
   "source": [
    "import numpy as np\n",
    "import pandas as pd \n",
    "import random\n",
    "\n",
    "import statsmodels.api as sm\n",
    "\n",
    "from sklearn.preprocessing import StandardScaler, MinMaxScaler\n",
    "\n",
    "from sklearn.feature_selection import SelectKBest, SelectPercentile, SelectFromModel\n",
    "from sklearn.feature_selection import f_regression, mutual_info_regression\n",
    "\n",
    "from sklearn.ensemble import GradientBoostingRegressor\n",
    "\n",
    "from sklearn.metrics import mean_squared_error, mean_absolute_error, r2_score\n",
    "\n",
    "import matplotlib.pyplot as plt\n",
    "%matplotlib inline"
   ]
  },
  {
   "cell_type": "code",
   "execution_count": 23,
   "metadata": {},
   "outputs": [],
   "source": [
    "import warnings\n",
    "warnings.filterwarnings(\"ignore\")"
   ]
  },
  {
   "cell_type": "markdown",
   "metadata": {},
   "source": [
    "### Задание 1.\n",
    "Прочитайте базу my_BRENT2019.csv и перейдите к представлению ряда первыми разностями."
   ]
  },
  {
   "cell_type": "code",
   "execution_count": 24,
   "metadata": {},
   "outputs": [
    {
     "name": "stdout",
     "output_type": "stream",
     "text": [
      "(2667, 11)\n"
     ]
    },
    {
     "data": {
      "text/html": [
       "<div>\n",
       "<style scoped>\n",
       "    .dataframe tbody tr th:only-of-type {\n",
       "        vertical-align: middle;\n",
       "    }\n",
       "\n",
       "    .dataframe tbody tr th {\n",
       "        vertical-align: top;\n",
       "    }\n",
       "\n",
       "    .dataframe thead th {\n",
       "        text-align: right;\n",
       "    }\n",
       "</style>\n",
       "<table border=\"1\" class=\"dataframe\">\n",
       "  <thead>\n",
       "    <tr style=\"text-align: right;\">\n",
       "      <th></th>\n",
       "      <th>Значение</th>\n",
       "      <th>year</th>\n",
       "      <th>month</th>\n",
       "      <th>dayofmonth</th>\n",
       "      <th>quarter</th>\n",
       "      <th>dayofyear</th>\n",
       "      <th>weekofyear</th>\n",
       "      <th>dayofweek</th>\n",
       "      <th>is_holiday</th>\n",
       "      <th>is_prev_holiday</th>\n",
       "      <th>is_next_holiday</th>\n",
       "    </tr>\n",
       "    <tr>\n",
       "      <th>Дата</th>\n",
       "      <th></th>\n",
       "      <th></th>\n",
       "      <th></th>\n",
       "      <th></th>\n",
       "      <th></th>\n",
       "      <th></th>\n",
       "      <th></th>\n",
       "      <th></th>\n",
       "      <th></th>\n",
       "      <th></th>\n",
       "      <th></th>\n",
       "    </tr>\n",
       "  </thead>\n",
       "  <tbody>\n",
       "    <tr>\n",
       "      <th>2010-09-01</th>\n",
       "      <td>76.37</td>\n",
       "      <td>2010</td>\n",
       "      <td>9</td>\n",
       "      <td>1</td>\n",
       "      <td>3</td>\n",
       "      <td>244</td>\n",
       "      <td>35</td>\n",
       "      <td>2</td>\n",
       "      <td>0</td>\n",
       "      <td>0</td>\n",
       "      <td>0</td>\n",
       "    </tr>\n",
       "    <tr>\n",
       "      <th>2010-09-02</th>\n",
       "      <td>76.89</td>\n",
       "      <td>2010</td>\n",
       "      <td>9</td>\n",
       "      <td>2</td>\n",
       "      <td>3</td>\n",
       "      <td>245</td>\n",
       "      <td>35</td>\n",
       "      <td>3</td>\n",
       "      <td>0</td>\n",
       "      <td>0</td>\n",
       "      <td>0</td>\n",
       "    </tr>\n",
       "  </tbody>\n",
       "</table>\n",
       "</div>"
      ],
      "text/plain": [
       "            Значение  year  month  dayofmonth  quarter  dayofyear  weekofyear  \\\n",
       "Дата                                                                            \n",
       "2010-09-01     76.37  2010      9           1        3        244          35   \n",
       "2010-09-02     76.89  2010      9           2        3        245          35   \n",
       "\n",
       "            dayofweek  is_holiday  is_prev_holiday  is_next_holiday  \n",
       "Дата                                                                 \n",
       "2010-09-01          2           0                0                0  \n",
       "2010-09-02          3           0                0                0  "
      ]
     },
     "execution_count": 24,
     "metadata": {},
     "output_type": "execute_result"
    }
   ],
   "source": [
    "file_name = 'my_BRENT2019.csv'\n",
    "data = pd.read_csv(file_name, index_col=[0], parse_dates=[0]).sort_index()\n",
    "print(data.shape)\n",
    "data.head(2)"
   ]
  },
  {
   "cell_type": "code",
   "execution_count": 25,
   "metadata": {},
   "outputs": [],
   "source": [
    "TARGET_NAME = 'Значение'"
   ]
  },
  {
   "cell_type": "code",
   "execution_count": 26,
   "metadata": {},
   "outputs": [
    {
     "data": {
      "text/html": [
       "<div>\n",
       "<style scoped>\n",
       "    .dataframe tbody tr th:only-of-type {\n",
       "        vertical-align: middle;\n",
       "    }\n",
       "\n",
       "    .dataframe tbody tr th {\n",
       "        vertical-align: top;\n",
       "    }\n",
       "\n",
       "    .dataframe thead th {\n",
       "        text-align: right;\n",
       "    }\n",
       "</style>\n",
       "<table border=\"1\" class=\"dataframe\">\n",
       "  <thead>\n",
       "    <tr style=\"text-align: right;\">\n",
       "      <th></th>\n",
       "      <th>Значение</th>\n",
       "      <th>year</th>\n",
       "      <th>month</th>\n",
       "      <th>dayofmonth</th>\n",
       "      <th>quarter</th>\n",
       "      <th>dayofyear</th>\n",
       "      <th>weekofyear</th>\n",
       "      <th>dayofweek</th>\n",
       "      <th>is_holiday</th>\n",
       "      <th>is_prev_holiday</th>\n",
       "      <th>is_next_holiday</th>\n",
       "      <th>diff_1</th>\n",
       "    </tr>\n",
       "    <tr>\n",
       "      <th>Дата</th>\n",
       "      <th></th>\n",
       "      <th></th>\n",
       "      <th></th>\n",
       "      <th></th>\n",
       "      <th></th>\n",
       "      <th></th>\n",
       "      <th></th>\n",
       "      <th></th>\n",
       "      <th></th>\n",
       "      <th></th>\n",
       "      <th></th>\n",
       "      <th></th>\n",
       "    </tr>\n",
       "  </thead>\n",
       "  <tbody>\n",
       "    <tr>\n",
       "      <th>2010-09-01</th>\n",
       "      <td>76.37</td>\n",
       "      <td>2010</td>\n",
       "      <td>9</td>\n",
       "      <td>1</td>\n",
       "      <td>3</td>\n",
       "      <td>244</td>\n",
       "      <td>35</td>\n",
       "      <td>2</td>\n",
       "      <td>0</td>\n",
       "      <td>0</td>\n",
       "      <td>0</td>\n",
       "      <td>NaN</td>\n",
       "    </tr>\n",
       "    <tr>\n",
       "      <th>2010-09-02</th>\n",
       "      <td>76.89</td>\n",
       "      <td>2010</td>\n",
       "      <td>9</td>\n",
       "      <td>2</td>\n",
       "      <td>3</td>\n",
       "      <td>245</td>\n",
       "      <td>35</td>\n",
       "      <td>3</td>\n",
       "      <td>0</td>\n",
       "      <td>0</td>\n",
       "      <td>0</td>\n",
       "      <td>-0.52</td>\n",
       "    </tr>\n",
       "  </tbody>\n",
       "</table>\n",
       "</div>"
      ],
      "text/plain": [
       "            Значение  year  month  dayofmonth  quarter  dayofyear  weekofyear  \\\n",
       "Дата                                                                            \n",
       "2010-09-01     76.37  2010      9           1        3        244          35   \n",
       "2010-09-02     76.89  2010      9           2        3        245          35   \n",
       "\n",
       "            dayofweek  is_holiday  is_prev_holiday  is_next_holiday  diff_1  \n",
       "Дата                                                                         \n",
       "2010-09-01          2           0                0                0     NaN  \n",
       "2010-09-02          3           0                0                0   -0.52  "
      ]
     },
     "execution_count": 26,
     "metadata": {},
     "output_type": "execute_result"
    }
   ],
   "source": [
    "data.loc[1:, 'diff_1'] = data[TARGET_NAME][:-1].values - data[TARGET_NAME][1:].values\n",
    "data.head(2)"
   ]
  },
  {
   "cell_type": "markdown",
   "metadata": {},
   "source": [
    "### Задание 2.\n",
    "Сделайте ее перрасчет (ресемплинг) в представление по неделям."
   ]
  },
  {
   "cell_type": "code",
   "execution_count": 27,
   "metadata": {},
   "outputs": [],
   "source": [
    "def plot_target(data, title_str, stat=True):\n",
    "    if stat:\n",
    "        DF_ct = sm.tsa.stattools.adfuller(data[TARGET_NAME].fillna(0).values, regression='ct')\n",
    "        DF_ctt = sm.tsa.stattools.adfuller(data[TARGET_NAME].fillna(0).values, regression='ctt')\n",
    "        print(f'Augmented Dickey–Fuller тест: {round(DF_ct[1], 3)}, {round(DF_ctt[1], 3)}') \n",
    "        \n",
    "    (title, name_1) = title_str\n",
    "    plt.figure(figsize =(20, 4))\n",
    "    plt.plot( data.index, data[TARGET_NAME], 'b' )\n",
    "    plt.title(title, size=14)\n",
    "    plt.xlabel('Время')\n",
    "    plt.ylabel(name_1)\n",
    "    plt.show()"
   ]
  },
  {
   "cell_type": "code",
   "execution_count": 28,
   "metadata": {},
   "outputs": [
    {
     "name": "stdout",
     "output_type": "stream",
     "text": [
      "Augmented Dickey–Fuller тест: 0.331, 0.32\n"
     ]
    },
    {
     "data": {
      "image/png": "[encoded data removed]",
      "text/plain": [
       "<Figure size 1440x288 with 1 Axes>"
      ]
     },
     "metadata": {
      "needs_background": "light"
     },
     "output_type": "display_data"
    },
    {
     "data": {
      "text/html": [
       "<div>\n",
       "<style scoped>\n",
       "    .dataframe tbody tr th:only-of-type {\n",
       "        vertical-align: middle;\n",
       "    }\n",
       "\n",
       "    .dataframe tbody tr th {\n",
       "        vertical-align: top;\n",
       "    }\n",
       "\n",
       "    .dataframe thead th {\n",
       "        text-align: right;\n",
       "    }\n",
       "</style>\n",
       "<table border=\"1\" class=\"dataframe\">\n",
       "  <thead>\n",
       "    <tr style=\"text-align: right;\">\n",
       "      <th></th>\n",
       "      <th>Значение</th>\n",
       "      <th>year</th>\n",
       "      <th>month</th>\n",
       "      <th>dayofmonth</th>\n",
       "      <th>quarter</th>\n",
       "      <th>dayofyear</th>\n",
       "      <th>weekofyear</th>\n",
       "      <th>dayofweek</th>\n",
       "      <th>is_holiday</th>\n",
       "      <th>is_prev_holiday</th>\n",
       "      <th>is_next_holiday</th>\n",
       "      <th>diff_1</th>\n",
       "    </tr>\n",
       "    <tr>\n",
       "      <th>Дата</th>\n",
       "      <th></th>\n",
       "      <th></th>\n",
       "      <th></th>\n",
       "      <th></th>\n",
       "      <th></th>\n",
       "      <th></th>\n",
       "      <th></th>\n",
       "      <th></th>\n",
       "      <th></th>\n",
       "      <th></th>\n",
       "      <th></th>\n",
       "      <th></th>\n",
       "    </tr>\n",
       "  </thead>\n",
       "  <tbody>\n",
       "    <tr>\n",
       "      <th>2010-09-05</th>\n",
       "      <td>76.616000</td>\n",
       "      <td>2010.0</td>\n",
       "      <td>9.0</td>\n",
       "      <td>3.0</td>\n",
       "      <td>3.0</td>\n",
       "      <td>246.0</td>\n",
       "      <td>35.0</td>\n",
       "      <td>4.0</td>\n",
       "      <td>0.000000</td>\n",
       "      <td>0.2</td>\n",
       "      <td>0.000000</td>\n",
       "      <td>-0.065000</td>\n",
       "    </tr>\n",
       "    <tr>\n",
       "      <th>2010-09-12</th>\n",
       "      <td>77.673333</td>\n",
       "      <td>2010.0</td>\n",
       "      <td>9.0</td>\n",
       "      <td>8.5</td>\n",
       "      <td>3.0</td>\n",
       "      <td>251.5</td>\n",
       "      <td>36.0</td>\n",
       "      <td>2.5</td>\n",
       "      <td>0.166667</td>\n",
       "      <td>0.0</td>\n",
       "      <td>0.166667</td>\n",
       "      <td>-0.288333</td>\n",
       "    </tr>\n",
       "  </tbody>\n",
       "</table>\n",
       "</div>"
      ],
      "text/plain": [
       "             Значение    year  month  dayofmonth  quarter  dayofyear  \\\n",
       "Дата                                                                   \n",
       "2010-09-05  76.616000  2010.0    9.0         3.0      3.0      246.0   \n",
       "2010-09-12  77.673333  2010.0    9.0         8.5      3.0      251.5   \n",
       "\n",
       "            weekofyear  dayofweek  is_holiday  is_prev_holiday  \\\n",
       "Дата                                                             \n",
       "2010-09-05        35.0        4.0    0.000000              0.2   \n",
       "2010-09-12        36.0        2.5    0.166667              0.0   \n",
       "\n",
       "            is_next_holiday    diff_1  \n",
       "Дата                                   \n",
       "2010-09-05         0.000000 -0.065000  \n",
       "2010-09-12         0.166667 -0.288333  "
      ]
     },
     "execution_count": 28,
     "metadata": {},
     "output_type": "execute_result"
    }
   ],
   "source": [
    "data_w = data.resample('W').mean()\n",
    "title_str = 'Brent, $US', '$US'\n",
    "plot_target(data_w, title_str)\n",
    "data_w.head(2)"
   ]
  },
  {
   "cell_type": "markdown",
   "metadata": {},
   "source": [
    "#### Отбор релевантных признаков"
   ]
  },
  {
   "cell_type": "code",
   "execution_count": 29,
   "metadata": {},
   "outputs": [
    {
     "data": {
      "text/html": [
       "<div>\n",
       "<style scoped>\n",
       "    .dataframe tbody tr th:only-of-type {\n",
       "        vertical-align: middle;\n",
       "    }\n",
       "\n",
       "    .dataframe tbody tr th {\n",
       "        vertical-align: top;\n",
       "    }\n",
       "\n",
       "    .dataframe thead th {\n",
       "        text-align: right;\n",
       "    }\n",
       "</style>\n",
       "<table border=\"1\" class=\"dataframe\">\n",
       "  <thead>\n",
       "    <tr style=\"text-align: right;\">\n",
       "      <th></th>\n",
       "      <th>Значение</th>\n",
       "      <th>year</th>\n",
       "      <th>month</th>\n",
       "      <th>quarter</th>\n",
       "      <th>weekofyear</th>\n",
       "      <th>diff_1</th>\n",
       "    </tr>\n",
       "    <tr>\n",
       "      <th>Дата</th>\n",
       "      <th></th>\n",
       "      <th></th>\n",
       "      <th></th>\n",
       "      <th></th>\n",
       "      <th></th>\n",
       "      <th></th>\n",
       "    </tr>\n",
       "  </thead>\n",
       "  <tbody>\n",
       "    <tr>\n",
       "      <th>2010-09-05</th>\n",
       "      <td>76.616000</td>\n",
       "      <td>2010.0</td>\n",
       "      <td>9.0</td>\n",
       "      <td>3.0</td>\n",
       "      <td>35.0</td>\n",
       "      <td>-0.065000</td>\n",
       "    </tr>\n",
       "    <tr>\n",
       "      <th>2010-09-12</th>\n",
       "      <td>77.673333</td>\n",
       "      <td>2010.0</td>\n",
       "      <td>9.0</td>\n",
       "      <td>3.0</td>\n",
       "      <td>36.0</td>\n",
       "      <td>-0.288333</td>\n",
       "    </tr>\n",
       "  </tbody>\n",
       "</table>\n",
       "</div>"
      ],
      "text/plain": [
       "             Значение    year  month  quarter  weekofyear    diff_1\n",
       "Дата                                                               \n",
       "2010-09-05  76.616000  2010.0    9.0      3.0        35.0 -0.065000\n",
       "2010-09-12  77.673333  2010.0    9.0      3.0        36.0 -0.288333"
      ]
     },
     "execution_count": 29,
     "metadata": {},
     "output_type": "execute_result"
    }
   ],
   "source": [
    "data_w = data_w[['Значение', 'year', 'month', 'quarter', 'weekofyear', 'diff_1']]\n",
    "data_w.head(2)"
   ]
  },
  {
   "cell_type": "markdown",
   "metadata": {},
   "source": [
    "### Задание 3.\n",
    "Добавьте первые разности по стоимости доллара и евро к рублю."
   ]
  },
  {
   "cell_type": "markdown",
   "metadata": {},
   "source": [
    "#### Евро"
   ]
  },
  {
   "cell_type": "code",
   "execution_count": 30,
   "metadata": {},
   "outputs": [
    {
     "name": "stdout",
     "output_type": "stream",
     "text": [
      "(2228, 3)\n"
     ]
    },
    {
     "data": {
      "text/html": [
       "<div>\n",
       "<style scoped>\n",
       "    .dataframe tbody tr th:only-of-type {\n",
       "        vertical-align: middle;\n",
       "    }\n",
       "\n",
       "    .dataframe tbody tr th {\n",
       "        vertical-align: top;\n",
       "    }\n",
       "\n",
       "    .dataframe thead th {\n",
       "        text-align: right;\n",
       "    }\n",
       "</style>\n",
       "<table border=\"1\" class=\"dataframe\">\n",
       "  <thead>\n",
       "    <tr style=\"text-align: right;\">\n",
       "      <th></th>\n",
       "      <th>data</th>\n",
       "      <th>curs</th>\n",
       "      <th>cdx</th>\n",
       "    </tr>\n",
       "    <tr>\n",
       "      <th>nominal</th>\n",
       "      <th></th>\n",
       "      <th></th>\n",
       "      <th></th>\n",
       "    </tr>\n",
       "  </thead>\n",
       "  <tbody>\n",
       "    <tr>\n",
       "      <th>1</th>\n",
       "      <td>2010-09-01</td>\n",
       "      <td>39.0127</td>\n",
       "      <td>Евро</td>\n",
       "    </tr>\n",
       "    <tr>\n",
       "      <th>1</th>\n",
       "      <td>2010-09-02</td>\n",
       "      <td>39.1654</td>\n",
       "      <td>Евро</td>\n",
       "    </tr>\n",
       "  </tbody>\n",
       "</table>\n",
       "</div>"
      ],
      "text/plain": [
       "              data     curs   cdx\n",
       "nominal                          \n",
       "1       2010-09-01  39.0127  Евро\n",
       "1       2010-09-02  39.1654  Евро"
      ]
     },
     "execution_count": 30,
     "metadata": {},
     "output_type": "execute_result"
    }
   ],
   "source": [
    "file_name = 'R_E01_09_2010_T01_09_2019.xlsx'\n",
    "data_eu = pd.read_excel(file_name, index_col=[0], parse_dates=[0]).sort_index()\n",
    "print(data_eu.shape)\n",
    "data_eu.head(2)"
   ]
  },
  {
   "cell_type": "code",
   "execution_count": 31,
   "metadata": {},
   "outputs": [
    {
     "name": "stdout",
     "output_type": "stream",
     "text": [
      "Augmented Dickey–Fuller тест: 0.074, 0.13\n"
     ]
    },
    {
     "data": {
      "image/png": "[encoded data removed]",
      "text/plain": [
       "<Figure size 1440x288 with 1 Axes>"
      ]
     },
     "metadata": {
      "needs_background": "light"
     },
     "output_type": "display_data"
    }
   ],
   "source": [
    "data_eu = data_eu.set_index('data').drop('cdx', axis=1)\n",
    "data_eu.columns = ['euro']\n",
    "TARGET_NAME = 'euro'\n",
    "data_eu = data_eu.resample('W').mean()\n",
    "title_str = 'Rbls / Euro', 'Rbls'\n",
    "plot_target(data_eu, title_str)"
   ]
  },
  {
   "cell_type": "code",
   "execution_count": 32,
   "metadata": {},
   "outputs": [
    {
     "data": {
      "text/html": [
       "<div>\n",
       "<style scoped>\n",
       "    .dataframe tbody tr th:only-of-type {\n",
       "        vertical-align: middle;\n",
       "    }\n",
       "\n",
       "    .dataframe tbody tr th {\n",
       "        vertical-align: top;\n",
       "    }\n",
       "\n",
       "    .dataframe thead th {\n",
       "        text-align: right;\n",
       "    }\n",
       "</style>\n",
       "<table border=\"1\" class=\"dataframe\">\n",
       "  <thead>\n",
       "    <tr style=\"text-align: right;\">\n",
       "      <th></th>\n",
       "      <th>euro</th>\n",
       "      <th>euro_diff_1</th>\n",
       "    </tr>\n",
       "    <tr>\n",
       "      <th>data</th>\n",
       "      <th></th>\n",
       "      <th></th>\n",
       "    </tr>\n",
       "  </thead>\n",
       "  <tbody>\n",
       "    <tr>\n",
       "      <th>2010-09-05</th>\n",
       "      <td>39.204675</td>\n",
       "      <td>NaN</td>\n",
       "    </tr>\n",
       "    <tr>\n",
       "      <th>2010-09-12</th>\n",
       "      <td>39.293360</td>\n",
       "      <td>-0.088685</td>\n",
       "    </tr>\n",
       "  </tbody>\n",
       "</table>\n",
       "</div>"
      ],
      "text/plain": [
       "                 euro  euro_diff_1\n",
       "data                              \n",
       "2010-09-05  39.204675          NaN\n",
       "2010-09-12  39.293360    -0.088685"
      ]
     },
     "execution_count": 32,
     "metadata": {},
     "output_type": "execute_result"
    }
   ],
   "source": [
    "data_eu.loc[1:, 'euro_diff_1'] = data_eu[TARGET_NAME][:-1].values - data_eu[TARGET_NAME][1:].values\n",
    "data_eu.head(2)"
   ]
  },
  {
   "cell_type": "markdown",
   "metadata": {},
   "source": [
    "#### Доллар США"
   ]
  },
  {
   "cell_type": "code",
   "execution_count": 33,
   "metadata": {},
   "outputs": [
    {
     "name": "stdout",
     "output_type": "stream",
     "text": [
      "(2228, 3)\n"
     ]
    },
    {
     "data": {
      "text/html": [
       "<div>\n",
       "<style scoped>\n",
       "    .dataframe tbody tr th:only-of-type {\n",
       "        vertical-align: middle;\n",
       "    }\n",
       "\n",
       "    .dataframe tbody tr th {\n",
       "        vertical-align: top;\n",
       "    }\n",
       "\n",
       "    .dataframe thead th {\n",
       "        text-align: right;\n",
       "    }\n",
       "</style>\n",
       "<table border=\"1\" class=\"dataframe\">\n",
       "  <thead>\n",
       "    <tr style=\"text-align: right;\">\n",
       "      <th></th>\n",
       "      <th>data</th>\n",
       "      <th>curs</th>\n",
       "      <th>cdx</th>\n",
       "    </tr>\n",
       "    <tr>\n",
       "      <th>nominal</th>\n",
       "      <th></th>\n",
       "      <th></th>\n",
       "      <th></th>\n",
       "    </tr>\n",
       "  </thead>\n",
       "  <tbody>\n",
       "    <tr>\n",
       "      <th>1</th>\n",
       "      <td>2010-09-01</td>\n",
       "      <td>30.8669</td>\n",
       "      <td>Доллар США</td>\n",
       "    </tr>\n",
       "    <tr>\n",
       "      <th>1</th>\n",
       "      <td>2010-09-02</td>\n",
       "      <td>30.8001</td>\n",
       "      <td>Доллар США</td>\n",
       "    </tr>\n",
       "  </tbody>\n",
       "</table>\n",
       "</div>"
      ],
      "text/plain": [
       "              data     curs         cdx\n",
       "nominal                                \n",
       "1       2010-09-01  30.8669  Доллар США\n",
       "1       2010-09-02  30.8001  Доллар США"
      ]
     },
     "execution_count": 33,
     "metadata": {},
     "output_type": "execute_result"
    }
   ],
   "source": [
    "file_name = 'RC_F01_09_2010_T01_09_2019.xlsx'\n",
    "data_usd = pd.read_excel(file_name, index_col=[0], parse_dates=[0]).sort_index()\n",
    "print(data_usd.shape)\n",
    "data_usd.head(2)"
   ]
  },
  {
   "cell_type": "code",
   "execution_count": 34,
   "metadata": {},
   "outputs": [
    {
     "name": "stdout",
     "output_type": "stream",
     "text": [
      "Augmented Dickey–Fuller тест: 0.291, 0.387\n"
     ]
    },
    {
     "data": {
      "image/png": "[encoded data removed]",
      "text/plain": [
       "<Figure size 1440x288 with 1 Axes>"
      ]
     },
     "metadata": {
      "needs_background": "light"
     },
     "output_type": "display_data"
    }
   ],
   "source": [
    "data_usd = data_usd.set_index('data').drop('cdx', axis=1)\n",
    "data_usd.columns = ['usd']\n",
    "TARGET_NAME = 'usd'\n",
    "data_usd = data_usd.resample('W').mean()\n",
    "title_str = 'Rbls / $US', 'Rbls'\n",
    "plot_target(data_usd, title_str)"
   ]
  },
  {
   "cell_type": "code",
   "execution_count": 35,
   "metadata": {},
   "outputs": [
    {
     "data": {
      "text/html": [
       "<div>\n",
       "<style scoped>\n",
       "    .dataframe tbody tr th:only-of-type {\n",
       "        vertical-align: middle;\n",
       "    }\n",
       "\n",
       "    .dataframe tbody tr th {\n",
       "        vertical-align: top;\n",
       "    }\n",
       "\n",
       "    .dataframe thead th {\n",
       "        text-align: right;\n",
       "    }\n",
       "</style>\n",
       "<table border=\"1\" class=\"dataframe\">\n",
       "  <thead>\n",
       "    <tr style=\"text-align: right;\">\n",
       "      <th></th>\n",
       "      <th>usd</th>\n",
       "      <th>usd_diff_1</th>\n",
       "    </tr>\n",
       "    <tr>\n",
       "      <th>data</th>\n",
       "      <th></th>\n",
       "      <th></th>\n",
       "    </tr>\n",
       "  </thead>\n",
       "  <tbody>\n",
       "    <tr>\n",
       "      <th>2010-09-05</th>\n",
       "      <td>30.76125</td>\n",
       "      <td>NaN</td>\n",
       "    </tr>\n",
       "    <tr>\n",
       "      <th>2010-09-12</th>\n",
       "      <td>30.79402</td>\n",
       "      <td>-0.03277</td>\n",
       "    </tr>\n",
       "  </tbody>\n",
       "</table>\n",
       "</div>"
      ],
      "text/plain": [
       "                 usd  usd_diff_1\n",
       "data                            \n",
       "2010-09-05  30.76125         NaN\n",
       "2010-09-12  30.79402    -0.03277"
      ]
     },
     "execution_count": 35,
     "metadata": {},
     "output_type": "execute_result"
    }
   ],
   "source": [
    "data_usd.loc[1:, 'usd_diff_1'] = data_usd[TARGET_NAME][:-1].values - data_usd[TARGET_NAME][1:].values\n",
    "data_usd.head(2)"
   ]
  },
  {
   "cell_type": "code",
   "execution_count": 36,
   "metadata": {},
   "outputs": [
    {
     "data": {
      "text/html": [
       "<div>\n",
       "<style scoped>\n",
       "    .dataframe tbody tr th:only-of-type {\n",
       "        vertical-align: middle;\n",
       "    }\n",
       "\n",
       "    .dataframe tbody tr th {\n",
       "        vertical-align: top;\n",
       "    }\n",
       "\n",
       "    .dataframe thead th {\n",
       "        text-align: right;\n",
       "    }\n",
       "</style>\n",
       "<table border=\"1\" class=\"dataframe\">\n",
       "  <thead>\n",
       "    <tr style=\"text-align: right;\">\n",
       "      <th></th>\n",
       "      <th>Значение</th>\n",
       "      <th>year</th>\n",
       "      <th>month</th>\n",
       "      <th>quarter</th>\n",
       "      <th>weekofyear</th>\n",
       "      <th>diff_1</th>\n",
       "      <th>usd_diff_1</th>\n",
       "      <th>euro_diff_1</th>\n",
       "    </tr>\n",
       "    <tr>\n",
       "      <th>Дата</th>\n",
       "      <th></th>\n",
       "      <th></th>\n",
       "      <th></th>\n",
       "      <th></th>\n",
       "      <th></th>\n",
       "      <th></th>\n",
       "      <th></th>\n",
       "      <th></th>\n",
       "    </tr>\n",
       "  </thead>\n",
       "  <tbody>\n",
       "    <tr>\n",
       "      <th>2010-09-05</th>\n",
       "      <td>76.616000</td>\n",
       "      <td>2010.0</td>\n",
       "      <td>9.0</td>\n",
       "      <td>3.0</td>\n",
       "      <td>35.0</td>\n",
       "      <td>-0.065000</td>\n",
       "      <td>NaN</td>\n",
       "      <td>NaN</td>\n",
       "    </tr>\n",
       "    <tr>\n",
       "      <th>2010-09-12</th>\n",
       "      <td>77.673333</td>\n",
       "      <td>2010.0</td>\n",
       "      <td>9.0</td>\n",
       "      <td>3.0</td>\n",
       "      <td>36.0</td>\n",
       "      <td>-0.288333</td>\n",
       "      <td>-0.03277</td>\n",
       "      <td>-0.088685</td>\n",
       "    </tr>\n",
       "  </tbody>\n",
       "</table>\n",
       "</div>"
      ],
      "text/plain": [
       "             Значение    year  month  quarter  weekofyear    diff_1  \\\n",
       "Дата                                                                  \n",
       "2010-09-05  76.616000  2010.0    9.0      3.0        35.0 -0.065000   \n",
       "2010-09-12  77.673333  2010.0    9.0      3.0        36.0 -0.288333   \n",
       "\n",
       "            usd_diff_1  euro_diff_1  \n",
       "Дата                                 \n",
       "2010-09-05         NaN          NaN  \n",
       "2010-09-12    -0.03277    -0.088685  "
      ]
     },
     "execution_count": 36,
     "metadata": {},
     "output_type": "execute_result"
    }
   ],
   "source": [
    "data_w = pd.concat([data_w, data_usd.usd_diff_1, data_eu.euro_diff_1], axis=1)\n",
    "TARGET_NAME = 'Значение'\n",
    "data_w.head(2)"
   ]
  },
  {
   "cell_type": "markdown",
   "metadata": {},
   "source": [
    "### Задание 4.\n",
    "Постройте модель предсказания 1-й точки от текущей (h=1)."
   ]
  },
  {
   "cell_type": "code",
   "execution_count": 37,
   "metadata": {},
   "outputs": [],
   "source": [
    "t = 100 #отступ"
   ]
  },
  {
   "cell_type": "code",
   "execution_count": 38,
   "metadata": {},
   "outputs": [
    {
     "data": {
      "image/png": "[encoded data removed]",
      "text/plain": [
       "<Figure size 1080x288 with 2 Axes>"
      ]
     },
     "metadata": {
      "needs_background": "light"
     },
     "output_type": "display_data"
    }
   ],
   "source": [
    "fig, axes = plt.subplots(1, 2, figsize=(15, 4))\n",
    "lag = 15\n",
    "\n",
    "sm.graphics.tsa.plot_acf(data_w[TARGET_NAME].values[t:], lags=lag, ax=axes[0])\n",
    "sm.graphics.tsa.plot_pacf(data_w[TARGET_NAME].values[t:], lags=lag, ax=axes[1])\n",
    "plt.show()"
   ]
  },
  {
   "cell_type": "markdown",
   "metadata": {},
   "source": [
    "#### Генерация новых признаков"
   ]
  },
  {
   "cell_type": "code",
   "execution_count": 39,
   "metadata": {},
   "outputs": [
    {
     "data": {
      "text/html": [
       "<div>\n",
       "<style scoped>\n",
       "    .dataframe tbody tr th:only-of-type {\n",
       "        vertical-align: middle;\n",
       "    }\n",
       "\n",
       "    .dataframe tbody tr th {\n",
       "        vertical-align: top;\n",
       "    }\n",
       "\n",
       "    .dataframe thead th {\n",
       "        text-align: right;\n",
       "    }\n",
       "</style>\n",
       "<table border=\"1\" class=\"dataframe\">\n",
       "  <thead>\n",
       "    <tr style=\"text-align: right;\">\n",
       "      <th></th>\n",
       "      <th>Значение</th>\n",
       "      <th>year</th>\n",
       "      <th>month</th>\n",
       "      <th>quarter</th>\n",
       "      <th>weekofyear</th>\n",
       "      <th>diff_1</th>\n",
       "      <th>usd_diff_1</th>\n",
       "      <th>euro_diff_1</th>\n",
       "      <th>diff_2</th>\n",
       "    </tr>\n",
       "    <tr>\n",
       "      <th>Дата</th>\n",
       "      <th></th>\n",
       "      <th></th>\n",
       "      <th></th>\n",
       "      <th></th>\n",
       "      <th></th>\n",
       "      <th></th>\n",
       "      <th></th>\n",
       "      <th></th>\n",
       "      <th></th>\n",
       "    </tr>\n",
       "  </thead>\n",
       "  <tbody>\n",
       "    <tr>\n",
       "      <th>2010-09-05</th>\n",
       "      <td>76.616000</td>\n",
       "      <td>2010.0</td>\n",
       "      <td>9.0</td>\n",
       "      <td>3.0</td>\n",
       "      <td>35.0</td>\n",
       "      <td>-0.065000</td>\n",
       "      <td>0.00000</td>\n",
       "      <td>0.000000</td>\n",
       "      <td>0.0</td>\n",
       "    </tr>\n",
       "    <tr>\n",
       "      <th>2010-09-12</th>\n",
       "      <td>77.673333</td>\n",
       "      <td>2010.0</td>\n",
       "      <td>9.0</td>\n",
       "      <td>3.0</td>\n",
       "      <td>36.0</td>\n",
       "      <td>-1.057333</td>\n",
       "      <td>-0.03277</td>\n",
       "      <td>-0.088685</td>\n",
       "      <td>0.0</td>\n",
       "    </tr>\n",
       "  </tbody>\n",
       "</table>\n",
       "</div>"
      ],
      "text/plain": [
       "             Значение    year  month  quarter  weekofyear    diff_1  \\\n",
       "Дата                                                                  \n",
       "2010-09-05  76.616000  2010.0    9.0      3.0        35.0 -0.065000   \n",
       "2010-09-12  77.673333  2010.0    9.0      3.0        36.0 -1.057333   \n",
       "\n",
       "            usd_diff_1  euro_diff_1  diff_2  \n",
       "Дата                                         \n",
       "2010-09-05     0.00000     0.000000     0.0  \n",
       "2010-09-12    -0.03277    -0.088685     0.0  "
      ]
     },
     "execution_count": 39,
     "metadata": {},
     "output_type": "execute_result"
    }
   ],
   "source": [
    "data_w.loc[1:, 'diff_1'] = data_w[TARGET_NAME][:-1].values - data_w[TARGET_NAME][1:].values\n",
    "data_w.loc[2:, 'diff_2'] = data_w[TARGET_NAME][:-2].values - data_w[TARGET_NAME][2:].values\n",
    "data_w = data_w.fillna(0)\n",
    "data_w.head(2)"
   ]
  },
  {
   "cell_type": "code",
   "execution_count": 40,
   "metadata": {},
   "outputs": [],
   "source": [
    "INEPENDENT_VARIABLE_NAMES = data_w.columns[1:]"
   ]
  },
  {
   "cell_type": "markdown",
   "metadata": {},
   "source": [
    "#### Разделение данных на обучающую и тестовую выборку"
   ]
  },
  {
   "cell_type": "code",
   "execution_count": 41,
   "metadata": {},
   "outputs": [],
   "source": [
    "def train_test_split(data, split_date, h=1):\n",
    "    ind = data.index\n",
    "    \n",
    "    X = data.loc[ind[:-h], INEPENDENT_VARIABLE_NAMES]    \n",
    "    y = data.loc[ind[h:], TARGET_NAME]    \n",
    "    \n",
    "    df = X\n",
    "    df.loc[:, TARGET_NAME] = y.values\n",
    "    \n",
    "    df_train = df[df.index.get_level_values('Дата') < split_date]\n",
    "    df_test = df[df.index.get_level_values('Дата') >= split_date]    \n",
    "    \n",
    "    return df_train, df_test"
   ]
  },
  {
   "cell_type": "code",
   "execution_count": 42,
   "metadata": {},
   "outputs": [],
   "source": [
    "split_date = '2018-02-02'\n",
    "df_train, df_test = train_test_split(data_w, split_date)"
   ]
  },
  {
   "cell_type": "code",
   "execution_count": 43,
   "metadata": {},
   "outputs": [
    {
     "data": {
      "image/png": "[encoded data removed]",
      "text/plain": [
       "<Figure size 1440x288 with 1 Axes>"
      ]
     },
     "metadata": {
      "needs_background": "light"
     },
     "output_type": "display_data"
    }
   ],
   "source": [
    "plt.figure( figsize=(20, 4))\n",
    "plt.xlabel('Время')\n",
    "plt.ylabel(TARGET_NAME)\n",
    "plt.plot(df_train.index[t:], df_train[TARGET_NAME][t:], label='y_train' )\n",
    "plt.plot(df_test.index, df_test[TARGET_NAME], label='y_test')\n",
    "plt.title(f'{TARGET_NAME} - train & test', size=14)\n",
    "plt.legend()\n",
    "plt.show()"
   ]
  },
  {
   "cell_type": "markdown",
   "metadata": {},
   "source": [
    "#### Отбор признаков"
   ]
  },
  {
   "cell_type": "code",
   "execution_count": 44,
   "metadata": {},
   "outputs": [],
   "source": [
    "def select_variables(X, y, k_best=5, percentile=10):\n",
    "    cols = X.columns\n",
    "    \n",
    "    scaler = StandardScaler()\n",
    "    X = scaler.fit_transform(np.array(X))\n",
    "    y = scaler.fit_transform(np.array(y).reshape(-1, 1))       \n",
    "    \n",
    "    f_test, _ = f_regression(X, y)\n",
    "    f_test /= np.max(f_test)\n",
    "\n",
    "    # KBest\n",
    "    sfk = SelectKBest(f_regression, k=k_best)\n",
    "    sfk.fit_transform(X, y)    \n",
    "    set_1 = list(cols[sfk.get_support()])\n",
    "\n",
    "    # Percentile\n",
    "    sfp = SelectPercentile(f_regression, percentile=percentile)\n",
    "    sfp.fit_transform(X, y)    \n",
    "    set_2 = list(cols[sfp.get_support()])\n",
    "\n",
    "    # Model\n",
    "    model_gb = GradientBoostingRegressor(max_depth=5, random_state=40, n_estimators=100)\n",
    "    model_gb.fit(X, y.ravel())\n",
    "\n",
    "    sfm = SelectFromModel(model_gb,  max_features=k_best)\n",
    "    sfm.fit(X, y.ravel())\n",
    "    sfm.transform(X)    \n",
    "    set_3 = list(cols[sfm.get_support()])\n",
    "\n",
    "    \n",
    "    return list(set(set_1 + set_2 + set_3))"
   ]
  },
  {
   "cell_type": "code",
   "execution_count": 45,
   "metadata": {},
   "outputs": [
    {
     "data": {
      "text/plain": [
       "['quarter', 'year', 'diff_2', 'month', 'diff_1']"
      ]
     },
     "execution_count": 45,
     "metadata": {},
     "output_type": "execute_result"
    }
   ],
   "source": [
    "SELECTED_VARIABLE_NAMES = select_variables(df_train[INEPENDENT_VARIABLE_NAMES], df_train[TARGET_NAME])\n",
    "SELECTED_VARIABLE_NAMES"
   ]
  },
  {
   "cell_type": "markdown",
   "metadata": {},
   "source": [
    "Признаки usd_diff_1\tи euro_diff_1 не отобрались. Добавим их принудительно:"
   ]
  },
  {
   "cell_type": "code",
   "execution_count": 46,
   "metadata": {},
   "outputs": [],
   "source": [
    "SELECTED_VARIABLE_NAMES += ['usd_diff_1', 'euro_diff_1']"
   ]
  },
  {
   "cell_type": "markdown",
   "metadata": {},
   "source": [
    "#### Модель"
   ]
  },
  {
   "cell_type": "code",
   "execution_count": 47,
   "metadata": {},
   "outputs": [],
   "source": [
    "def mean_absolute_percentage_error(y_true, y_pred): \n",
    "    y_true, y_pred = np.array(y_true), np.array(y_pred)\n",
    "    return np.mean(np.abs((y_true - y_pred) / y_true)) * 100"
   ]
  },
  {
   "cell_type": "code",
   "execution_count": 48,
   "metadata": {},
   "outputs": [],
   "source": [
    "def plot_predictions(y, y_pred):\n",
    "    plt.figure( figsize=(15, 4))\n",
    "\n",
    "    plt.xlabel('Время')\n",
    "    plt.ylabel('$US')\n",
    "    plt.plot(df_test.index, y_pred, label='прогноз' )\n",
    "    plt.plot(df_test.index, y, label='факт')\n",
    "    plt.title('Brent, $US', size=14)\n",
    "\n",
    "    plt.legend()\n",
    "    plt.show()"
   ]
  },
  {
   "cell_type": "code",
   "execution_count": 49,
   "metadata": {},
   "outputs": [],
   "source": [
    "def plot_corr_with_lag(y, y_pred, lag=5):\n",
    "    corr_list = [np.corrcoef(y, y_pred)[1,0]]\n",
    "\n",
    "    for i in range(lag):\n",
    "        corr = np.corrcoef(y[:-(i+1)], y_pred[(i+1):])[1,0]\n",
    "        corr_list.append(corr)    \n",
    "\n",
    "    plt.figure(figsize=(8, 4))\n",
    "    plt.plot(corr_list)\n",
    "    plt.xlabel('Лаг корреляции')\n",
    "    plt.ylabel('Коэффициенты корреляции')\n",
    "    plt.title('Корреляция цели и предсказаний с лагом просмотра', size=14)\n",
    "    plt.show()"
   ]
  },
  {
   "cell_type": "markdown",
   "metadata": {},
   "source": [
    "#### Прямое прогнозирование"
   ]
  },
  {
   "cell_type": "code",
   "execution_count": 50,
   "metadata": {},
   "outputs": [
    {
     "name": "stdout",
     "output_type": "stream",
     "text": [
      "mse:\t80.438\n",
      "mae:\t7.329\n",
      "R2:\t-0.649\n",
      "mape:\t10.196%\n"
     ]
    },
    {
     "data": {
      "image/png": "[encoded data removed]",
      "text/plain": [
       "<Figure size 1080x288 with 1 Axes>"
      ]
     },
     "metadata": {
      "needs_background": "light"
     },
     "output_type": "display_data"
    }
   ],
   "source": [
    "model_gb = GradientBoostingRegressor(max_depth=5, random_state=42, n_estimators=100)\n",
    "model_gb.fit(df_train[SELECTED_VARIABLE_NAMES], df_train[TARGET_NAME])\n",
    "\n",
    "y_pred = model_gb.predict(df_test[SELECTED_VARIABLE_NAMES])\n",
    "\n",
    "y = df_test[TARGET_NAME]\n",
    "mse = mean_squared_error(y, y_pred) \n",
    "mae = mean_absolute_error(y, y_pred) \n",
    "R2 = r2_score(y, y_pred)\n",
    "mape = mean_absolute_percentage_error(y, y_pred)\n",
    "print(f'mse:\\t{round(mse, 3)}\\nmae:\\t{round(mae, 3)}\\nR2:\\t{round(R2, 3)}\\nmape:\\t{round(mape, 3)}%')\n",
    "\n",
    "plot_predictions(y, y_pred)"
   ]
  },
  {
   "cell_type": "code",
   "execution_count": 51,
   "metadata": {},
   "outputs": [
    {
     "data": {
      "image/png": "[encoded data removed]",
      "text/plain": [
       "<Figure size 576x288 with 1 Axes>"
      ]
     },
     "metadata": {
      "needs_background": "light"
     },
     "output_type": "display_data"
    }
   ],
   "source": [
    "y = df_test[TARGET_NAME].values\n",
    "plot_corr_with_lag(y, y_pred)"
   ]
  },
  {
   "cell_type": "markdown",
   "metadata": {},
   "source": [
    "#### Модель предсказания 1-й точки от текущей (h=1)"
   ]
  },
  {
   "cell_type": "code",
   "execution_count": 52,
   "metadata": {},
   "outputs": [],
   "source": [
    "def recalculate_df_test(ind): \n",
    "    df_test_rolling = df_test.loc[ind, [TARGET_NAME] + SELECTED_VARIABLE_NAMES] \n",
    "\n",
    "    for i in range(len(ind)):\n",
    "        if i == 1:\n",
    "            value = df_test_rolling.loc[ind[i - 1], TARGET_NAME] - df_test.loc[df_test.index[t0 - 1], TARGET_NAME] \n",
    "            df_test_rolling.loc[ind[i], 'diff_1'] = value            \n",
    "            value = df_test_rolling.loc[ind[i - 1], TARGET_NAME] - df_test.loc[df_test.index[t0 - 2], TARGET_NAME]\n",
    "            df_test_rolling.loc[ind[i], 'diff_2'] = value\n",
    "\n",
    "        y_pred = model_gb.predict(pd.DataFrame(df_test_rolling.loc[ind[i], SELECTED_VARIABLE_NAMES]).T)[0]\n",
    "        df_test_rolling.loc[ind[i], TARGET_NAME] = y_pred\n",
    "\n",
    "    df_test_rolling = df_test_rolling.loc[ind[1]:, :]\n",
    "    \n",
    "    return df_test_rolling"
   ]
  },
  {
   "cell_type": "code",
   "execution_count": 53,
   "metadata": {},
   "outputs": [
    {
     "name": "stdout",
     "output_type": "stream",
     "text": [
      "mape = 8.868%\n"
     ]
    }
   ],
   "source": [
    "predictions_horizon = 1\n",
    "n_samples = 30\n",
    "starting_points = random.sample(range(2, len(y_pred) - predictions_horizon - 1), n_samples)\n",
    "\n",
    "results = []\n",
    "for t0 in starting_points:    \n",
    "    ind = df_test.index[t0 : t0 + predictions_horizon + 1]\n",
    "    df_test_rolling = recalculate_df_test(ind)\n",
    "    \n",
    "    prediction = df_test_rolling.loc[ind[predictions_horizon], TARGET_NAME]\n",
    "    actual = df_test.loc[ind[predictions_horizon], TARGET_NAME]\n",
    "    \n",
    "    result = abs((actual - prediction) / actual * 100)              \n",
    "    results.append(result)\n",
    "    \n",
    "mape = np.array(results).mean()\n",
    "print(f'mape = {round(mape, 3)}%')"
   ]
  },
  {
   "cell_type": "markdown",
   "metadata": {},
   "source": [
    "### Задание 5.\n",
    "Сделайте вывод о поведении ошибки предсказания ряда в сравнении с прямым прогнозированием."
   ]
  },
  {
   "cell_type": "markdown",
   "metadata": {},
   "source": [
    "Разница между ошибкой предсказания ряда с ошибкой прямого прогнозирования не велика"
   ]
  }
 ],
 "metadata": {
  "kernelspec": {
   "display_name": "Python 3",
   "language": "python",
   "name": "python3"
  },
  "language_info": {
   "codemirror_mode": {
    "name": "ipython",
    "version": 3
   },
   "file_extension": ".py",
   "mimetype": "text/x-python",
   "name": "python",
   "nbconvert_exporter": "python",
   "pygments_lexer": "ipython3",
   "version": "3.8.5"
  }
 },
 "nbformat": 4,
 "nbformat_minor": 4
}
