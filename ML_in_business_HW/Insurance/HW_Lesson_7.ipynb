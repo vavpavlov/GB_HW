{
 "cells": [
  {
   "cell_type": "markdown",
   "metadata": {
    "id": "HrxZEq_-FHNq"
   },
   "source": [
    "# Предобработка данных"
   ]
  },
  {
   "cell_type": "code",
   "execution_count": 3,
   "metadata": {
    "colab": {
     "base_uri": "https://localhost:8080/"
    },
    "id": "eu9I-5AQFGy4",
    "outputId": "ebcca45e-e1c8-4bcb-aa9a-f4aa3b772229"
   },
   "outputs": [
    {
     "name": "stdout",
     "output_type": "stream",
     "text": [
      "Mounted at /content/drive\n"
     ]
    }
   ],
   "source": [
    "# Подключение к Google drive\n",
    "\n",
    "from google.colab import drive\n",
    "drive.mount('/content/drive')"
   ]
  },
  {
   "cell_type": "code",
   "execution_count": 1,
   "metadata": {
    "id": "Fj2E6mVkFR10"
   },
   "outputs": [],
   "source": [
    "import numpy as np\n",
    "import pandas as pd\n",
    "import matplotlib.pyplot as plt"
   ]
  },
  {
   "cell_type": "markdown",
   "metadata": {
    "id": "7dox3dTJN5JP"
   },
   "source": [
    "## Специфические преобразования"
   ]
  },
  {
   "cell_type": "code",
   "execution_count": 5,
   "metadata": {
    "id": "v1YFJrQGPYMd"
   },
   "outputs": [],
   "source": [
    "#PATH ='/content/drive/My Drive/мои временные ряды/' "
   ]
  },
  {
   "cell_type": "code",
   "execution_count": 2,
   "metadata": {
    "id": "_Vs8YR9eFgvy"
   },
   "outputs": [],
   "source": [
    "# Загрузим набор данных\n",
    "\n",
    "df = pd.read_csv('freMPL-R.csv', low_memory=False)\n",
    "df = df.loc[df.Dataset.isin([5, 6, 7, 8, 9])]\n",
    "df.drop('Dataset', axis=1, inplace=True)\n",
    "df.dropna(axis=1, how='all', inplace=True)\n",
    "df.drop_duplicates(inplace=True)\n",
    "df.reset_index(drop=True, inplace=True)"
   ]
  },
  {
   "cell_type": "markdown",
   "metadata": {
    "id": "AtfDb_BWWXqQ"
   },
   "source": [
    "В предыдущем уроке мы заметили отрицательную величину убытка для некоторых наблюдений. Заметим, что для всех таких полисов переменная \"ClaimInd\" принимает только значение 0. Поэтому заменим все соответствующие значения \"ClaimAmount\" нулями."
   ]
  },
  {
   "cell_type": "code",
   "execution_count": 3,
   "metadata": {
    "colab": {
     "base_uri": "https://localhost:8080/",
     "height": 221
    },
    "id": "AklwJWsoWnAV",
    "outputId": "5a57e9ec-f0ab-4857-d66b-58227c1fda2b"
   },
   "outputs": [
    {
     "name": "stdout",
     "output_type": "stream",
     "text": [
      "Unique values of ClaimInd: [0]\n"
     ]
    },
    {
     "data": {
      "text/html": [
       "<div>\n",
       "<style scoped>\n",
       "    .dataframe tbody tr th:only-of-type {\n",
       "        vertical-align: middle;\n",
       "    }\n",
       "\n",
       "    .dataframe tbody tr th {\n",
       "        vertical-align: top;\n",
       "    }\n",
       "\n",
       "    .dataframe thead th {\n",
       "        text-align: right;\n",
       "    }\n",
       "</style>\n",
       "<table border=\"1\" class=\"dataframe\">\n",
       "  <thead>\n",
       "    <tr style=\"text-align: right;\">\n",
       "      <th></th>\n",
       "      <th>ClaimAmount</th>\n",
       "      <th>ClaimInd</th>\n",
       "    </tr>\n",
       "  </thead>\n",
       "  <tbody>\n",
       "    <tr>\n",
       "      <th>82</th>\n",
       "      <td>-74.206042</td>\n",
       "      <td>0</td>\n",
       "    </tr>\n",
       "    <tr>\n",
       "      <th>175</th>\n",
       "      <td>-1222.585196</td>\n",
       "      <td>0</td>\n",
       "    </tr>\n",
       "    <tr>\n",
       "      <th>177</th>\n",
       "      <td>-316.288822</td>\n",
       "      <td>0</td>\n",
       "    </tr>\n",
       "    <tr>\n",
       "      <th>363</th>\n",
       "      <td>-666.758610</td>\n",
       "      <td>0</td>\n",
       "    </tr>\n",
       "    <tr>\n",
       "      <th>375</th>\n",
       "      <td>-1201.600604</td>\n",
       "      <td>0</td>\n",
       "    </tr>\n",
       "  </tbody>\n",
       "</table>\n",
       "</div>"
      ],
      "text/plain": [
       "     ClaimAmount  ClaimInd\n",
       "82    -74.206042         0\n",
       "175 -1222.585196         0\n",
       "177  -316.288822         0\n",
       "363  -666.758610         0\n",
       "375 -1201.600604         0"
      ]
     },
     "execution_count": 3,
     "metadata": {},
     "output_type": "execute_result"
    }
   ],
   "source": [
    "NegClaimAmount = df.loc[df.ClaimAmount < 0, ['ClaimAmount','ClaimInd']]\n",
    "print('Unique values of ClaimInd:', NegClaimAmount.ClaimInd.unique())\n",
    "NegClaimAmount.head()"
   ]
  },
  {
   "cell_type": "code",
   "execution_count": 4,
   "metadata": {
    "id": "R7laRWoCYF4V"
   },
   "outputs": [],
   "source": [
    "df.loc[df.ClaimAmount < 0, 'ClaimAmount'] = 0"
   ]
  },
  {
   "cell_type": "markdown",
   "metadata": {
    "id": "XE_3dSsW3J3X"
   },
   "source": [
    "Для моделирования частоты убытков сгенерируем показатель как сумму индикатора того, что убыток произошел (\"ClaimInd\") и количества заявленных убытков по различным видам ущерба за 4 предшествующих года (\"ClaimNbResp\", \"ClaimNbNonResp\", \"ClaimNbParking\", \"ClaimNbFireTheft\", \"ClaimNbWindscreen\").\n",
    "\n",
    "В случаях, если соответствующая величина убытка равняется нулю, сгенерированную частоту также обнулим."
   ]
  },
  {
   "cell_type": "code",
   "execution_count": 5,
   "metadata": {
    "id": "R6rz5Oko3rbr"
   },
   "outputs": [],
   "source": [
    "df['ClaimsCount'] = df.ClaimInd + df.ClaimNbResp + df.ClaimNbNonResp + df.ClaimNbParking + df.ClaimNbFireTheft + df.ClaimNbWindscreen\n",
    "df.loc[df.ClaimAmount == 0, 'ClaimsCount'] = 0\n",
    "df.drop([\"ClaimNbResp\", \"ClaimNbNonResp\", \"ClaimNbParking\", \"ClaimNbFireTheft\", \"ClaimNbWindscreen\"], axis=1, inplace=True)"
   ]
  },
  {
   "cell_type": "code",
   "execution_count": 6,
   "metadata": {
    "colab": {
     "base_uri": "https://localhost:8080/",
     "height": 390
    },
    "id": "cJ5_aqnx4FcZ",
    "outputId": "734f2234-3112-40d2-e980-f50fd64816cd"
   },
   "outputs": [
    {
     "data": {
      "text/html": [
       "<div>\n",
       "<style scoped>\n",
       "    .dataframe tbody tr th:only-of-type {\n",
       "        vertical-align: middle;\n",
       "    }\n",
       "\n",
       "    .dataframe tbody tr th {\n",
       "        vertical-align: top;\n",
       "    }\n",
       "\n",
       "    .dataframe thead th {\n",
       "        text-align: right;\n",
       "    }\n",
       "</style>\n",
       "<table border=\"1\" class=\"dataframe\">\n",
       "  <thead>\n",
       "    <tr style=\"text-align: right;\">\n",
       "      <th></th>\n",
       "      <th>Policies</th>\n",
       "    </tr>\n",
       "  </thead>\n",
       "  <tbody>\n",
       "    <tr>\n",
       "      <th>0.0</th>\n",
       "      <td>104286</td>\n",
       "    </tr>\n",
       "    <tr>\n",
       "      <th>2.0</th>\n",
       "      <td>3529</td>\n",
       "    </tr>\n",
       "    <tr>\n",
       "      <th>1.0</th>\n",
       "      <td>3339</td>\n",
       "    </tr>\n",
       "    <tr>\n",
       "      <th>3.0</th>\n",
       "      <td>2310</td>\n",
       "    </tr>\n",
       "    <tr>\n",
       "      <th>4.0</th>\n",
       "      <td>1101</td>\n",
       "    </tr>\n",
       "    <tr>\n",
       "      <th>5.0</th>\n",
       "      <td>428</td>\n",
       "    </tr>\n",
       "    <tr>\n",
       "      <th>6.0</th>\n",
       "      <td>127</td>\n",
       "    </tr>\n",
       "    <tr>\n",
       "      <th>7.0</th>\n",
       "      <td>26</td>\n",
       "    </tr>\n",
       "    <tr>\n",
       "      <th>8.0</th>\n",
       "      <td>6</td>\n",
       "    </tr>\n",
       "    <tr>\n",
       "      <th>9.0</th>\n",
       "      <td>2</td>\n",
       "    </tr>\n",
       "    <tr>\n",
       "      <th>11.0</th>\n",
       "      <td>1</td>\n",
       "    </tr>\n",
       "  </tbody>\n",
       "</table>\n",
       "</div>"
      ],
      "text/plain": [
       "      Policies\n",
       "0.0     104286\n",
       "2.0       3529\n",
       "1.0       3339\n",
       "3.0       2310\n",
       "4.0       1101\n",
       "5.0        428\n",
       "6.0        127\n",
       "7.0         26\n",
       "8.0          6\n",
       "9.0          2\n",
       "11.0         1"
      ]
     },
     "execution_count": 6,
     "metadata": {},
     "output_type": "execute_result"
    }
   ],
   "source": [
    "pd.DataFrame(df.ClaimsCount.value_counts()).rename({'ClaimsCount': 'Policies'}, axis=1)"
   ]
  },
  {
   "cell_type": "code",
   "execution_count": 7,
   "metadata": {
    "colab": {
     "base_uri": "https://localhost:8080/",
     "height": 281
    },
    "id": "A0zvYuoZ4gcH",
    "outputId": "d7e7d71d-e700-4bfa-d6a4-9c4160ae20b7"
   },
   "outputs": [
    {
     "data": {
      "image/png": "[encoded data removed]",
      "text/plain": [
       "<Figure size 432x288 with 1 Axes>"
      ]
     },
     "metadata": {
      "needs_background": "light"
     },
     "output_type": "display_data"
    }
   ],
   "source": [
    "\n",
    "import seaborn as sns\n",
    "plt.plot(df['ClaimsCount'],df['ClaimAmount'], '.r')\n",
    "plt.title('Зависимость между частотой и величиной убытков')\n",
    "plt.show()"
   ]
  },
  {
   "cell_type": "markdown",
   "metadata": {
    "id": "iCZAeoll6xac"
   },
   "source": [
    "Для моделирования среднего убытка можем рассчитать его как отношение величины убытков к их частоте."
   ]
  },
  {
   "cell_type": "code",
   "execution_count": 8,
   "metadata": {
    "id": "y9AKwYtU6x1i"
   },
   "outputs": [],
   "source": [
    "df.loc[df.ClaimsCount > 0, 'AvgClaim'] = df['ClaimAmount']/df['ClaimsCount']"
   ]
  },
  {
   "cell_type": "markdown",
   "metadata": {
    "id": "oR02DxanOGDk"
   },
   "source": [
    "## Общие преобразования"
   ]
  },
  {
   "cell_type": "markdown",
   "metadata": {
    "id": "JbIX5hsRR2qA"
   },
   "source": [
    "Класс для общих случаев"
   ]
  },
  {
   "cell_type": "code",
   "execution_count": 9,
   "metadata": {
    "id": "Yam47yC5KkWF"
   },
   "outputs": [],
   "source": [
    "class InsDataFrame:\n",
    "\n",
    "\n",
    "    ''' Load data method '''\n",
    "\n",
    "    def load_pd(self, pd_dataframe):\n",
    "        self._df = pd_dataframe\n",
    "\n",
    "\n",
    "    ''' Columns match method '''\n",
    "\n",
    "    def columns_match(self, match_from_to):\n",
    "        self._df.rename(columns=match_from_to, inplace=True)\n",
    "\n",
    "\n",
    "    ''' Person data methods '''\n",
    "\n",
    "    # Gender\n",
    "    _gender_dict = {'Male':0, 'Female':1}\n",
    "\n",
    "    def transform_gender(self):\n",
    "        self._df['Gender'] = self._df['Gender'].map(self._gender_dict)\n",
    "\n",
    "        \n",
    "\n",
    "    # Age\n",
    "    @staticmethod\n",
    "    def _age(age, age_max):\n",
    "        if pd.isnull(age):\n",
    "            age = None\n",
    "        elif age < 18:\n",
    "            age = None\n",
    "        elif age > age_max:\n",
    "            age = age_max\n",
    "        return age\n",
    "      \n",
    "    def transform_age(self, age_max=70):\n",
    "        self._df['driver_minage'] = self._df['driver_minage'].apply(self._age, args=(age_max,))\n",
    "\n",
    "    # Age M/F\n",
    "    @staticmethod\n",
    "    def _age_gender(age_gender):\n",
    "        _age = age_gender[0]\n",
    "        _gender = age_gender[1]\n",
    "        if _gender == 0: #Male\n",
    "            _driver_minage_m = _age\n",
    "            _driver_minage_f = 18\n",
    "        elif _gender == 1: #Female\n",
    "            _driver_minage_m = 18\n",
    "            _driver_minage_f = _age\n",
    "        else:\n",
    "            _driver_minage_m = 18\n",
    "            _driver_minage_f = 18\n",
    "        return [_driver_minage_m, _driver_minage_f]\n",
    "    \n",
    "    def transform_age_gender(self):\n",
    "        self._df['driver_minage_m'],self._df['driver_minage_f'] = zip(*self._df[['driver_minage','Gender']].apply(self._age_gender, axis=1).to_frame()[0])\n",
    "\n",
    "    # Experience\n",
    "    @staticmethod\n",
    "    def _exp(exp, exp_max):\n",
    "        if pd.isnull(exp):\n",
    "            exp = None\n",
    "        elif exp < 0:\n",
    "            exp = None\n",
    "        elif exp > exp_max:\n",
    "            exp = exp_max\n",
    "        return exp\n",
    "\n",
    "    def transform_exp(self, exp_max=52):\n",
    "        self._df['driver_minexp'] = self._df['driver_minexp'].apply(self._exp, args=(exp_max,))\n",
    "\n",
    "\n",
    "    ''' Other data methods '''\n",
    "\n",
    "    def polynomizer(self, column, n=2):\n",
    "        if column in list(self._df.columns):\n",
    "            for i in range(2,n+1):\n",
    "                self._df[column+'_'+str(i)] = self._df[column]**i\n",
    "\n",
    "    def get_dummies(self, columns):\n",
    "        self._df = pd.get_dummies(self._df, columns=columns)\n",
    "\n",
    "\n",
    "    ''' General methods '''\n",
    "\n",
    "    def info(self):\n",
    "        return self._df.info()\n",
    "\n",
    "    def head(self, columns, n=5):\n",
    "        return self._df.head(n)\n",
    "\n",
    "    def len(self):\n",
    "        return len(self._df)\n",
    "\n",
    "    def get_pd(self, columns):\n",
    "        return self._df[columns]"
   ]
  },
  {
   "cell_type": "markdown",
   "metadata": {
    "id": "4kCFRjwRR7fR"
   },
   "source": [
    "Создаем класс-наследник, в котором переопределяем некоторые методы, специфические для конкретной ситуации, и создаем новые"
   ]
  },
  {
   "cell_type": "markdown",
   "metadata": {
    "id": "vSlx8FxWH9P2"
   },
   "source": [
    "- В данных стаж \"LicAge\" измеряется в неделях.\n",
    "- Фактор \"SocioCateg\" содержит информацию о социальной категории в виде кодов классификации CSP. Агрегируем имеющиеся коды до 1 знака, а затем закодируем их с помощью one-hot encoding.\n",
    "\n",
    "[Wiki](https://fr.wikipedia.org/wiki/Professions_et_cat%C3%A9gories_socioprofessionnelles_en_France#Cr%C3%A9ation_de_la_nomenclature_des_PCS)\n",
    "\n",
    "[Более подробный классификатор](https://www.ast74.fr/upload/administratif/liste-des-codes-csp-copie.pdf)"
   ]
  },
  {
   "cell_type": "code",
   "execution_count": 10,
   "metadata": {
    "id": "iIaUlNP9Kkaa"
   },
   "outputs": [],
   "source": [
    "class InsDataFrame_Fr(InsDataFrame):\n",
    "\n",
    "    # Experience (weeks to years)\n",
    "    @staticmethod\n",
    "    def _exp(exp, exp_max):\n",
    "        if pd.isnull(exp):\n",
    "            exp = None\n",
    "        elif exp < 0:\n",
    "            exp = None\n",
    "        else:\n",
    "            exp * 7 // 365\n",
    "        if exp > exp_max:\n",
    "            exp = exp_max\n",
    "        return exp\n",
    "\n",
    "    # Marital status\n",
    "    _MariStat_dict = {'Other':0, 'Alone':1}\n",
    "\n",
    "    def transform_MariStat(self):\n",
    "        self._df['MariStat'] = self._df['MariStat'].map(self._MariStat_dict)\n",
    "    \n",
    "    # Social category\n",
    "    def transform_SocioCateg(self):\n",
    "        self._df['SocioCateg'] = self._df['SocioCateg'].str.slice(0,4)"
   ]
  },
  {
   "cell_type": "markdown",
   "metadata": {
    "id": "vitxWSSBTafg"
   },
   "source": [
    "Подгружаем данные"
   ]
  },
  {
   "cell_type": "code",
   "execution_count": 11,
   "metadata": {
    "id": "EChIUi3CKkdP"
   },
   "outputs": [],
   "source": [
    "data = InsDataFrame_Fr()"
   ]
  },
  {
   "cell_type": "code",
   "execution_count": 12,
   "metadata": {
    "id": "rrDsfQK8KkhM"
   },
   "outputs": [],
   "source": [
    "data.load_pd(df)"
   ]
  },
  {
   "cell_type": "code",
   "execution_count": 13,
   "metadata": {
    "colab": {
     "base_uri": "https://localhost:8080/"
    },
    "id": "T9A3J4AZUc79",
    "outputId": "a032847a-0723-419b-c2fa-6d28ddd3fa2c"
   },
   "outputs": [
    {
     "name": "stdout",
     "output_type": "stream",
     "text": [
      "<class 'pandas.core.frame.DataFrame'>\n",
      "RangeIndex: 115155 entries, 0 to 115154\n",
      "Data columns (total 17 columns):\n",
      "Exposure       115155 non-null float64\n",
      "LicAge         115155 non-null int64\n",
      "RecordBeg      115155 non-null object\n",
      "RecordEnd      59455 non-null object\n",
      "Gender         115155 non-null object\n",
      "MariStat       115155 non-null object\n",
      "SocioCateg     115155 non-null object\n",
      "VehUsage       115155 non-null object\n",
      "DrivAge        115155 non-null int64\n",
      "HasKmLimit     115155 non-null int64\n",
      "BonusMalus     115155 non-null int64\n",
      "ClaimAmount    115155 non-null float64\n",
      "ClaimInd       115155 non-null int64\n",
      "OutUseNb       115155 non-null float64\n",
      "RiskArea       115155 non-null float64\n",
      "ClaimsCount    115155 non-null float64\n",
      "AvgClaim       10869 non-null float64\n",
      "dtypes: float64(6), int64(5), object(6)\n",
      "memory usage: 14.9+ MB\n"
     ]
    }
   ],
   "source": [
    "data.info()"
   ]
  },
  {
   "cell_type": "markdown",
   "metadata": {
    "id": "QoRagZL0V2gJ"
   },
   "source": [
    "Преобразовываем параметры"
   ]
  },
  {
   "cell_type": "code",
   "execution_count": 14,
   "metadata": {
    "id": "95FE5f2rWG7e"
   },
   "outputs": [],
   "source": [
    "# Переименовываем\n",
    "data.columns_match({'DrivAge':'driver_minage','LicAge':'driver_minexp'})"
   ]
  },
  {
   "cell_type": "code",
   "execution_count": 15,
   "metadata": {
    "id": "EJLDDNW_Uc99"
   },
   "outputs": [],
   "source": [
    "# Преобразовываем\n",
    "data.transform_age()\n",
    "data.transform_exp()\n",
    "data.transform_gender()\n",
    "data.transform_MariStat()\n",
    "data.transform_SocioCateg()"
   ]
  },
  {
   "cell_type": "code",
   "execution_count": 16,
   "metadata": {
    "id": "7ZoN-JXZUdCZ"
   },
   "outputs": [],
   "source": [
    "# Пересечение пола и возраста, их квадраты\n",
    "data.transform_age_gender()\n",
    "data.polynomizer('driver_minage_m')\n",
    "data.polynomizer('driver_minage_f')"
   ]
  },
  {
   "cell_type": "markdown",
   "metadata": {
    "id": "ZdTe9JpiGvt9"
   },
   "source": [
    "Для переменных, содержащих более 2 значений:\n",
    "- либо упорядочиваем значения,\n",
    "- либо используем фиктивные переменные (one-hot encoding).\n",
    "\n",
    "**NB**: В H2O не рекомендуется использовать one-hot encoding. Тем не менее, используем здесь фиктивные переменные, чтобы в дальнейшем сохранить возможность сравнения результатов построенных моделей."
   ]
  },
  {
   "cell_type": "code",
   "execution_count": 17,
   "metadata": {
    "id": "eKCHRXxwUc6j"
   },
   "outputs": [],
   "source": [
    "# Onehot encoding\n",
    "data.get_dummies(['VehUsage','SocioCateg'])"
   ]
  },
  {
   "cell_type": "code",
   "execution_count": 18,
   "metadata": {
    "colab": {
     "base_uri": "https://localhost:8080/"
    },
    "id": "s675sGQtKkYq",
    "outputId": "fa91a96c-7be3-49b1-a415-1ef3d1766c45"
   },
   "outputs": [
    {
     "name": "stdout",
     "output_type": "stream",
     "text": [
      "<class 'pandas.core.frame.DataFrame'>\n",
      "RangeIndex: 115155 entries, 0 to 115154\n",
      "Data columns (total 30 columns):\n",
      "Exposure                           115155 non-null float64\n",
      "driver_minexp                      115155 non-null int64\n",
      "RecordBeg                          115155 non-null object\n",
      "RecordEnd                          59455 non-null object\n",
      "Gender                             115155 non-null int64\n",
      "MariStat                           115155 non-null int64\n",
      "driver_minage                      115155 non-null int64\n",
      "HasKmLimit                         115155 non-null int64\n",
      "BonusMalus                         115155 non-null int64\n",
      "ClaimAmount                        115155 non-null float64\n",
      "ClaimInd                           115155 non-null int64\n",
      "OutUseNb                           115155 non-null float64\n",
      "RiskArea                           115155 non-null float64\n",
      "ClaimsCount                        115155 non-null float64\n",
      "AvgClaim                           10869 non-null float64\n",
      "driver_minage_m                    115155 non-null int64\n",
      "driver_minage_f                    115155 non-null int64\n",
      "driver_minage_m_2                  115155 non-null int64\n",
      "driver_minage_f_2                  115155 non-null int64\n",
      "VehUsage_Private                   115155 non-null uint8\n",
      "VehUsage_Private+trip to office    115155 non-null uint8\n",
      "VehUsage_Professional              115155 non-null uint8\n",
      "VehUsage_Professional run          115155 non-null uint8\n",
      "SocioCateg_CSP1                    115155 non-null uint8\n",
      "SocioCateg_CSP2                    115155 non-null uint8\n",
      "SocioCateg_CSP3                    115155 non-null uint8\n",
      "SocioCateg_CSP4                    115155 non-null uint8\n",
      "SocioCateg_CSP5                    115155 non-null uint8\n",
      "SocioCateg_CSP6                    115155 non-null uint8\n",
      "SocioCateg_CSP7                    115155 non-null uint8\n",
      "dtypes: float64(6), int64(11), object(2), uint8(11)\n",
      "memory usage: 17.9+ MB\n"
     ]
    }
   ],
   "source": [
    "data.info()"
   ]
  },
  {
   "cell_type": "code",
   "execution_count": 19,
   "metadata": {
    "id": "2GplOpk-ZwKo"
   },
   "outputs": [],
   "source": [
    "col_features = [\n",
    "                'driver_minexp',\n",
    "                'Gender',\n",
    "                'MariStat',\n",
    "                'HasKmLimit',\n",
    "                'BonusMalus',\n",
    "                'OutUseNb',\n",
    "                'RiskArea',\n",
    "                'driver_minage_m',\n",
    "                'driver_minage_f',\n",
    "                'driver_minage_m_2',\n",
    "                'driver_minage_f_2',\n",
    "                'VehUsage_Private',\n",
    "                'VehUsage_Private+trip to office',\n",
    "                'VehUsage_Professional',\n",
    "                'VehUsage_Professional run',\n",
    "                'SocioCateg_CSP1',\n",
    "                'SocioCateg_CSP2',\n",
    "                'SocioCateg_CSP3',\n",
    "                'SocioCateg_CSP4',\n",
    "                'SocioCateg_CSP5',\n",
    "                'SocioCateg_CSP6',\n",
    "                'SocioCateg_CSP7'  \n",
    "]"
   ]
  },
  {
   "cell_type": "code",
   "execution_count": 20,
   "metadata": {
    "id": "T6bKm8RBcC1v"
   },
   "outputs": [],
   "source": [
    "col_target = ['ClaimAmount', 'ClaimsCount', 'AvgClaim']"
   ]
  },
  {
   "cell_type": "code",
   "execution_count": 21,
   "metadata": {
    "id": "60BxEUC6dqtO"
   },
   "outputs": [],
   "source": [
    "df_freq = data.get_pd(col_features+col_target)"
   ]
  },
  {
   "cell_type": "code",
   "execution_count": 22,
   "metadata": {
    "id": "G9u4U7-Bd-ob"
   },
   "outputs": [],
   "source": [
    "df_ac = df_freq[df_freq['ClaimsCount'] > 0].reset_index().copy()"
   ]
  },
  {
   "cell_type": "markdown",
   "metadata": {
    "id": "VpYxkXdrLD01"
   },
   "source": [
    "## Разделение набора данных на обучающую, валидационную и тестовую выборки"
   ]
  },
  {
   "cell_type": "code",
   "execution_count": 23,
   "metadata": {
    "id": "piO1n8o2LFAJ"
   },
   "outputs": [],
   "source": [
    "from sklearn.model_selection import train_test_split"
   ]
  },
  {
   "cell_type": "code",
   "execution_count": 24,
   "metadata": {
    "id": "dGvhYDXdLFoR"
   },
   "outputs": [],
   "source": [
    "# Разбиение датасета для частоты на train/val/test\n",
    "\n",
    "x_train_c, x_test_c, y_train_c, y_test_c = train_test_split(df_freq[col_features], df_freq.ClaimsCount, test_size=0.3, random_state=1)\n",
    "x_valid_c, x_test_c, y_valid_c, y_test_c = train_test_split(x_test_c, y_test_c, test_size=0.5, random_state=1)"
   ]
  },
  {
   "cell_type": "code",
   "execution_count": 25,
   "metadata": {
    "id": "XBBJ06RA96Xk"
   },
   "outputs": [],
   "source": [
    "# Разбиение датасета для среднего убытка на train/val/test \n",
    "\n",
    "x_train_ac, x_test_ac, y_train_ac, y_test_ac = train_test_split(df_ac[col_features], df_ac.AvgClaim, test_size=0.3, random_state=1)\n",
    "x_valid_ac, x_test_ac, y_valid_ac, y_test_ac = train_test_split(x_test_ac, y_test_ac, test_size=0.5, random_state=1)"
   ]
  },
  {
   "cell_type": "markdown",
   "metadata": {
    "id": "HvHOPcoEfira"
   },
   "source": [
    "Ссылки на H2O\n",
    "\n",
    "https://deeplearningrussia.wordpress.com/2019/10/12/intro-to-h2o-ai/\n",
    "\n",
    "\n",
    "https://docs.h2o.ai/h2o/latest-stable/h2o-docs/data-science/glm.html"
   ]
  },
  {
   "cell_type": "markdown",
   "metadata": {
    "id": "fKCG1lssMNA7"
   },
   "source": [
    "## Установка H2O на Google Colaboratory и инициализация"
   ]
  },
  {
   "cell_type": "code",
   "execution_count": 27,
   "metadata": {
    "colab": {
     "base_uri": "https://localhost:8080/"
    },
    "id": "XgOdDSP-gXCd",
    "outputId": "08e13732-7c74-4ddc-bea1-61b81a36427c"
   },
   "outputs": [
    {
     "name": "stdout",
     "output_type": "stream",
     "text": [
      "[sudo] password for vavpavlov: \n"
     ]
    }
   ],
   "source": [
    "!sudo apt-get install default-jre"
   ]
  },
  {
   "cell_type": "code",
   "execution_count": 29,
   "metadata": {
    "colab": {
     "base_uri": "https://localhost:8080/"
    },
    "id": "pvu-Rs1GMl0a",
    "outputId": "2c24b3a8-7e59-4405-97a9-e3ff853a0481"
   },
   "outputs": [
    {
     "name": "stdout",
     "output_type": "stream",
     "text": [
      "openjdk version \"11.0.9.1\" 2020-11-04\r\n",
      "OpenJDK Runtime Environment (build 11.0.9.1+1-Ubuntu-0ubuntu1.20.04)\r\n",
      "OpenJDK 64-Bit Server VM (build 11.0.9.1+1-Ubuntu-0ubuntu1.20.04, mixed mode, sharing)\r\n"
     ]
    }
   ],
   "source": [
    "!java -version"
   ]
  },
  {
   "cell_type": "code",
   "execution_count": 30,
   "metadata": {
    "colab": {
     "base_uri": "https://localhost:8080/"
    },
    "id": "oTpLqa_sgJH4",
    "outputId": "134dc167-962a-469d-f033-ecb67effdaa5"
   },
   "outputs": [
    {
     "name": "stdout",
     "output_type": "stream",
     "text": [
      "Defaulting to user installation because normal site-packages is not writeable\n",
      "Requirement already satisfied: h2o in /home/vavpavlov/.local/lib/python3.8/site-packages (3.30.1.3)\n",
      "Requirement already satisfied: requests in /home/vavpavlov/.local/lib/python3.8/site-packages (from h2o) (2.24.0)\n",
      "Requirement already satisfied: tabulate in /home/vavpavlov/.local/lib/python3.8/site-packages (from h2o) (0.8.7)\n",
      "Requirement already satisfied: future in /usr/lib/python3/dist-packages (from h2o) (0.18.2)\n",
      "Requirement already satisfied: colorama>=0.3.8 in /usr/lib/python3/dist-packages (from h2o) (0.4.3)\n",
      "Requirement already satisfied: certifi>=2017.4.17 in /home/vavpavlov/.local/lib/python3.8/site-packages (from requests->h2o) (2020.6.20)\n",
      "Requirement already satisfied: chardet<4,>=3.0.2 in /usr/lib/python3/dist-packages (from requests->h2o) (3.0.4)\n",
      "Requirement already satisfied: urllib3!=1.25.0,!=1.25.1,<1.26,>=1.21.1 in /usr/lib/python3/dist-packages (from requests->h2o) (1.25.8)\n",
      "Requirement already satisfied: idna<3,>=2.5 in /usr/lib/python3/dist-packages (from requests->h2o) (2.8)\n"
     ]
    }
   ],
   "source": [
    "!pip install h2o"
   ]
  },
  {
   "cell_type": "code",
   "execution_count": 31,
   "metadata": {
    "colab": {
     "base_uri": "https://localhost:8080/",
     "height": 545
    },
    "id": "KSdsMa-agl-6",
    "outputId": "fb471c36-8de5-4b87-b407-3ec789923e1a"
   },
   "outputs": [
    {
     "name": "stdout",
     "output_type": "stream",
     "text": [
      "Checking whether there is an H2O instance running at http://localhost:54321 . connected.\n"
     ]
    },
    {
     "data": {
      "text/html": [
       "<div style=\"overflow:auto\"><table style=\"width:50%\"><tr><td>H2O_cluster_uptime:</td>\n",
       "<td>16 hours 34 mins</td></tr>\n",
       "<tr><td>H2O_cluster_timezone:</td>\n",
       "<td>Asia/Krasnoyarsk</td></tr>\n",
       "<tr><td>H2O_data_parsing_timezone:</td>\n",
       "<td>UTC</td></tr>\n",
       "<tr><td>H2O_cluster_version:</td>\n",
       "<td>3.30.1.3</td></tr>\n",
       "<tr><td>H2O_cluster_version_age:</td>\n",
       "<td>1 month and 22 days </td></tr>\n",
       "<tr><td>H2O_cluster_name:</td>\n",
       "<td>H2O_from_python_vavpavlov_jc6khe</td></tr>\n",
       "<tr><td>H2O_cluster_total_nodes:</td>\n",
       "<td>1</td></tr>\n",
       "<tr><td>H2O_cluster_free_memory:</td>\n",
       "<td>1.928 Gb</td></tr>\n",
       "<tr><td>H2O_cluster_total_cores:</td>\n",
       "<td>4</td></tr>\n",
       "<tr><td>H2O_cluster_allowed_cores:</td>\n",
       "<td>4</td></tr>\n",
       "<tr><td>H2O_cluster_status:</td>\n",
       "<td>locked, healthy</td></tr>\n",
       "<tr><td>H2O_connection_url:</td>\n",
       "<td>http://localhost:54321</td></tr>\n",
       "<tr><td>H2O_connection_proxy:</td>\n",
       "<td>{\"http\": null, \"https\": null}</td></tr>\n",
       "<tr><td>H2O_internal_security:</td>\n",
       "<td>False</td></tr>\n",
       "<tr><td>H2O_API_Extensions:</td>\n",
       "<td>Amazon S3, XGBoost, Algos, AutoML, Core V3, TargetEncoder, Core V4</td></tr>\n",
       "<tr><td>Python_version:</td>\n",
       "<td>3.8.5 final</td></tr></table></div>"
      ],
      "text/plain": [
       "--------------------------  ------------------------------------------------------------------\n",
       "H2O_cluster_uptime:         16 hours 34 mins\n",
       "H2O_cluster_timezone:       Asia/Krasnoyarsk\n",
       "H2O_data_parsing_timezone:  UTC\n",
       "H2O_cluster_version:        3.30.1.3\n",
       "H2O_cluster_version_age:    1 month and 22 days\n",
       "H2O_cluster_name:           H2O_from_python_vavpavlov_jc6khe\n",
       "H2O_cluster_total_nodes:    1\n",
       "H2O_cluster_free_memory:    1.928 Gb\n",
       "H2O_cluster_total_cores:    4\n",
       "H2O_cluster_allowed_cores:  4\n",
       "H2O_cluster_status:         locked, healthy\n",
       "H2O_connection_url:         http://localhost:54321\n",
       "H2O_connection_proxy:       {\"http\": null, \"https\": null}\n",
       "H2O_internal_security:      False\n",
       "H2O_API_Extensions:         Amazon S3, XGBoost, Algos, AutoML, Core V3, TargetEncoder, Core V4\n",
       "Python_version:             3.8.5 final\n",
       "--------------------------  ------------------------------------------------------------------"
      ]
     },
     "metadata": {},
     "output_type": "display_data"
    }
   ],
   "source": [
    "import h2o\n",
    "from h2o.estimators.glm import H2OGeneralizedLinearEstimator\n",
    "h2o.init()"
   ]
  },
  {
   "cell_type": "markdown",
   "metadata": {
    "id": "YttnrY4wMqu3"
   },
   "source": [
    "## Построение GLM для частоты страховых случаев"
   ]
  },
  {
   "cell_type": "code",
   "execution_count": 32,
   "metadata": {
    "colab": {
     "base_uri": "https://localhost:8080/"
    },
    "id": "r-BqsBNx_zIH",
    "outputId": "841035f1-3312-4872-ae45-6c882df82b87"
   },
   "outputs": [
    {
     "name": "stdout",
     "output_type": "stream",
     "text": [
      "Parse progress: |█████████████████████████████████████████████████████████| 100%\n",
      "Parse progress: |█████████████████████████████████████████████████████████| 100%\n",
      "Parse progress: |█████████████████████████████████████████████████████████| 100%\n"
     ]
    }
   ],
   "source": [
    "# Преобразование в H2O-Frame\n",
    "\n",
    "h2o_train_c = h2o.H2OFrame(pd.concat([x_train_c, y_train_c], axis=1))\n",
    "h2o_valid_c = h2o.H2OFrame(pd.concat([x_valid_c, y_valid_c], axis=1))\n",
    "h2o_test_c = h2o.H2OFrame(pd.concat([x_test_c, y_test_c], axis=1))"
   ]
  },
  {
   "cell_type": "code",
   "execution_count": 33,
   "metadata": {
    "colab": {
     "base_uri": "https://localhost:8080/"
    },
    "id": "GarP9wfMgmiP",
    "outputId": "9293432e-1a88-463a-aba1-222a02945eb4"
   },
   "outputs": [
    {
     "name": "stdout",
     "output_type": "stream",
     "text": [
      "glm Model Build progress: |███████████████████████████████████████████████| 100%\n"
     ]
    }
   ],
   "source": [
    "# Инициализируем и обучим GLM модель c кросс-валидацией\n",
    "\n",
    "glm_poisson = H2OGeneralizedLinearEstimator(family = \"poisson\", link = \"Log\", nfolds=5)\n",
    "glm_poisson.train(y=\"ClaimsCount\", x = h2o_train_c.names[1:-1], training_frame = h2o_train_c, validation_frame = h2o_valid_c)"
   ]
  },
  {
   "cell_type": "code",
   "execution_count": 34,
   "metadata": {
    "colab": {
     "base_uri": "https://localhost:8080/",
     "height": 185
    },
    "id": "10JsIABsBwxq",
    "outputId": "b90b097b-17e7-4e45-f688-830013e9af60"
   },
   "outputs": [
    {
     "name": "stdout",
     "output_type": "stream",
     "text": [
      "\n",
      "GLM Model: summary\n"
     ]
    },
    {
     "data": {
      "text/html": [
       "<div>\n",
       "<style scoped>\n",
       "    .dataframe tbody tr th:only-of-type {\n",
       "        vertical-align: middle;\n",
       "    }\n",
       "\n",
       "    .dataframe tbody tr th {\n",
       "        vertical-align: top;\n",
       "    }\n",
       "\n",
       "    .dataframe thead th {\n",
       "        text-align: right;\n",
       "    }\n",
       "</style>\n",
       "<table border=\"1\" class=\"dataframe\">\n",
       "  <thead>\n",
       "    <tr style=\"text-align: right;\">\n",
       "      <th></th>\n",
       "      <th></th>\n",
       "      <th>family</th>\n",
       "      <th>link</th>\n",
       "      <th>regularization</th>\n",
       "      <th>number_of_predictors_total</th>\n",
       "      <th>number_of_active_predictors</th>\n",
       "      <th>number_of_iterations</th>\n",
       "      <th>training_frame</th>\n",
       "    </tr>\n",
       "  </thead>\n",
       "  <tbody>\n",
       "    <tr>\n",
       "      <th>0</th>\n",
       "      <td></td>\n",
       "      <td>poisson</td>\n",
       "      <td>log</td>\n",
       "      <td>Elastic Net (alpha = 0.5, lambda = 9.667E-5 )</td>\n",
       "      <td>21</td>\n",
       "      <td>19</td>\n",
       "      <td>3</td>\n",
       "      <td>Key_Frame__upload_aea6bfac7284ed0b7fa8819546d94f2a.hex</td>\n",
       "    </tr>\n",
       "  </tbody>\n",
       "</table>\n",
       "</div>"
      ],
      "text/plain": [
       "      family link                                 regularization  \\\n",
       "0    poisson  log  Elastic Net (alpha = 0.5, lambda = 9.667E-5 )   \n",
       "\n",
       "   number_of_predictors_total number_of_active_predictors  \\\n",
       "0                          21                          19   \n",
       "\n",
       "   number_of_iterations  \\\n",
       "0                     3   \n",
       "\n",
       "                                           training_frame  \n",
       "0  Key_Frame__upload_aea6bfac7284ed0b7fa8819546d94f2a.hex  "
      ]
     },
     "metadata": {},
     "output_type": "display_data"
    },
    {
     "data": {
      "text/plain": []
     },
     "execution_count": 34,
     "metadata": {},
     "output_type": "execute_result"
    }
   ],
   "source": [
    "# Параметры модели: распределение, функция связи, гиперпараметры регуляризации, количество использованных объясняющих переменных\n",
    "\n",
    "glm_poisson.summary()"
   ]
  },
  {
   "cell_type": "code",
   "execution_count": 35,
   "metadata": {
    "colab": {
     "base_uri": "https://localhost:8080/",
     "height": 297
    },
    "id": "tKL0w-LECQ2G",
    "outputId": "ac16866e-2717-4ae1-bfa1-c9939093078d"
   },
   "outputs": [
    {
     "data": {
      "text/html": [
       "<div>\n",
       "<style scoped>\n",
       "    .dataframe tbody tr th:only-of-type {\n",
       "        vertical-align: middle;\n",
       "    }\n",
       "\n",
       "    .dataframe tbody tr th {\n",
       "        vertical-align: top;\n",
       "    }\n",
       "\n",
       "    .dataframe thead th {\n",
       "        text-align: right;\n",
       "    }\n",
       "</style>\n",
       "<table border=\"1\" class=\"dataframe\">\n",
       "  <thead>\n",
       "    <tr style=\"text-align: right;\">\n",
       "      <th></th>\n",
       "      <th></th>\n",
       "      <th>mean</th>\n",
       "      <th>sd</th>\n",
       "      <th>cv_1_valid</th>\n",
       "      <th>cv_2_valid</th>\n",
       "      <th>cv_3_valid</th>\n",
       "      <th>cv_4_valid</th>\n",
       "      <th>cv_5_valid</th>\n",
       "    </tr>\n",
       "  </thead>\n",
       "  <tbody>\n",
       "    <tr>\n",
       "      <th>0</th>\n",
       "      <td>mae</td>\n",
       "      <td>0.3910256</td>\n",
       "      <td>0.004338928</td>\n",
       "      <td>0.39085978</td>\n",
       "      <td>0.38801068</td>\n",
       "      <td>0.38577974</td>\n",
       "      <td>0.3964968</td>\n",
       "      <td>0.39398104</td>\n",
       "    </tr>\n",
       "    <tr>\n",
       "      <th>1</th>\n",
       "      <td>mean_residual_deviance</td>\n",
       "      <td>1.0615549</td>\n",
       "      <td>0.021329349</td>\n",
       "      <td>1.0536928</td>\n",
       "      <td>1.0540658</td>\n",
       "      <td>1.0361779</td>\n",
       "      <td>1.0926073</td>\n",
       "      <td>1.0712306</td>\n",
       "    </tr>\n",
       "    <tr>\n",
       "      <th>2</th>\n",
       "      <td>mse</td>\n",
       "      <td>0.58868635</td>\n",
       "      <td>0.021144934</td>\n",
       "      <td>0.588183</td>\n",
       "      <td>0.58490556</td>\n",
       "      <td>0.56055784</td>\n",
       "      <td>0.6200152</td>\n",
       "      <td>0.5897702</td>\n",
       "    </tr>\n",
       "    <tr>\n",
       "      <th>3</th>\n",
       "      <td>null_deviance</td>\n",
       "      <td>17458.418</td>\n",
       "      <td>382.66766</td>\n",
       "      <td>17276.65</td>\n",
       "      <td>17109.055</td>\n",
       "      <td>17188.822</td>\n",
       "      <td>17995.498</td>\n",
       "      <td>17722.064</td>\n",
       "    </tr>\n",
       "    <tr>\n",
       "      <th>4</th>\n",
       "      <td>r2</td>\n",
       "      <td>0.008001878</td>\n",
       "      <td>0.0019731733</td>\n",
       "      <td>0.011159759</td>\n",
       "      <td>0.007915487</td>\n",
       "      <td>0.005843424</td>\n",
       "      <td>0.007036326</td>\n",
       "      <td>0.008054394</td>\n",
       "    </tr>\n",
       "    <tr>\n",
       "      <th>5</th>\n",
       "      <td>residual_deviance</td>\n",
       "      <td>17114.006</td>\n",
       "      <td>392.31204</td>\n",
       "      <td>16832.744</td>\n",
       "      <td>16774.404</td>\n",
       "      <td>16910.422</td>\n",
       "      <td>17667.46</td>\n",
       "      <td>17385.002</td>\n",
       "    </tr>\n",
       "    <tr>\n",
       "      <th>6</th>\n",
       "      <td>rmse</td>\n",
       "      <td>0.76716036</td>\n",
       "      <td>0.013756928</td>\n",
       "      <td>0.7669309</td>\n",
       "      <td>0.7647912</td>\n",
       "      <td>0.74870414</td>\n",
       "      <td>0.78741044</td>\n",
       "      <td>0.76796496</td>\n",
       "    </tr>\n",
       "    <tr>\n",
       "      <th>7</th>\n",
       "      <td>rmsle</td>\n",
       "      <td>0.35903785</td>\n",
       "      <td>0.0035807558</td>\n",
       "      <td>0.3579599</td>\n",
       "      <td>0.35716888</td>\n",
       "      <td>0.35483143</td>\n",
       "      <td>0.3639093</td>\n",
       "      <td>0.36131978</td>\n",
       "    </tr>\n",
       "  </tbody>\n",
       "</table>\n",
       "</div>"
      ],
      "text/plain": [
       "                                  mean            sd   cv_1_valid  \\\n",
       "0                     mae    0.3910256   0.004338928   0.39085978   \n",
       "1  mean_residual_deviance    1.0615549   0.021329349    1.0536928   \n",
       "2                     mse   0.58868635   0.021144934     0.588183   \n",
       "3           null_deviance    17458.418     382.66766     17276.65   \n",
       "4                      r2  0.008001878  0.0019731733  0.011159759   \n",
       "5       residual_deviance    17114.006     392.31204    16832.744   \n",
       "6                    rmse   0.76716036   0.013756928    0.7669309   \n",
       "7                   rmsle   0.35903785  0.0035807558    0.3579599   \n",
       "\n",
       "    cv_2_valid   cv_3_valid   cv_4_valid   cv_5_valid  \n",
       "0   0.38801068   0.38577974    0.3964968   0.39398104  \n",
       "1    1.0540658    1.0361779    1.0926073    1.0712306  \n",
       "2   0.58490556   0.56055784    0.6200152    0.5897702  \n",
       "3    17109.055    17188.822    17995.498    17722.064  \n",
       "4  0.007915487  0.005843424  0.007036326  0.008054394  \n",
       "5    16774.404    16910.422     17667.46    17385.002  \n",
       "6    0.7647912   0.74870414   0.78741044   0.76796496  \n",
       "7   0.35716888   0.35483143    0.3639093   0.36131978  "
      ]
     },
     "execution_count": 35,
     "metadata": {},
     "output_type": "execute_result"
    }
   ],
   "source": [
    "# Метрики качества модели - по всем данным и на кросс-валидации\n",
    "\n",
    "glm_poisson.cross_validation_metrics_summary().as_data_frame()"
   ]
  },
  {
   "cell_type": "code",
   "execution_count": 36,
   "metadata": {
    "colab": {
     "base_uri": "https://localhost:8080/",
     "height": 731
    },
    "id": "vImto5eTCmzi",
    "outputId": "a307a924-e361-4468-afd5-fef7f31984f2"
   },
   "outputs": [
    {
     "data": {
      "text/html": [
       "<div>\n",
       "<style scoped>\n",
       "    .dataframe tbody tr th:only-of-type {\n",
       "        vertical-align: middle;\n",
       "    }\n",
       "\n",
       "    .dataframe tbody tr th {\n",
       "        vertical-align: top;\n",
       "    }\n",
       "\n",
       "    .dataframe thead th {\n",
       "        text-align: right;\n",
       "    }\n",
       "</style>\n",
       "<table border=\"1\" class=\"dataframe\">\n",
       "  <thead>\n",
       "    <tr style=\"text-align: right;\">\n",
       "      <th></th>\n",
       "      <th>names</th>\n",
       "      <th>coefficients</th>\n",
       "      <th>standardized_coefficients</th>\n",
       "    </tr>\n",
       "  </thead>\n",
       "  <tbody>\n",
       "    <tr>\n",
       "      <th>0</th>\n",
       "      <td>Intercept</td>\n",
       "      <td>-2.565659</td>\n",
       "      <td>-1.575867</td>\n",
       "    </tr>\n",
       "    <tr>\n",
       "      <th>1</th>\n",
       "      <td>Gender</td>\n",
       "      <td>-0.163708</td>\n",
       "      <td>-0.079349</td>\n",
       "    </tr>\n",
       "    <tr>\n",
       "      <th>2</th>\n",
       "      <td>MariStat</td>\n",
       "      <td>-0.114494</td>\n",
       "      <td>-0.041245</td>\n",
       "    </tr>\n",
       "    <tr>\n",
       "      <th>3</th>\n",
       "      <td>HasKmLimit</td>\n",
       "      <td>-0.439625</td>\n",
       "      <td>-0.137290</td>\n",
       "    </tr>\n",
       "    <tr>\n",
       "      <th>4</th>\n",
       "      <td>BonusMalus</td>\n",
       "      <td>0.012823</td>\n",
       "      <td>0.196838</td>\n",
       "    </tr>\n",
       "    <tr>\n",
       "      <th>5</th>\n",
       "      <td>OutUseNb</td>\n",
       "      <td>0.081984</td>\n",
       "      <td>0.057037</td>\n",
       "    </tr>\n",
       "    <tr>\n",
       "      <th>6</th>\n",
       "      <td>RiskArea</td>\n",
       "      <td>0.010119</td>\n",
       "      <td>0.022421</td>\n",
       "    </tr>\n",
       "    <tr>\n",
       "      <th>7</th>\n",
       "      <td>driver_minage_m</td>\n",
       "      <td>0.000209</td>\n",
       "      <td>0.003928</td>\n",
       "    </tr>\n",
       "    <tr>\n",
       "      <th>8</th>\n",
       "      <td>driver_minage_f</td>\n",
       "      <td>0.012369</td>\n",
       "      <td>0.198390</td>\n",
       "    </tr>\n",
       "    <tr>\n",
       "      <th>9</th>\n",
       "      <td>driver_minage_m_2</td>\n",
       "      <td>0.000000</td>\n",
       "      <td>0.000000</td>\n",
       "    </tr>\n",
       "    <tr>\n",
       "      <th>10</th>\n",
       "      <td>driver_minage_f_2</td>\n",
       "      <td>-0.000091</td>\n",
       "      <td>-0.113901</td>\n",
       "    </tr>\n",
       "    <tr>\n",
       "      <th>11</th>\n",
       "      <td>VehUsage_Private</td>\n",
       "      <td>-0.190581</td>\n",
       "      <td>-0.090123</td>\n",
       "    </tr>\n",
       "    <tr>\n",
       "      <th>12</th>\n",
       "      <td>VehUsage_Private+trip to office</td>\n",
       "      <td>0.000000</td>\n",
       "      <td>0.000000</td>\n",
       "    </tr>\n",
       "    <tr>\n",
       "      <th>13</th>\n",
       "      <td>VehUsage_Professional</td>\n",
       "      <td>0.320065</td>\n",
       "      <td>0.105780</td>\n",
       "    </tr>\n",
       "    <tr>\n",
       "      <th>14</th>\n",
       "      <td>VehUsage_Professional run</td>\n",
       "      <td>0.491840</td>\n",
       "      <td>0.065987</td>\n",
       "    </tr>\n",
       "    <tr>\n",
       "      <th>15</th>\n",
       "      <td>SocioCateg_CSP1</td>\n",
       "      <td>-0.079219</td>\n",
       "      <td>-0.012003</td>\n",
       "    </tr>\n",
       "    <tr>\n",
       "      <th>16</th>\n",
       "      <td>SocioCateg_CSP2</td>\n",
       "      <td>-0.205329</td>\n",
       "      <td>-0.034207</td>\n",
       "    </tr>\n",
       "    <tr>\n",
       "      <th>17</th>\n",
       "      <td>SocioCateg_CSP3</td>\n",
       "      <td>0.242698</td>\n",
       "      <td>0.025177</td>\n",
       "    </tr>\n",
       "    <tr>\n",
       "      <th>18</th>\n",
       "      <td>SocioCateg_CSP4</td>\n",
       "      <td>0.050770</td>\n",
       "      <td>0.012696</td>\n",
       "    </tr>\n",
       "    <tr>\n",
       "      <th>19</th>\n",
       "      <td>SocioCateg_CSP5</td>\n",
       "      <td>-0.003721</td>\n",
       "      <td>-0.001769</td>\n",
       "    </tr>\n",
       "    <tr>\n",
       "      <th>20</th>\n",
       "      <td>SocioCateg_CSP6</td>\n",
       "      <td>0.060435</td>\n",
       "      <td>0.024822</td>\n",
       "    </tr>\n",
       "    <tr>\n",
       "      <th>21</th>\n",
       "      <td>SocioCateg_CSP7</td>\n",
       "      <td>-0.495631</td>\n",
       "      <td>-0.005237</td>\n",
       "    </tr>\n",
       "  </tbody>\n",
       "</table>\n",
       "</div>"
      ],
      "text/plain": [
       "                              names  coefficients  standardized_coefficients\n",
       "0                         Intercept     -2.565659                  -1.575867\n",
       "1                            Gender     -0.163708                  -0.079349\n",
       "2                          MariStat     -0.114494                  -0.041245\n",
       "3                        HasKmLimit     -0.439625                  -0.137290\n",
       "4                        BonusMalus      0.012823                   0.196838\n",
       "5                          OutUseNb      0.081984                   0.057037\n",
       "6                          RiskArea      0.010119                   0.022421\n",
       "7                   driver_minage_m      0.000209                   0.003928\n",
       "8                   driver_minage_f      0.012369                   0.198390\n",
       "9                 driver_minage_m_2      0.000000                   0.000000\n",
       "10                driver_minage_f_2     -0.000091                  -0.113901\n",
       "11                 VehUsage_Private     -0.190581                  -0.090123\n",
       "12  VehUsage_Private+trip to office      0.000000                   0.000000\n",
       "13            VehUsage_Professional      0.320065                   0.105780\n",
       "14        VehUsage_Professional run      0.491840                   0.065987\n",
       "15                  SocioCateg_CSP1     -0.079219                  -0.012003\n",
       "16                  SocioCateg_CSP2     -0.205329                  -0.034207\n",
       "17                  SocioCateg_CSP3      0.242698                   0.025177\n",
       "18                  SocioCateg_CSP4      0.050770                   0.012696\n",
       "19                  SocioCateg_CSP5     -0.003721                  -0.001769\n",
       "20                  SocioCateg_CSP6      0.060435                   0.024822\n",
       "21                  SocioCateg_CSP7     -0.495631                  -0.005237"
      ]
     },
     "execution_count": 36,
     "metadata": {},
     "output_type": "execute_result"
    }
   ],
   "source": [
    "# Таблица коэффициентов модели (в зависимости от модели могут выводиться также стандартная ошибка, z-score и p-value)\n",
    "\n",
    "glm_poisson._model_json['output']['coefficients_table'].as_data_frame()"
   ]
  },
  {
   "cell_type": "code",
   "execution_count": 37,
   "metadata": {
    "colab": {
     "base_uri": "https://localhost:8080/",
     "height": 731
    },
    "id": "Z6CZpc6WAx-d",
    "outputId": "95b3d6d2-4759-4eae-b832-3c3d66cc21cf"
   },
   "outputs": [
    {
     "data": {
      "text/html": [
       "<div>\n",
       "<style scoped>\n",
       "    .dataframe tbody tr th:only-of-type {\n",
       "        vertical-align: middle;\n",
       "    }\n",
       "\n",
       "    .dataframe tbody tr th {\n",
       "        vertical-align: top;\n",
       "    }\n",
       "\n",
       "    .dataframe thead th {\n",
       "        text-align: right;\n",
       "    }\n",
       "</style>\n",
       "<table border=\"1\" class=\"dataframe\">\n",
       "  <thead>\n",
       "    <tr style=\"text-align: right;\">\n",
       "      <th></th>\n",
       "      <th>overall</th>\n",
       "      <th>0</th>\n",
       "      <th>1</th>\n",
       "      <th>2</th>\n",
       "      <th>3</th>\n",
       "      <th>4</th>\n",
       "    </tr>\n",
       "  </thead>\n",
       "  <tbody>\n",
       "    <tr>\n",
       "      <th>Intercept</th>\n",
       "      <td>1.57587</td>\n",
       "      <td>-1.57278</td>\n",
       "      <td>-1.57288</td>\n",
       "      <td>-1.56837</td>\n",
       "      <td>-1.58482</td>\n",
       "      <td>-1.58189</td>\n",
       "    </tr>\n",
       "    <tr>\n",
       "      <th>driver_minage_f</th>\n",
       "      <td>0.19839</td>\n",
       "      <td>0.08609</td>\n",
       "      <td>0.20420</td>\n",
       "      <td>0.25112</td>\n",
       "      <td>0.12982</td>\n",
       "      <td>0.07357</td>\n",
       "    </tr>\n",
       "    <tr>\n",
       "      <th>BonusMalus</th>\n",
       "      <td>0.19684</td>\n",
       "      <td>0.18423</td>\n",
       "      <td>0.20081</td>\n",
       "      <td>0.20511</td>\n",
       "      <td>0.19298</td>\n",
       "      <td>0.19861</td>\n",
       "    </tr>\n",
       "    <tr>\n",
       "      <th>HasKmLimit</th>\n",
       "      <td>0.13729</td>\n",
       "      <td>-0.12875</td>\n",
       "      <td>-0.13612</td>\n",
       "      <td>-0.14972</td>\n",
       "      <td>-0.13596</td>\n",
       "      <td>-0.13631</td>\n",
       "    </tr>\n",
       "    <tr>\n",
       "      <th>driver_minage_f_2</th>\n",
       "      <td>0.11390</td>\n",
       "      <td>-0.02451</td>\n",
       "      <td>-0.12992</td>\n",
       "      <td>-0.13852</td>\n",
       "      <td>-0.03899</td>\n",
       "      <td>-0.03180</td>\n",
       "    </tr>\n",
       "    <tr>\n",
       "      <th>VehUsage_Professional</th>\n",
       "      <td>0.10578</td>\n",
       "      <td>0.10475</td>\n",
       "      <td>0.08663</td>\n",
       "      <td>0.10304</td>\n",
       "      <td>0.11482</td>\n",
       "      <td>0.11899</td>\n",
       "    </tr>\n",
       "    <tr>\n",
       "      <th>VehUsage_Private</th>\n",
       "      <td>0.09012</td>\n",
       "      <td>-0.09976</td>\n",
       "      <td>-0.08684</td>\n",
       "      <td>-0.08976</td>\n",
       "      <td>-0.09830</td>\n",
       "      <td>-0.07552</td>\n",
       "    </tr>\n",
       "    <tr>\n",
       "      <th>Gender</th>\n",
       "      <td>0.07935</td>\n",
       "      <td>-0.04075</td>\n",
       "      <td>-0.07491</td>\n",
       "      <td>-0.10871</td>\n",
       "      <td>-0.05780</td>\n",
       "      <td>-0.03881</td>\n",
       "    </tr>\n",
       "    <tr>\n",
       "      <th>VehUsage_Professional run</th>\n",
       "      <td>0.06599</td>\n",
       "      <td>0.05985</td>\n",
       "      <td>0.07137</td>\n",
       "      <td>0.06226</td>\n",
       "      <td>0.07468</td>\n",
       "      <td>0.06054</td>\n",
       "    </tr>\n",
       "    <tr>\n",
       "      <th>OutUseNb</th>\n",
       "      <td>0.05704</td>\n",
       "      <td>0.06333</td>\n",
       "      <td>0.05954</td>\n",
       "      <td>0.05154</td>\n",
       "      <td>0.05276</td>\n",
       "      <td>0.05781</td>\n",
       "    </tr>\n",
       "    <tr>\n",
       "      <th>MariStat</th>\n",
       "      <td>0.04125</td>\n",
       "      <td>-0.02807</td>\n",
       "      <td>-0.04698</td>\n",
       "      <td>-0.04396</td>\n",
       "      <td>-0.04037</td>\n",
       "      <td>-0.04752</td>\n",
       "    </tr>\n",
       "    <tr>\n",
       "      <th>SocioCateg_CSP2</th>\n",
       "      <td>0.03421</td>\n",
       "      <td>-0.03491</td>\n",
       "      <td>-0.03025</td>\n",
       "      <td>-0.03561</td>\n",
       "      <td>-0.03810</td>\n",
       "      <td>-0.03452</td>\n",
       "    </tr>\n",
       "    <tr>\n",
       "      <th>SocioCateg_CSP3</th>\n",
       "      <td>0.02518</td>\n",
       "      <td>0.03224</td>\n",
       "      <td>0.03012</td>\n",
       "      <td>0.00399</td>\n",
       "      <td>0.02560</td>\n",
       "      <td>0.03115</td>\n",
       "    </tr>\n",
       "    <tr>\n",
       "      <th>SocioCateg_CSP6</th>\n",
       "      <td>0.02482</td>\n",
       "      <td>0.02896</td>\n",
       "      <td>0.03304</td>\n",
       "      <td>0.01597</td>\n",
       "      <td>0.01431</td>\n",
       "      <td>0.02719</td>\n",
       "    </tr>\n",
       "    <tr>\n",
       "      <th>RiskArea</th>\n",
       "      <td>0.02242</td>\n",
       "      <td>0.01945</td>\n",
       "      <td>0.01624</td>\n",
       "      <td>0.02739</td>\n",
       "      <td>0.02998</td>\n",
       "      <td>0.01885</td>\n",
       "    </tr>\n",
       "    <tr>\n",
       "      <th>SocioCateg_CSP4</th>\n",
       "      <td>0.01270</td>\n",
       "      <td>0.01204</td>\n",
       "      <td>0.01584</td>\n",
       "      <td>0.01422</td>\n",
       "      <td>0.01224</td>\n",
       "      <td>0.00770</td>\n",
       "    </tr>\n",
       "    <tr>\n",
       "      <th>SocioCateg_CSP1</th>\n",
       "      <td>0.01200</td>\n",
       "      <td>-0.01562</td>\n",
       "      <td>-0.01137</td>\n",
       "      <td>-0.01096</td>\n",
       "      <td>-0.00996</td>\n",
       "      <td>-0.01191</td>\n",
       "    </tr>\n",
       "    <tr>\n",
       "      <th>SocioCateg_CSP7</th>\n",
       "      <td>0.00524</td>\n",
       "      <td>-0.00539</td>\n",
       "      <td>-0.02769</td>\n",
       "      <td>-0.00224</td>\n",
       "      <td>-0.00636</td>\n",
       "      <td>-0.00089</td>\n",
       "    </tr>\n",
       "    <tr>\n",
       "      <th>driver_minage_m</th>\n",
       "      <td>0.00393</td>\n",
       "      <td>0.00805</td>\n",
       "      <td>0.10546</td>\n",
       "      <td>0.00000</td>\n",
       "      <td>-0.01774</td>\n",
       "      <td>0.03404</td>\n",
       "    </tr>\n",
       "    <tr>\n",
       "      <th>SocioCateg_CSP5</th>\n",
       "      <td>0.00177</td>\n",
       "      <td>-0.00317</td>\n",
       "      <td>-0.00672</td>\n",
       "      <td>0.00000</td>\n",
       "      <td>0.00000</td>\n",
       "      <td>0.00000</td>\n",
       "    </tr>\n",
       "    <tr>\n",
       "      <th>driver_minage_m_2</th>\n",
       "      <td>0.00000</td>\n",
       "      <td>0.00000</td>\n",
       "      <td>-0.10736</td>\n",
       "      <td>0.01159</td>\n",
       "      <td>0.03810</td>\n",
       "      <td>-0.03417</td>\n",
       "    </tr>\n",
       "    <tr>\n",
       "      <th>VehUsage_Private+trip to office</th>\n",
       "      <td>0.00000</td>\n",
       "      <td>0.00000</td>\n",
       "      <td>0.00000</td>\n",
       "      <td>0.00000</td>\n",
       "      <td>0.00000</td>\n",
       "      <td>0.00000</td>\n",
       "    </tr>\n",
       "  </tbody>\n",
       "</table>\n",
       "</div>"
      ],
      "text/plain": [
       "                                 overall        0        1        2        3  \\\n",
       "Intercept                        1.57587 -1.57278 -1.57288 -1.56837 -1.58482   \n",
       "driver_minage_f                  0.19839  0.08609  0.20420  0.25112  0.12982   \n",
       "BonusMalus                       0.19684  0.18423  0.20081  0.20511  0.19298   \n",
       "HasKmLimit                       0.13729 -0.12875 -0.13612 -0.14972 -0.13596   \n",
       "driver_minage_f_2                0.11390 -0.02451 -0.12992 -0.13852 -0.03899   \n",
       "VehUsage_Professional            0.10578  0.10475  0.08663  0.10304  0.11482   \n",
       "VehUsage_Private                 0.09012 -0.09976 -0.08684 -0.08976 -0.09830   \n",
       "Gender                           0.07935 -0.04075 -0.07491 -0.10871 -0.05780   \n",
       "VehUsage_Professional run        0.06599  0.05985  0.07137  0.06226  0.07468   \n",
       "OutUseNb                         0.05704  0.06333  0.05954  0.05154  0.05276   \n",
       "MariStat                         0.04125 -0.02807 -0.04698 -0.04396 -0.04037   \n",
       "SocioCateg_CSP2                  0.03421 -0.03491 -0.03025 -0.03561 -0.03810   \n",
       "SocioCateg_CSP3                  0.02518  0.03224  0.03012  0.00399  0.02560   \n",
       "SocioCateg_CSP6                  0.02482  0.02896  0.03304  0.01597  0.01431   \n",
       "RiskArea                         0.02242  0.01945  0.01624  0.02739  0.02998   \n",
       "SocioCateg_CSP4                  0.01270  0.01204  0.01584  0.01422  0.01224   \n",
       "SocioCateg_CSP1                  0.01200 -0.01562 -0.01137 -0.01096 -0.00996   \n",
       "SocioCateg_CSP7                  0.00524 -0.00539 -0.02769 -0.00224 -0.00636   \n",
       "driver_minage_m                  0.00393  0.00805  0.10546  0.00000 -0.01774   \n",
       "SocioCateg_CSP5                  0.00177 -0.00317 -0.00672  0.00000  0.00000   \n",
       "driver_minage_m_2                0.00000  0.00000 -0.10736  0.01159  0.03810   \n",
       "VehUsage_Private+trip to office  0.00000  0.00000  0.00000  0.00000  0.00000   \n",
       "\n",
       "                                       4  \n",
       "Intercept                       -1.58189  \n",
       "driver_minage_f                  0.07357  \n",
       "BonusMalus                       0.19861  \n",
       "HasKmLimit                      -0.13631  \n",
       "driver_minage_f_2               -0.03180  \n",
       "VehUsage_Professional            0.11899  \n",
       "VehUsage_Private                -0.07552  \n",
       "Gender                          -0.03881  \n",
       "VehUsage_Professional run        0.06054  \n",
       "OutUseNb                         0.05781  \n",
       "MariStat                        -0.04752  \n",
       "SocioCateg_CSP2                 -0.03452  \n",
       "SocioCateg_CSP3                  0.03115  \n",
       "SocioCateg_CSP6                  0.02719  \n",
       "RiskArea                         0.01885  \n",
       "SocioCateg_CSP4                  0.00770  \n",
       "SocioCateg_CSP1                 -0.01191  \n",
       "SocioCateg_CSP7                 -0.00089  \n",
       "driver_minage_m                  0.03404  \n",
       "SocioCateg_CSP5                  0.00000  \n",
       "driver_minage_m_2               -0.03417  \n",
       "VehUsage_Private+trip to office  0.00000  "
      ]
     },
     "execution_count": 37,
     "metadata": {},
     "output_type": "execute_result"
    }
   ],
   "source": [
    "# Таблица нормированных коэффициентов по всем данным и на кросс-валидации\n",
    "\n",
    "pmodels = {}\n",
    "pmodels['overall'] = glm_poisson.coef_norm()\n",
    "for x in range(len(glm_poisson.cross_validation_models())):\n",
    "    pmodels[x] = glm_poisson.cross_validation_models()[x].coef_norm()\n",
    "coef = pd.DataFrame.from_dict(pmodels).round(5)\n",
    "coef['overall'] = abs(coef['overall'])\n",
    "coef.sort_values('overall',ascending=False)"
   ]
  },
  {
   "cell_type": "code",
   "execution_count": 38,
   "metadata": {
    "colab": {
     "base_uri": "https://localhost:8080/"
    },
    "id": "RiHV0aTKHjdK",
    "outputId": "5b7e444e-0f3f-47cc-e3ff-6420a544b671"
   },
   "outputs": [
    {
     "name": "stdout",
     "output_type": "stream",
     "text": [
      "glm prediction progress: |████████████████████████████████████████████████| 100%\n",
      "glm prediction progress: |████████████████████████████████████████████████| 100%\n",
      "glm prediction progress: |████████████████████████████████████████████████| 100%\n"
     ]
    }
   ],
   "source": [
    "# Построение прогнозных значений для обучающей, валидационной и тестовой выборок\n",
    "\n",
    "c_train_pred = glm_poisson.predict(h2o_train_c).as_data_frame()\n",
    "c_valid_pred = glm_poisson.predict(h2o_valid_c).as_data_frame()\n",
    "c_test_pred = glm_poisson.predict(h2o_test_c).as_data_frame()"
   ]
  },
  {
   "cell_type": "code",
   "execution_count": 40,
   "metadata": {
    "id": "BL8JJbnVTrY5"
   },
   "outputs": [],
   "source": [
    "# Сохранение обученной модели\n",
    "\n",
    "model_glm_poisson = h2o.save_model(model=glm_poisson, path='', force=True)"
   ]
  },
  {
   "cell_type": "code",
   "execution_count": 41,
   "metadata": {
    "colab": {
     "base_uri": "https://localhost:8080/",
     "height": 35
    },
    "id": "bsXU4eF4T5cX",
    "outputId": "953d9085-33cc-4542-8855-972335c2b308"
   },
   "outputs": [
    {
     "data": {
      "text/plain": [
       "'/home/vavpavlov/Education/Geekbrains/ML_in_business/Lesson_7/GLM_model_python_1605799452444_1'"
      ]
     },
     "execution_count": 41,
     "metadata": {},
     "output_type": "execute_result"
    }
   ],
   "source": [
    "model_glm_poisson"
   ]
  },
  {
   "cell_type": "markdown",
   "metadata": {
    "id": "8nmnj56EM9gK"
   },
   "source": [
    "## Построение GLM для среднего убытка"
   ]
  },
  {
   "cell_type": "code",
   "execution_count": 42,
   "metadata": {
    "colab": {
     "base_uri": "https://localhost:8080/"
    },
    "id": "9u4TIE54NAeo",
    "outputId": "7b552995-a8a6-4cef-cce0-8ca41ff23895"
   },
   "outputs": [
    {
     "name": "stdout",
     "output_type": "stream",
     "text": [
      "Parse progress: |█████████████████████████████████████████████████████████| 100%\n",
      "Parse progress: |█████████████████████████████████████████████████████████| 100%\n",
      "Parse progress: |█████████████████████████████████████████████████████████| 100%\n"
     ]
    }
   ],
   "source": [
    "# Преобразование в H2O-Frame\n",
    "\n",
    "h2o_train_ac = h2o.H2OFrame(pd.concat([x_train_ac, y_train_ac], axis=1))\n",
    "h2o_valid_ac = h2o.H2OFrame(pd.concat([x_valid_ac, y_valid_ac], axis=1))\n",
    "h2o_test_ac = h2o.H2OFrame(pd.concat([x_test_ac, y_test_ac], axis=1))"
   ]
  },
  {
   "cell_type": "code",
   "execution_count": 43,
   "metadata": {
    "colab": {
     "base_uri": "https://localhost:8080/"
    },
    "id": "O4ZJ3o25EKnP",
    "outputId": "e722c63c-63b3-407c-d77a-1f15cc29e88f"
   },
   "outputs": [
    {
     "name": "stdout",
     "output_type": "stream",
     "text": [
      "glm Model Build progress: |███████████████████████████████████████████████| 100%\n"
     ]
    }
   ],
   "source": [
    "# Инициализируем и обучим GLM модель c кросс-валидацией\n",
    "\n",
    "glm_gamma = H2OGeneralizedLinearEstimator(family = \"gamma\", link = \"Log\", nfolds=5)\n",
    "glm_gamma.train(y=\"AvgClaim\", x = h2o_train_ac.names[1:-1], training_frame = h2o_train_ac, validation_frame = h2o_valid_ac)"
   ]
  },
  {
   "cell_type": "code",
   "execution_count": 44,
   "metadata": {
    "colab": {
     "base_uri": "https://localhost:8080/",
     "height": 185
    },
    "id": "tAC4dIdJEKXl",
    "outputId": "8e32669f-e7ff-4c44-937e-2ded757848ee"
   },
   "outputs": [
    {
     "name": "stdout",
     "output_type": "stream",
     "text": [
      "\n",
      "GLM Model: summary\n"
     ]
    },
    {
     "data": {
      "text/html": [
       "<div>\n",
       "<style scoped>\n",
       "    .dataframe tbody tr th:only-of-type {\n",
       "        vertical-align: middle;\n",
       "    }\n",
       "\n",
       "    .dataframe tbody tr th {\n",
       "        vertical-align: top;\n",
       "    }\n",
       "\n",
       "    .dataframe thead th {\n",
       "        text-align: right;\n",
       "    }\n",
       "</style>\n",
       "<table border=\"1\" class=\"dataframe\">\n",
       "  <thead>\n",
       "    <tr style=\"text-align: right;\">\n",
       "      <th></th>\n",
       "      <th></th>\n",
       "      <th>family</th>\n",
       "      <th>link</th>\n",
       "      <th>regularization</th>\n",
       "      <th>number_of_predictors_total</th>\n",
       "      <th>number_of_active_predictors</th>\n",
       "      <th>number_of_iterations</th>\n",
       "      <th>training_frame</th>\n",
       "    </tr>\n",
       "  </thead>\n",
       "  <tbody>\n",
       "    <tr>\n",
       "      <th>0</th>\n",
       "      <td></td>\n",
       "      <td>gamma</td>\n",
       "      <td>log</td>\n",
       "      <td>Elastic Net (alpha = 0.5, lambda = 2.602E-4 )</td>\n",
       "      <td>21</td>\n",
       "      <td>19</td>\n",
       "      <td>3</td>\n",
       "      <td>Key_Frame__upload_899e9289a066f25fc9324fa74474b3c.hex</td>\n",
       "    </tr>\n",
       "  </tbody>\n",
       "</table>\n",
       "</div>"
      ],
      "text/plain": [
       "    family link                                 regularization  \\\n",
       "0    gamma  log  Elastic Net (alpha = 0.5, lambda = 2.602E-4 )   \n",
       "\n",
       "   number_of_predictors_total number_of_active_predictors  \\\n",
       "0                          21                          19   \n",
       "\n",
       "   number_of_iterations                                         training_frame  \n",
       "0                     3  Key_Frame__upload_899e9289a066f25fc9324fa74474b3c.hex  "
      ]
     },
     "metadata": {},
     "output_type": "display_data"
    },
    {
     "data": {
      "text/plain": []
     },
     "execution_count": 44,
     "metadata": {},
     "output_type": "execute_result"
    }
   ],
   "source": [
    "# Параметры модели: распределение, функция связи, гиперпараметры регуляризации, количество использованных объясняющих переменных\n",
    "\n",
    "glm_gamma.summary()"
   ]
  },
  {
   "cell_type": "code",
   "execution_count": 45,
   "metadata": {
    "colab": {
     "base_uri": "https://localhost:8080/",
     "height": 297
    },
    "id": "NfRbZGBoE7vP",
    "outputId": "2f396393-0925-458d-9079-b1f10a722375"
   },
   "outputs": [
    {
     "data": {
      "text/html": [
       "<div>\n",
       "<style scoped>\n",
       "    .dataframe tbody tr th:only-of-type {\n",
       "        vertical-align: middle;\n",
       "    }\n",
       "\n",
       "    .dataframe tbody tr th {\n",
       "        vertical-align: top;\n",
       "    }\n",
       "\n",
       "    .dataframe thead th {\n",
       "        text-align: right;\n",
       "    }\n",
       "</style>\n",
       "<table border=\"1\" class=\"dataframe\">\n",
       "  <thead>\n",
       "    <tr style=\"text-align: right;\">\n",
       "      <th></th>\n",
       "      <th></th>\n",
       "      <th>mean</th>\n",
       "      <th>sd</th>\n",
       "      <th>cv_1_valid</th>\n",
       "      <th>cv_2_valid</th>\n",
       "      <th>cv_3_valid</th>\n",
       "      <th>cv_4_valid</th>\n",
       "      <th>cv_5_valid</th>\n",
       "    </tr>\n",
       "  </thead>\n",
       "  <tbody>\n",
       "    <tr>\n",
       "      <th>0</th>\n",
       "      <td>mae</td>\n",
       "      <td>1192.1255</td>\n",
       "      <td>90.14436</td>\n",
       "      <td>1215.0825</td>\n",
       "      <td>1103.0563</td>\n",
       "      <td>1336.2119</td>\n",
       "      <td>1142.1202</td>\n",
       "      <td>1164.1565</td>\n",
       "    </tr>\n",
       "    <tr>\n",
       "      <th>1</th>\n",
       "      <td>mean_residual_deviance</td>\n",
       "      <td>2.1000102</td>\n",
       "      <td>0.17653555</td>\n",
       "      <td>2.111272</td>\n",
       "      <td>1.8979902</td>\n",
       "      <td>2.3818865</td>\n",
       "      <td>2.0620294</td>\n",
       "      <td>2.046873</td>\n",
       "    </tr>\n",
       "    <tr>\n",
       "      <th>2</th>\n",
       "      <td>mse</td>\n",
       "      <td>1.6246823E7</td>\n",
       "      <td>2.2577698E7</td>\n",
       "      <td>5919687.5</td>\n",
       "      <td>4799847.0</td>\n",
       "      <td>5.6531276E7</td>\n",
       "      <td>5097799.0</td>\n",
       "      <td>8885507.0</td>\n",
       "    </tr>\n",
       "    <tr>\n",
       "      <th>3</th>\n",
       "      <td>null_deviance</td>\n",
       "      <td>3180.871</td>\n",
       "      <td>177.56032</td>\n",
       "      <td>3210.0464</td>\n",
       "      <td>2916.3445</td>\n",
       "      <td>3402.6528</td>\n",
       "      <td>3132.8562</td>\n",
       "      <td>3242.4556</td>\n",
       "    </tr>\n",
       "    <tr>\n",
       "      <th>4</th>\n",
       "      <td>r2</td>\n",
       "      <td>-0.003552388</td>\n",
       "      <td>0.009638258</td>\n",
       "      <td>0.0018303794</td>\n",
       "      <td>-0.0081158895</td>\n",
       "      <td>-0.0010728154</td>\n",
       "      <td>-0.017655618</td>\n",
       "      <td>0.0072520054</td>\n",
       "    </tr>\n",
       "    <tr>\n",
       "      <th>5</th>\n",
       "      <td>residual_deviance</td>\n",
       "      <td>3188.6897</td>\n",
       "      <td>168.05495</td>\n",
       "      <td>3200.6885</td>\n",
       "      <td>2941.8848</td>\n",
       "      <td>3415.625</td>\n",
       "      <td>3206.4558</td>\n",
       "      <td>3178.794</td>\n",
       "    </tr>\n",
       "    <tr>\n",
       "      <th>6</th>\n",
       "      <td>rmse</td>\n",
       "      <td>3476.2625</td>\n",
       "      <td>2281.015</td>\n",
       "      <td>2433.0408</td>\n",
       "      <td>2190.8552</td>\n",
       "      <td>7518.7285</td>\n",
       "      <td>2257.8306</td>\n",
       "      <td>2980.8567</td>\n",
       "    </tr>\n",
       "    <tr>\n",
       "      <th>7</th>\n",
       "      <td>rmsle</td>\n",
       "      <td>1.7659888</td>\n",
       "      <td>0.03792315</td>\n",
       "      <td>1.7834941</td>\n",
       "      <td>1.7196133</td>\n",
       "      <td>1.730927</td>\n",
       "      <td>1.794598</td>\n",
       "      <td>1.8013119</td>\n",
       "    </tr>\n",
       "  </tbody>\n",
       "</table>\n",
       "</div>"
      ],
      "text/plain": [
       "                                   mean           sd    cv_1_valid  \\\n",
       "0                     mae     1192.1255     90.14436     1215.0825   \n",
       "1  mean_residual_deviance     2.1000102   0.17653555      2.111272   \n",
       "2                     mse   1.6246823E7  2.2577698E7     5919687.5   \n",
       "3           null_deviance      3180.871    177.56032     3210.0464   \n",
       "4                      r2  -0.003552388  0.009638258  0.0018303794   \n",
       "5       residual_deviance     3188.6897    168.05495     3200.6885   \n",
       "6                    rmse     3476.2625     2281.015     2433.0408   \n",
       "7                   rmsle     1.7659888   0.03792315     1.7834941   \n",
       "\n",
       "      cv_2_valid     cv_3_valid    cv_4_valid    cv_5_valid  \n",
       "0      1103.0563      1336.2119     1142.1202     1164.1565  \n",
       "1      1.8979902      2.3818865     2.0620294      2.046873  \n",
       "2      4799847.0    5.6531276E7     5097799.0     8885507.0  \n",
       "3      2916.3445      3402.6528     3132.8562     3242.4556  \n",
       "4  -0.0081158895  -0.0010728154  -0.017655618  0.0072520054  \n",
       "5      2941.8848       3415.625     3206.4558      3178.794  \n",
       "6      2190.8552      7518.7285     2257.8306     2980.8567  \n",
       "7      1.7196133       1.730927      1.794598     1.8013119  "
      ]
     },
     "execution_count": 45,
     "metadata": {},
     "output_type": "execute_result"
    }
   ],
   "source": [
    "# Метрики качества модели - по всем данным и на кросс-валидации\n",
    "\n",
    "glm_gamma.cross_validation_metrics_summary().as_data_frame()"
   ]
  },
  {
   "cell_type": "code",
   "execution_count": 46,
   "metadata": {
    "colab": {
     "base_uri": "https://localhost:8080/",
     "height": 731
    },
    "id": "uHZ93uk_E7nZ",
    "outputId": "26274020-0008-4ff9-ccfe-0f9922e237b3"
   },
   "outputs": [
    {
     "data": {
      "text/html": [
       "<div>\n",
       "<style scoped>\n",
       "    .dataframe tbody tr th:only-of-type {\n",
       "        vertical-align: middle;\n",
       "    }\n",
       "\n",
       "    .dataframe tbody tr th {\n",
       "        vertical-align: top;\n",
       "    }\n",
       "\n",
       "    .dataframe thead th {\n",
       "        text-align: right;\n",
       "    }\n",
       "</style>\n",
       "<table border=\"1\" class=\"dataframe\">\n",
       "  <thead>\n",
       "    <tr style=\"text-align: right;\">\n",
       "      <th></th>\n",
       "      <th>names</th>\n",
       "      <th>coefficients</th>\n",
       "      <th>standardized_coefficients</th>\n",
       "    </tr>\n",
       "  </thead>\n",
       "  <tbody>\n",
       "    <tr>\n",
       "      <th>0</th>\n",
       "      <td>Intercept</td>\n",
       "      <td>7.310145</td>\n",
       "      <td>7.017288</td>\n",
       "    </tr>\n",
       "    <tr>\n",
       "      <th>1</th>\n",
       "      <td>Gender</td>\n",
       "      <td>-0.314623</td>\n",
       "      <td>-0.152506</td>\n",
       "    </tr>\n",
       "    <tr>\n",
       "      <th>2</th>\n",
       "      <td>MariStat</td>\n",
       "      <td>0.299338</td>\n",
       "      <td>0.110533</td>\n",
       "    </tr>\n",
       "    <tr>\n",
       "      <th>3</th>\n",
       "      <td>HasKmLimit</td>\n",
       "      <td>-0.066859</td>\n",
       "      <td>-0.016827</td>\n",
       "    </tr>\n",
       "    <tr>\n",
       "      <th>4</th>\n",
       "      <td>BonusMalus</td>\n",
       "      <td>-0.002345</td>\n",
       "      <td>-0.039579</td>\n",
       "    </tr>\n",
       "    <tr>\n",
       "      <th>5</th>\n",
       "      <td>OutUseNb</td>\n",
       "      <td>-0.021085</td>\n",
       "      <td>-0.015749</td>\n",
       "    </tr>\n",
       "    <tr>\n",
       "      <th>6</th>\n",
       "      <td>RiskArea</td>\n",
       "      <td>0.030396</td>\n",
       "      <td>0.067861</td>\n",
       "    </tr>\n",
       "    <tr>\n",
       "      <th>7</th>\n",
       "      <td>driver_minage_m</td>\n",
       "      <td>-0.021733</td>\n",
       "      <td>-0.397791</td>\n",
       "    </tr>\n",
       "    <tr>\n",
       "      <th>8</th>\n",
       "      <td>driver_minage_f</td>\n",
       "      <td>0.012161</td>\n",
       "      <td>0.187589</td>\n",
       "    </tr>\n",
       "    <tr>\n",
       "      <th>9</th>\n",
       "      <td>driver_minage_m_2</td>\n",
       "      <td>0.000179</td>\n",
       "      <td>0.268589</td>\n",
       "    </tr>\n",
       "    <tr>\n",
       "      <th>10</th>\n",
       "      <td>driver_minage_f_2</td>\n",
       "      <td>-0.000154</td>\n",
       "      <td>-0.183893</td>\n",
       "    </tr>\n",
       "    <tr>\n",
       "      <th>11</th>\n",
       "      <td>VehUsage_Private</td>\n",
       "      <td>0.000000</td>\n",
       "      <td>0.000000</td>\n",
       "    </tr>\n",
       "    <tr>\n",
       "      <th>12</th>\n",
       "      <td>VehUsage_Private+trip to office</td>\n",
       "      <td>0.024089</td>\n",
       "      <td>0.012019</td>\n",
       "    </tr>\n",
       "    <tr>\n",
       "      <th>13</th>\n",
       "      <td>VehUsage_Professional</td>\n",
       "      <td>-0.021973</td>\n",
       "      <td>-0.008023</td>\n",
       "    </tr>\n",
       "    <tr>\n",
       "      <th>14</th>\n",
       "      <td>VehUsage_Professional run</td>\n",
       "      <td>-0.290266</td>\n",
       "      <td>-0.044476</td>\n",
       "    </tr>\n",
       "    <tr>\n",
       "      <th>15</th>\n",
       "      <td>SocioCateg_CSP1</td>\n",
       "      <td>-0.129253</td>\n",
       "      <td>-0.020325</td>\n",
       "    </tr>\n",
       "    <tr>\n",
       "      <th>16</th>\n",
       "      <td>SocioCateg_CSP2</td>\n",
       "      <td>-0.218260</td>\n",
       "      <td>-0.037997</td>\n",
       "    </tr>\n",
       "    <tr>\n",
       "      <th>17</th>\n",
       "      <td>SocioCateg_CSP3</td>\n",
       "      <td>-0.069526</td>\n",
       "      <td>-0.006869</td>\n",
       "    </tr>\n",
       "    <tr>\n",
       "      <th>18</th>\n",
       "      <td>SocioCateg_CSP4</td>\n",
       "      <td>-0.019099</td>\n",
       "      <td>-0.005290</td>\n",
       "    </tr>\n",
       "    <tr>\n",
       "      <th>19</th>\n",
       "      <td>SocioCateg_CSP5</td>\n",
       "      <td>0.000000</td>\n",
       "      <td>0.000000</td>\n",
       "    </tr>\n",
       "    <tr>\n",
       "      <th>20</th>\n",
       "      <td>SocioCateg_CSP6</td>\n",
       "      <td>0.092551</td>\n",
       "      <td>0.035955</td>\n",
       "    </tr>\n",
       "    <tr>\n",
       "      <th>21</th>\n",
       "      <td>SocioCateg_CSP7</td>\n",
       "      <td>-1.358740</td>\n",
       "      <td>-0.015578</td>\n",
       "    </tr>\n",
       "  </tbody>\n",
       "</table>\n",
       "</div>"
      ],
      "text/plain": [
       "                              names  coefficients  standardized_coefficients\n",
       "0                         Intercept      7.310145                   7.017288\n",
       "1                            Gender     -0.314623                  -0.152506\n",
       "2                          MariStat      0.299338                   0.110533\n",
       "3                        HasKmLimit     -0.066859                  -0.016827\n",
       "4                        BonusMalus     -0.002345                  -0.039579\n",
       "5                          OutUseNb     -0.021085                  -0.015749\n",
       "6                          RiskArea      0.030396                   0.067861\n",
       "7                   driver_minage_m     -0.021733                  -0.397791\n",
       "8                   driver_minage_f      0.012161                   0.187589\n",
       "9                 driver_minage_m_2      0.000179                   0.268589\n",
       "10                driver_minage_f_2     -0.000154                  -0.183893\n",
       "11                 VehUsage_Private      0.000000                   0.000000\n",
       "12  VehUsage_Private+trip to office      0.024089                   0.012019\n",
       "13            VehUsage_Professional     -0.021973                  -0.008023\n",
       "14        VehUsage_Professional run     -0.290266                  -0.044476\n",
       "15                  SocioCateg_CSP1     -0.129253                  -0.020325\n",
       "16                  SocioCateg_CSP2     -0.218260                  -0.037997\n",
       "17                  SocioCateg_CSP3     -0.069526                  -0.006869\n",
       "18                  SocioCateg_CSP4     -0.019099                  -0.005290\n",
       "19                  SocioCateg_CSP5      0.000000                   0.000000\n",
       "20                  SocioCateg_CSP6      0.092551                   0.035955\n",
       "21                  SocioCateg_CSP7     -1.358740                  -0.015578"
      ]
     },
     "execution_count": 46,
     "metadata": {},
     "output_type": "execute_result"
    }
   ],
   "source": [
    "# Таблица коэффициентов модели (в зависимости от модели могут выводиться также стандартная ошибка, z-score и p-value)\n",
    "\n",
    "glm_gamma._model_json['output']['coefficients_table'].as_data_frame()"
   ]
  },
  {
   "cell_type": "code",
   "execution_count": 47,
   "metadata": {
    "colab": {
     "base_uri": "https://localhost:8080/",
     "height": 731
    },
    "id": "DFa-sS1ME7eq",
    "outputId": "9f12aaa2-646c-4c6c-e7bc-798f0137820a"
   },
   "outputs": [
    {
     "data": {
      "text/html": [
       "<div>\n",
       "<style scoped>\n",
       "    .dataframe tbody tr th:only-of-type {\n",
       "        vertical-align: middle;\n",
       "    }\n",
       "\n",
       "    .dataframe tbody tr th {\n",
       "        vertical-align: top;\n",
       "    }\n",
       "\n",
       "    .dataframe thead th {\n",
       "        text-align: right;\n",
       "    }\n",
       "</style>\n",
       "<table border=\"1\" class=\"dataframe\">\n",
       "  <thead>\n",
       "    <tr style=\"text-align: right;\">\n",
       "      <th></th>\n",
       "      <th>overall</th>\n",
       "      <th>0</th>\n",
       "      <th>1</th>\n",
       "      <th>2</th>\n",
       "      <th>3</th>\n",
       "      <th>4</th>\n",
       "    </tr>\n",
       "  </thead>\n",
       "  <tbody>\n",
       "    <tr>\n",
       "      <th>Intercept</th>\n",
       "      <td>1.57587</td>\n",
       "      <td>7.01577</td>\n",
       "      <td>7.02699</td>\n",
       "      <td>6.98162</td>\n",
       "      <td>7.02726</td>\n",
       "      <td>7.02641</td>\n",
       "    </tr>\n",
       "    <tr>\n",
       "      <th>driver_minage_f</th>\n",
       "      <td>0.19839</td>\n",
       "      <td>0.22621</td>\n",
       "      <td>0.32355</td>\n",
       "      <td>0.00000</td>\n",
       "      <td>0.15176</td>\n",
       "      <td>0.19353</td>\n",
       "    </tr>\n",
       "    <tr>\n",
       "      <th>BonusMalus</th>\n",
       "      <td>0.19684</td>\n",
       "      <td>-0.02520</td>\n",
       "      <td>-0.04086</td>\n",
       "      <td>-0.03656</td>\n",
       "      <td>-0.04664</td>\n",
       "      <td>-0.04134</td>\n",
       "    </tr>\n",
       "    <tr>\n",
       "      <th>HasKmLimit</th>\n",
       "      <td>0.13729</td>\n",
       "      <td>-0.02540</td>\n",
       "      <td>-0.01681</td>\n",
       "      <td>-0.00923</td>\n",
       "      <td>-0.01779</td>\n",
       "      <td>-0.01103</td>\n",
       "    </tr>\n",
       "    <tr>\n",
       "      <th>driver_minage_f_2</th>\n",
       "      <td>0.11390</td>\n",
       "      <td>-0.21096</td>\n",
       "      <td>-0.27289</td>\n",
       "      <td>-0.04329</td>\n",
       "      <td>-0.16013</td>\n",
       "      <td>-0.19888</td>\n",
       "    </tr>\n",
       "    <tr>\n",
       "      <th>VehUsage_Professional</th>\n",
       "      <td>0.10578</td>\n",
       "      <td>-0.01198</td>\n",
       "      <td>-0.02204</td>\n",
       "      <td>-0.00412</td>\n",
       "      <td>0.00000</td>\n",
       "      <td>-0.01118</td>\n",
       "    </tr>\n",
       "    <tr>\n",
       "      <th>VehUsage_Private</th>\n",
       "      <td>0.09012</td>\n",
       "      <td>0.00000</td>\n",
       "      <td>0.00000</td>\n",
       "      <td>0.00000</td>\n",
       "      <td>-0.01007</td>\n",
       "      <td>0.00000</td>\n",
       "    </tr>\n",
       "    <tr>\n",
       "      <th>Gender</th>\n",
       "      <td>0.07935</td>\n",
       "      <td>-0.12857</td>\n",
       "      <td>-0.17292</td>\n",
       "      <td>-0.22137</td>\n",
       "      <td>-0.17077</td>\n",
       "      <td>-0.05644</td>\n",
       "    </tr>\n",
       "    <tr>\n",
       "      <th>VehUsage_Professional run</th>\n",
       "      <td>0.06599</td>\n",
       "      <td>-0.04803</td>\n",
       "      <td>-0.04324</td>\n",
       "      <td>-0.02600</td>\n",
       "      <td>-0.05273</td>\n",
       "      <td>-0.05642</td>\n",
       "    </tr>\n",
       "    <tr>\n",
       "      <th>OutUseNb</th>\n",
       "      <td>0.05704</td>\n",
       "      <td>-0.01464</td>\n",
       "      <td>-0.03258</td>\n",
       "      <td>0.00197</td>\n",
       "      <td>-0.03350</td>\n",
       "      <td>0.00000</td>\n",
       "    </tr>\n",
       "    <tr>\n",
       "      <th>MariStat</th>\n",
       "      <td>0.04125</td>\n",
       "      <td>0.12898</td>\n",
       "      <td>0.13269</td>\n",
       "      <td>0.03521</td>\n",
       "      <td>0.13788</td>\n",
       "      <td>0.10335</td>\n",
       "    </tr>\n",
       "    <tr>\n",
       "      <th>SocioCateg_CSP2</th>\n",
       "      <td>0.03421</td>\n",
       "      <td>-0.03868</td>\n",
       "      <td>-0.04733</td>\n",
       "      <td>-0.01991</td>\n",
       "      <td>-0.05177</td>\n",
       "      <td>-0.03029</td>\n",
       "    </tr>\n",
       "    <tr>\n",
       "      <th>SocioCateg_CSP3</th>\n",
       "      <td>0.02518</td>\n",
       "      <td>-0.00849</td>\n",
       "      <td>-0.02447</td>\n",
       "      <td>0.00358</td>\n",
       "      <td>0.00136</td>\n",
       "      <td>-0.01167</td>\n",
       "    </tr>\n",
       "    <tr>\n",
       "      <th>SocioCateg_CSP6</th>\n",
       "      <td>0.02482</td>\n",
       "      <td>0.05875</td>\n",
       "      <td>0.03950</td>\n",
       "      <td>0.05455</td>\n",
       "      <td>0.01858</td>\n",
       "      <td>0.00363</td>\n",
       "    </tr>\n",
       "    <tr>\n",
       "      <th>RiskArea</th>\n",
       "      <td>0.02242</td>\n",
       "      <td>0.05050</td>\n",
       "      <td>0.06490</td>\n",
       "      <td>0.09896</td>\n",
       "      <td>0.07165</td>\n",
       "      <td>0.05123</td>\n",
       "    </tr>\n",
       "    <tr>\n",
       "      <th>SocioCateg_CSP4</th>\n",
       "      <td>0.01270</td>\n",
       "      <td>0.00071</td>\n",
       "      <td>0.00656</td>\n",
       "      <td>0.00268</td>\n",
       "      <td>-0.03059</td>\n",
       "      <td>-0.00779</td>\n",
       "    </tr>\n",
       "    <tr>\n",
       "      <th>SocioCateg_CSP1</th>\n",
       "      <td>0.01200</td>\n",
       "      <td>-0.03653</td>\n",
       "      <td>-0.01054</td>\n",
       "      <td>-0.00973</td>\n",
       "      <td>-0.02773</td>\n",
       "      <td>-0.01705</td>\n",
       "    </tr>\n",
       "    <tr>\n",
       "      <th>SocioCateg_CSP7</th>\n",
       "      <td>0.00524</td>\n",
       "      <td>-0.01707</td>\n",
       "      <td>-0.01699</td>\n",
       "      <td>-0.01937</td>\n",
       "      <td>-0.01669</td>\n",
       "      <td>0.00000</td>\n",
       "    </tr>\n",
       "    <tr>\n",
       "      <th>driver_minage_m</th>\n",
       "      <td>0.00393</td>\n",
       "      <td>-0.18273</td>\n",
       "      <td>-0.21299</td>\n",
       "      <td>-0.90107</td>\n",
       "      <td>-0.57209</td>\n",
       "      <td>-0.12721</td>\n",
       "    </tr>\n",
       "    <tr>\n",
       "      <th>SocioCateg_CSP5</th>\n",
       "      <td>0.00177</td>\n",
       "      <td>0.00000</td>\n",
       "      <td>0.00000</td>\n",
       "      <td>-0.00050</td>\n",
       "      <td>0.00000</td>\n",
       "      <td>0.00000</td>\n",
       "    </tr>\n",
       "    <tr>\n",
       "      <th>driver_minage_m_2</th>\n",
       "      <td>0.00000</td>\n",
       "      <td>0.09064</td>\n",
       "      <td>0.10661</td>\n",
       "      <td>0.66487</td>\n",
       "      <td>0.40263</td>\n",
       "      <td>0.08825</td>\n",
       "    </tr>\n",
       "    <tr>\n",
       "      <th>VehUsage_Private+trip to office</th>\n",
       "      <td>0.00000</td>\n",
       "      <td>0.00656</td>\n",
       "      <td>0.02539</td>\n",
       "      <td>0.00343</td>\n",
       "      <td>0.00360</td>\n",
       "      <td>0.00593</td>\n",
       "    </tr>\n",
       "  </tbody>\n",
       "</table>\n",
       "</div>"
      ],
      "text/plain": [
       "                                 overall        0        1        2        3  \\\n",
       "Intercept                        1.57587  7.01577  7.02699  6.98162  7.02726   \n",
       "driver_minage_f                  0.19839  0.22621  0.32355  0.00000  0.15176   \n",
       "BonusMalus                       0.19684 -0.02520 -0.04086 -0.03656 -0.04664   \n",
       "HasKmLimit                       0.13729 -0.02540 -0.01681 -0.00923 -0.01779   \n",
       "driver_minage_f_2                0.11390 -0.21096 -0.27289 -0.04329 -0.16013   \n",
       "VehUsage_Professional            0.10578 -0.01198 -0.02204 -0.00412  0.00000   \n",
       "VehUsage_Private                 0.09012  0.00000  0.00000  0.00000 -0.01007   \n",
       "Gender                           0.07935 -0.12857 -0.17292 -0.22137 -0.17077   \n",
       "VehUsage_Professional run        0.06599 -0.04803 -0.04324 -0.02600 -0.05273   \n",
       "OutUseNb                         0.05704 -0.01464 -0.03258  0.00197 -0.03350   \n",
       "MariStat                         0.04125  0.12898  0.13269  0.03521  0.13788   \n",
       "SocioCateg_CSP2                  0.03421 -0.03868 -0.04733 -0.01991 -0.05177   \n",
       "SocioCateg_CSP3                  0.02518 -0.00849 -0.02447  0.00358  0.00136   \n",
       "SocioCateg_CSP6                  0.02482  0.05875  0.03950  0.05455  0.01858   \n",
       "RiskArea                         0.02242  0.05050  0.06490  0.09896  0.07165   \n",
       "SocioCateg_CSP4                  0.01270  0.00071  0.00656  0.00268 -0.03059   \n",
       "SocioCateg_CSP1                  0.01200 -0.03653 -0.01054 -0.00973 -0.02773   \n",
       "SocioCateg_CSP7                  0.00524 -0.01707 -0.01699 -0.01937 -0.01669   \n",
       "driver_minage_m                  0.00393 -0.18273 -0.21299 -0.90107 -0.57209   \n",
       "SocioCateg_CSP5                  0.00177  0.00000  0.00000 -0.00050  0.00000   \n",
       "driver_minage_m_2                0.00000  0.09064  0.10661  0.66487  0.40263   \n",
       "VehUsage_Private+trip to office  0.00000  0.00656  0.02539  0.00343  0.00360   \n",
       "\n",
       "                                       4  \n",
       "Intercept                        7.02641  \n",
       "driver_minage_f                  0.19353  \n",
       "BonusMalus                      -0.04134  \n",
       "HasKmLimit                      -0.01103  \n",
       "driver_minage_f_2               -0.19888  \n",
       "VehUsage_Professional           -0.01118  \n",
       "VehUsage_Private                 0.00000  \n",
       "Gender                          -0.05644  \n",
       "VehUsage_Professional run       -0.05642  \n",
       "OutUseNb                         0.00000  \n",
       "MariStat                         0.10335  \n",
       "SocioCateg_CSP2                 -0.03029  \n",
       "SocioCateg_CSP3                 -0.01167  \n",
       "SocioCateg_CSP6                  0.00363  \n",
       "RiskArea                         0.05123  \n",
       "SocioCateg_CSP4                 -0.00779  \n",
       "SocioCateg_CSP1                 -0.01705  \n",
       "SocioCateg_CSP7                  0.00000  \n",
       "driver_minage_m                 -0.12721  \n",
       "SocioCateg_CSP5                  0.00000  \n",
       "driver_minage_m_2                0.08825  \n",
       "VehUsage_Private+trip to office  0.00593  "
      ]
     },
     "execution_count": 47,
     "metadata": {},
     "output_type": "execute_result"
    }
   ],
   "source": [
    "# Таблица нормированных коэффициентов по всем данным и на кросс-валидации\n",
    "\n",
    "pmodels = {}\n",
    "pmodels['overall'] = glm_gamma.coef_norm()\n",
    "for x in range(len(glm_gamma.cross_validation_models())):\n",
    "    pmodels[x] = glm_gamma.cross_validation_models()[x].coef_norm()\n",
    "coef_ac = pd.DataFrame.from_dict(pmodels).round(5)\n",
    "coef_ac['overall'] = abs(coef['overall'])\n",
    "coef_ac.sort_values('overall',ascending=False)"
   ]
  },
  {
   "cell_type": "code",
   "execution_count": 48,
   "metadata": {
    "colab": {
     "base_uri": "https://localhost:8080/"
    },
    "id": "CoBse4X5_no7",
    "outputId": "e5bb6dee-118a-4e15-e7aa-8b85c663c2a1"
   },
   "outputs": [
    {
     "name": "stdout",
     "output_type": "stream",
     "text": [
      "glm prediction progress: |████████████████████████████████████████████████| 100%\n",
      "glm prediction progress: |████████████████████████████████████████████████| 100%\n",
      "glm prediction progress: |████████████████████████████████████████████████| 100%\n"
     ]
    }
   ],
   "source": [
    "# Построение прогнозных значений для обучающей, валидационной и тестовой выборок\n",
    "\n",
    "ac_train_pred = glm_gamma.predict(h2o_train_ac).as_data_frame()\n",
    "ac_valid_pred = glm_gamma.predict(h2o_valid_ac).as_data_frame()\n",
    "ac_test_pred = glm_gamma.predict(h2o_test_ac).as_data_frame()"
   ]
  },
  {
   "cell_type": "code",
   "execution_count": 50,
   "metadata": {
    "id": "3Brr0O0zUKKW"
   },
   "outputs": [],
   "source": [
    "# Сохранение обученной модели\n",
    "\n",
    "model_glm_gamma = h2o.save_model(model=glm_gamma, path='', force=True)"
   ]
  },
  {
   "cell_type": "code",
   "execution_count": 51,
   "metadata": {
    "colab": {
     "base_uri": "https://localhost:8080/",
     "height": 35
    },
    "id": "VouX3Z7FUKIN",
    "outputId": "2a90da1c-ad1b-456f-d81c-fa1b0cee01f2"
   },
   "outputs": [
    {
     "data": {
      "text/plain": [
       "'/home/vavpavlov/Education/Geekbrains/ML_in_business/Lesson_7/GLM_model_python_1605799452444_2'"
      ]
     },
     "execution_count": 51,
     "metadata": {},
     "output_type": "execute_result"
    }
   ],
   "source": [
    "model_glm_gamma"
   ]
  },
  {
   "cell_type": "markdown",
   "metadata": {
    "id": "A84l-r2aIxfK"
   },
   "source": [
    "## Использование GLM моделей"
   ]
  },
  {
   "cell_type": "code",
   "execution_count": 52,
   "metadata": {
    "colab": {
     "base_uri": "https://localhost:8080/"
    },
    "id": "-bkMpTD6Gcra",
    "outputId": "4fdc98bb-3030-4d03-b927-76616d4edba4"
   },
   "outputs": [
    {
     "name": "stdout",
     "output_type": "stream",
     "text": [
      "Parse progress: |█████████████████████████████████████████████████████████| 100%\n"
     ]
    }
   ],
   "source": [
    "h2o_df = h2o.H2OFrame(df_freq[col_features])"
   ]
  },
  {
   "cell_type": "code",
   "execution_count": 53,
   "metadata": {
    "colab": {
     "base_uri": "https://localhost:8080/"
    },
    "id": "meqzcQNpI6JJ",
    "outputId": "10d51683-06af-44e9-a300-bec3dfd9082c"
   },
   "outputs": [
    {
     "name": "stdout",
     "output_type": "stream",
     "text": [
      "glm prediction progress: |████████████████████████████████████████████████| 100%\n",
      "glm prediction progress: |████████████████████████████████████████████████| 100%\n"
     ]
    }
   ],
   "source": [
    "df['CountPredicted'] = glm_poisson.predict(h2o_df).as_data_frame()\n",
    "df['AvgClaimPredicted'] = glm_gamma.predict(h2o_df).as_data_frame()"
   ]
  },
  {
   "cell_type": "code",
   "execution_count": 54,
   "metadata": {
    "colab": {
     "base_uri": "https://localhost:8080/",
     "height": 204
    },
    "id": "gjK52WywJdHk",
    "outputId": "1c3be39b-3181-49d9-f9b2-1f66b1ba3c55"
   },
   "outputs": [
    {
     "data": {
      "text/html": [
       "<div>\n",
       "<style scoped>\n",
       "    .dataframe tbody tr th:only-of-type {\n",
       "        vertical-align: middle;\n",
       "    }\n",
       "\n",
       "    .dataframe tbody tr th {\n",
       "        vertical-align: top;\n",
       "    }\n",
       "\n",
       "    .dataframe thead th {\n",
       "        text-align: right;\n",
       "    }\n",
       "</style>\n",
       "<table border=\"1\" class=\"dataframe\">\n",
       "  <thead>\n",
       "    <tr style=\"text-align: right;\">\n",
       "      <th></th>\n",
       "      <th>CountPredicted</th>\n",
       "      <th>AvgClaimPredicted</th>\n",
       "      <th>BurningCost</th>\n",
       "    </tr>\n",
       "  </thead>\n",
       "  <tbody>\n",
       "    <tr>\n",
       "      <th>0</th>\n",
       "      <td>0.268689</td>\n",
       "      <td>1087.936414</td>\n",
       "      <td>292.316704</td>\n",
       "    </tr>\n",
       "    <tr>\n",
       "      <th>1</th>\n",
       "      <td>0.268689</td>\n",
       "      <td>1087.936414</td>\n",
       "      <td>292.316704</td>\n",
       "    </tr>\n",
       "    <tr>\n",
       "      <th>2</th>\n",
       "      <td>0.240122</td>\n",
       "      <td>1146.063987</td>\n",
       "      <td>275.195142</td>\n",
       "    </tr>\n",
       "    <tr>\n",
       "      <th>3</th>\n",
       "      <td>0.200097</td>\n",
       "      <td>1127.364931</td>\n",
       "      <td>225.582287</td>\n",
       "    </tr>\n",
       "    <tr>\n",
       "      <th>4</th>\n",
       "      <td>0.168869</td>\n",
       "      <td>1106.883916</td>\n",
       "      <td>186.918109</td>\n",
       "    </tr>\n",
       "  </tbody>\n",
       "</table>\n",
       "</div>"
      ],
      "text/plain": [
       "   CountPredicted  AvgClaimPredicted  BurningCost\n",
       "0        0.268689        1087.936414   292.316704\n",
       "1        0.268689        1087.936414   292.316704\n",
       "2        0.240122        1146.063987   275.195142\n",
       "3        0.200097        1127.364931   225.582287\n",
       "4        0.168869        1106.883916   186.918109"
      ]
     },
     "execution_count": 54,
     "metadata": {},
     "output_type": "execute_result"
    }
   ],
   "source": [
    "df['BurningCost'] = df.CountPredicted * df.AvgClaimPredicted\n",
    "df[['CountPredicted', 'AvgClaimPredicted', 'BurningCost']].head()"
   ]
  },
  {
   "cell_type": "markdown",
   "metadata": {
    "id": "Xljx8j0-_jXR"
   },
   "source": [
    "# * Домашнее задание: GLM для прогнозирования наступления страхового случая"
   ]
  },
  {
   "cell_type": "code",
   "execution_count": 56,
   "metadata": {
    "id": "EgD9hvYAIury"
   },
   "outputs": [],
   "source": [
    "# Разбиение датасета на train/val/test\n",
    "\n",
    "df_ind = data.get_pd(col_features+['ClaimInd'])\n",
    "Target = 'ClaimInd'\n",
    "\n",
    "\n",
    "x_train_ind, x_test_ind, y_train_ind, y_test_ind = train_test_split(df_ind[col_features], df_ind.ClaimInd, test_size=0.3, random_state=1)\n",
    "x_valid_ind, x_test_ind, y_valid_ind, y_test_ind = train_test_split(x_test_ind, y_test_ind, test_size=0.5, random_state=1)"
   ]
  },
  {
   "cell_type": "code",
   "execution_count": 57,
   "metadata": {},
   "outputs": [
    {
     "data": {
      "text/plain": [
       "54963     1\n",
       "66206     1\n",
       "85792     0\n",
       "42484     0\n",
       "113082    0\n",
       "Name: ClaimInd, dtype: int64"
      ]
     },
     "execution_count": 57,
     "metadata": {},
     "output_type": "execute_result"
    }
   ],
   "source": [
    "y_train_ind.head()"
   ]
  },
  {
   "cell_type": "code",
   "execution_count": 58,
   "metadata": {},
   "outputs": [
    {
     "data": {
      "text/html": [
       "<div>\n",
       "<style scoped>\n",
       "    .dataframe tbody tr th:only-of-type {\n",
       "        vertical-align: middle;\n",
       "    }\n",
       "\n",
       "    .dataframe tbody tr th {\n",
       "        vertical-align: top;\n",
       "    }\n",
       "\n",
       "    .dataframe thead th {\n",
       "        text-align: right;\n",
       "    }\n",
       "</style>\n",
       "<table border=\"1\" class=\"dataframe\">\n",
       "  <thead>\n",
       "    <tr style=\"text-align: right;\">\n",
       "      <th></th>\n",
       "      <th>driver_minexp</th>\n",
       "      <th>Gender</th>\n",
       "      <th>MariStat</th>\n",
       "      <th>HasKmLimit</th>\n",
       "      <th>BonusMalus</th>\n",
       "      <th>OutUseNb</th>\n",
       "      <th>RiskArea</th>\n",
       "      <th>driver_minage_m</th>\n",
       "      <th>driver_minage_f</th>\n",
       "      <th>driver_minage_m_2</th>\n",
       "      <th>...</th>\n",
       "      <th>VehUsage_Private+trip to office</th>\n",
       "      <th>VehUsage_Professional</th>\n",
       "      <th>VehUsage_Professional run</th>\n",
       "      <th>SocioCateg_CSP1</th>\n",
       "      <th>SocioCateg_CSP2</th>\n",
       "      <th>SocioCateg_CSP3</th>\n",
       "      <th>SocioCateg_CSP4</th>\n",
       "      <th>SocioCateg_CSP5</th>\n",
       "      <th>SocioCateg_CSP6</th>\n",
       "      <th>SocioCateg_CSP7</th>\n",
       "    </tr>\n",
       "  </thead>\n",
       "  <tbody>\n",
       "    <tr>\n",
       "      <th>54963</th>\n",
       "      <td>52</td>\n",
       "      <td>1</td>\n",
       "      <td>0</td>\n",
       "      <td>0</td>\n",
       "      <td>50</td>\n",
       "      <td>0.0</td>\n",
       "      <td>10.0</td>\n",
       "      <td>18</td>\n",
       "      <td>55</td>\n",
       "      <td>324</td>\n",
       "      <td>...</td>\n",
       "      <td>1</td>\n",
       "      <td>0</td>\n",
       "      <td>0</td>\n",
       "      <td>0</td>\n",
       "      <td>0</td>\n",
       "      <td>0</td>\n",
       "      <td>0</td>\n",
       "      <td>1</td>\n",
       "      <td>0</td>\n",
       "      <td>0</td>\n",
       "    </tr>\n",
       "    <tr>\n",
       "      <th>66206</th>\n",
       "      <td>52</td>\n",
       "      <td>0</td>\n",
       "      <td>0</td>\n",
       "      <td>0</td>\n",
       "      <td>50</td>\n",
       "      <td>0.0</td>\n",
       "      <td>2.0</td>\n",
       "      <td>70</td>\n",
       "      <td>18</td>\n",
       "      <td>4900</td>\n",
       "      <td>...</td>\n",
       "      <td>0</td>\n",
       "      <td>0</td>\n",
       "      <td>0</td>\n",
       "      <td>0</td>\n",
       "      <td>0</td>\n",
       "      <td>0</td>\n",
       "      <td>0</td>\n",
       "      <td>0</td>\n",
       "      <td>1</td>\n",
       "      <td>0</td>\n",
       "    </tr>\n",
       "    <tr>\n",
       "      <th>85792</th>\n",
       "      <td>52</td>\n",
       "      <td>1</td>\n",
       "      <td>1</td>\n",
       "      <td>0</td>\n",
       "      <td>90</td>\n",
       "      <td>1.0</td>\n",
       "      <td>10.0</td>\n",
       "      <td>18</td>\n",
       "      <td>61</td>\n",
       "      <td>324</td>\n",
       "      <td>...</td>\n",
       "      <td>1</td>\n",
       "      <td>0</td>\n",
       "      <td>0</td>\n",
       "      <td>0</td>\n",
       "      <td>0</td>\n",
       "      <td>0</td>\n",
       "      <td>0</td>\n",
       "      <td>1</td>\n",
       "      <td>0</td>\n",
       "      <td>0</td>\n",
       "    </tr>\n",
       "    <tr>\n",
       "      <th>42484</th>\n",
       "      <td>52</td>\n",
       "      <td>1</td>\n",
       "      <td>0</td>\n",
       "      <td>0</td>\n",
       "      <td>80</td>\n",
       "      <td>0.0</td>\n",
       "      <td>10.0</td>\n",
       "      <td>18</td>\n",
       "      <td>26</td>\n",
       "      <td>324</td>\n",
       "      <td>...</td>\n",
       "      <td>1</td>\n",
       "      <td>0</td>\n",
       "      <td>0</td>\n",
       "      <td>0</td>\n",
       "      <td>0</td>\n",
       "      <td>0</td>\n",
       "      <td>0</td>\n",
       "      <td>1</td>\n",
       "      <td>0</td>\n",
       "      <td>0</td>\n",
       "    </tr>\n",
       "    <tr>\n",
       "      <th>113082</th>\n",
       "      <td>52</td>\n",
       "      <td>0</td>\n",
       "      <td>0</td>\n",
       "      <td>0</td>\n",
       "      <td>50</td>\n",
       "      <td>1.0</td>\n",
       "      <td>10.0</td>\n",
       "      <td>70</td>\n",
       "      <td>18</td>\n",
       "      <td>4900</td>\n",
       "      <td>...</td>\n",
       "      <td>0</td>\n",
       "      <td>0</td>\n",
       "      <td>0</td>\n",
       "      <td>0</td>\n",
       "      <td>0</td>\n",
       "      <td>0</td>\n",
       "      <td>0</td>\n",
       "      <td>0</td>\n",
       "      <td>1</td>\n",
       "      <td>0</td>\n",
       "    </tr>\n",
       "  </tbody>\n",
       "</table>\n",
       "<p>5 rows × 22 columns</p>\n",
       "</div>"
      ],
      "text/plain": [
       "        driver_minexp  Gender  MariStat  HasKmLimit  BonusMalus  OutUseNb  \\\n",
       "54963              52       1         0           0          50       0.0   \n",
       "66206              52       0         0           0          50       0.0   \n",
       "85792              52       1         1           0          90       1.0   \n",
       "42484              52       1         0           0          80       0.0   \n",
       "113082             52       0         0           0          50       1.0   \n",
       "\n",
       "        RiskArea  driver_minage_m  driver_minage_f  driver_minage_m_2  ...  \\\n",
       "54963       10.0               18               55                324  ...   \n",
       "66206        2.0               70               18               4900  ...   \n",
       "85792       10.0               18               61                324  ...   \n",
       "42484       10.0               18               26                324  ...   \n",
       "113082      10.0               70               18               4900  ...   \n",
       "\n",
       "        VehUsage_Private+trip to office  VehUsage_Professional  \\\n",
       "54963                                 1                      0   \n",
       "66206                                 0                      0   \n",
       "85792                                 1                      0   \n",
       "42484                                 1                      0   \n",
       "113082                                0                      0   \n",
       "\n",
       "        VehUsage_Professional run  SocioCateg_CSP1  SocioCateg_CSP2  \\\n",
       "54963                           0                0                0   \n",
       "66206                           0                0                0   \n",
       "85792                           0                0                0   \n",
       "42484                           0                0                0   \n",
       "113082                          0                0                0   \n",
       "\n",
       "        SocioCateg_CSP3  SocioCateg_CSP4  SocioCateg_CSP5  SocioCateg_CSP6  \\\n",
       "54963                 0                0                1                0   \n",
       "66206                 0                0                0                1   \n",
       "85792                 0                0                1                0   \n",
       "42484                 0                0                1                0   \n",
       "113082                0                0                0                1   \n",
       "\n",
       "        SocioCateg_CSP7  \n",
       "54963                 0  \n",
       "66206                 0  \n",
       "85792                 0  \n",
       "42484                 0  \n",
       "113082                0  \n",
       "\n",
       "[5 rows x 22 columns]"
      ]
     },
     "execution_count": 58,
     "metadata": {},
     "output_type": "execute_result"
    }
   ],
   "source": [
    "x_train_ind.head()"
   ]
  },
  {
   "cell_type": "code",
   "execution_count": 59,
   "metadata": {},
   "outputs": [
    {
     "data": {
      "text/plain": [
       "array([52, 28, 39, 27, 25, 48, 30, 51, 40, 26, 38, 50, 46, 31, 49, 43, 36,\n",
       "       37, 42, 41, 24, 33, 29, 45, 44, 47, 34, 35, 32])"
      ]
     },
     "execution_count": 59,
     "metadata": {},
     "output_type": "execute_result"
    }
   ],
   "source": [
    "x_test_ind['driver_minexp'].unique()"
   ]
  },
  {
   "cell_type": "code",
   "execution_count": 60,
   "metadata": {
    "colab": {
     "base_uri": "https://localhost:8080/",
     "height": 35
    },
    "id": "Bt_i4clofGFR",
    "outputId": "91376985-5b41-447b-a092-4c913664f303"
   },
   "outputs": [
    {
     "name": "stdout",
     "output_type": "stream",
     "text": [
      "Parse progress: |█████████████████████████████████████████████████████████| 100%\n",
      "Parse progress: |█████████████████████████████████████████████████████████| 100%\n",
      "Parse progress: |█████████████████████████████████████████████████████████| 100%\n"
     ]
    }
   ],
   "source": [
    "# Преобразование в H2O-Frame\n",
    "\n",
    "# Преобразование в H2O-Frame\n",
    "\n",
    "h2o_train_ind = h2o.H2OFrame(pd.concat([x_train_ind, y_train_ind], axis=1))\n",
    "h2o_valid_ind = h2o.H2OFrame(pd.concat([x_valid_ind, y_valid_ind], axis=1))\n",
    "h2o_test_ind = h2o.H2OFrame(pd.concat([x_test_ind, y_test_ind], axis=1))"
   ]
  },
  {
   "cell_type": "code",
   "execution_count": 61,
   "metadata": {
    "colab": {
     "base_uri": "https://localhost:8080/",
     "height": 34
    },
    "id": "5ETBVckIjIRC",
    "outputId": "06a3a2de-37d1-4c13-d49c-bd797f299665"
   },
   "outputs": [
    {
     "data": {
      "text/html": [
       "<table>\n",
       "<thead>\n",
       "<tr><th style=\"text-align: right;\">  ClaimInd</th></tr>\n",
       "</thead>\n",
       "<tbody>\n",
       "<tr><td style=\"text-align: right;\">         1</td></tr>\n",
       "<tr><td style=\"text-align: right;\">         1</td></tr>\n",
       "<tr><td style=\"text-align: right;\">         0</td></tr>\n",
       "<tr><td style=\"text-align: right;\">         0</td></tr>\n",
       "<tr><td style=\"text-align: right;\">         0</td></tr>\n",
       "<tr><td style=\"text-align: right;\">         0</td></tr>\n",
       "<tr><td style=\"text-align: right;\">         0</td></tr>\n",
       "<tr><td style=\"text-align: right;\">         0</td></tr>\n",
       "<tr><td style=\"text-align: right;\">         0</td></tr>\n",
       "<tr><td style=\"text-align: right;\">         0</td></tr>\n",
       "</tbody>\n",
       "</table>"
      ]
     },
     "metadata": {},
     "output_type": "display_data"
    },
    {
     "name": "stdout",
     "output_type": "stream",
     "text": [
      "\n"
     ]
    },
    {
     "data": {
      "text/html": [
       "<table>\n",
       "<thead>\n",
       "<tr><th style=\"text-align: right;\">  ClaimInd</th></tr>\n",
       "</thead>\n",
       "<tbody>\n",
       "<tr><td style=\"text-align: right;\">         1</td></tr>\n",
       "<tr><td style=\"text-align: right;\">         1</td></tr>\n",
       "<tr><td style=\"text-align: right;\">         0</td></tr>\n",
       "<tr><td style=\"text-align: right;\">         0</td></tr>\n",
       "<tr><td style=\"text-align: right;\">         0</td></tr>\n",
       "<tr><td style=\"text-align: right;\">         0</td></tr>\n",
       "<tr><td style=\"text-align: right;\">         0</td></tr>\n",
       "<tr><td style=\"text-align: right;\">         0</td></tr>\n",
       "<tr><td style=\"text-align: right;\">         0</td></tr>\n",
       "<tr><td style=\"text-align: right;\">         0</td></tr>\n",
       "</tbody>\n",
       "</table>"
      ]
     },
     "metadata": {},
     "output_type": "display_data"
    },
    {
     "name": "stdout",
     "output_type": "stream",
     "text": [
      "\n"
     ]
    },
    {
     "data": {
      "text/html": [
       "<table>\n",
       "<thead>\n",
       "<tr><th style=\"text-align: right;\">  C1</th></tr>\n",
       "</thead>\n",
       "<tbody>\n",
       "<tr><td style=\"text-align: right;\">   0</td></tr>\n",
       "<tr><td style=\"text-align: right;\">   1</td></tr>\n",
       "</tbody>\n",
       "</table>"
      ]
     },
     "metadata": {},
     "output_type": "display_data"
    },
    {
     "name": "stdout",
     "output_type": "stream",
     "text": [
      "\n"
     ]
    }
   ],
   "source": [
    "# Преобразуем целевую переменную ClaimInd в категориальную при помощи метода asfactor во всех наборах данных\n",
    "print(h2o_train_ind[Target].head())\n",
    "h2o_train_ind[Target] = h2o_train_ind[Target].asfactor()\n",
    "print(h2o_train_ind[Target].head())\n",
    "print(h2o_train_ind[Target].unique())"
   ]
  },
  {
   "cell_type": "code",
   "execution_count": 62,
   "metadata": {},
   "outputs": [],
   "source": [
    "h2o_test_ind[Target] = h2o_test_ind[Target].asfactor()\n",
    "h2o_valid_ind[Target] = h2o_valid_ind[Target].asfactor()"
   ]
  },
  {
   "cell_type": "code",
   "execution_count": 63,
   "metadata": {},
   "outputs": [
    {
     "data": {
      "text/html": [
       "<table>\n",
       "<thead>\n",
       "<tr><th style=\"text-align: right;\">  ClaimInd</th></tr>\n",
       "</thead>\n",
       "<tbody>\n",
       "<tr><td style=\"text-align: right;\">         0</td></tr>\n",
       "<tr><td style=\"text-align: right;\">         0</td></tr>\n",
       "<tr><td style=\"text-align: right;\">         0</td></tr>\n",
       "<tr><td style=\"text-align: right;\">         0</td></tr>\n",
       "<tr><td style=\"text-align: right;\">         0</td></tr>\n",
       "<tr><td style=\"text-align: right;\">         0</td></tr>\n",
       "<tr><td style=\"text-align: right;\">         0</td></tr>\n",
       "<tr><td style=\"text-align: right;\">         0</td></tr>\n",
       "<tr><td style=\"text-align: right;\">         0</td></tr>\n",
       "<tr><td style=\"text-align: right;\">         0</td></tr>\n",
       "</tbody>\n",
       "</table>"
      ]
     },
     "metadata": {},
     "output_type": "display_data"
    },
    {
     "data": {
      "text/plain": []
     },
     "execution_count": 63,
     "metadata": {},
     "output_type": "execute_result"
    }
   ],
   "source": [
    "list_col=np.array(h2o_test_ind.columns_by_type(coltype=\"categorical\")).astype(int).tolist()\n",
    "h2o_test_ind[list_col]"
   ]
  },
  {
   "cell_type": "code",
   "execution_count": 64,
   "metadata": {},
   "outputs": [
    {
     "data": {
      "text/plain": [
       "((80608, 23), (17274, 23), (17273, 23))"
      ]
     },
     "execution_count": 64,
     "metadata": {},
     "output_type": "execute_result"
    }
   ],
   "source": [
    "h2o_train_ind.shape, h2o_test_ind.shape, h2o_valid_ind.shape"
   ]
  },
  {
   "cell_type": "code",
   "execution_count": 65,
   "metadata": {},
   "outputs": [
    {
     "name": "stderr",
     "output_type": "stream",
     "text": [
      "/usr/lib/python3/dist-packages/pandas/plotting/_matplotlib/tools.py:307: MatplotlibDeprecationWarning: \n",
      "The rowNum attribute was deprecated in Matplotlib 3.2 and will be removed two minor releases later. Use ax.get_subplotspec().rowspan.start instead.\n",
      "  layout[ax.rowNum, ax.colNum] = ax.get_visible()\n",
      "/usr/lib/python3/dist-packages/pandas/plotting/_matplotlib/tools.py:307: MatplotlibDeprecationWarning: \n",
      "The colNum attribute was deprecated in Matplotlib 3.2 and will be removed two minor releases later. Use ax.get_subplotspec().colspan.start instead.\n",
      "  layout[ax.rowNum, ax.colNum] = ax.get_visible()\n",
      "/usr/lib/python3/dist-packages/pandas/plotting/_matplotlib/tools.py:313: MatplotlibDeprecationWarning: \n",
      "The rowNum attribute was deprecated in Matplotlib 3.2 and will be removed two minor releases later. Use ax.get_subplotspec().rowspan.start instead.\n",
      "  if not layout[ax.rowNum + 1, ax.colNum]:\n",
      "/usr/lib/python3/dist-packages/pandas/plotting/_matplotlib/tools.py:313: MatplotlibDeprecationWarning: \n",
      "The colNum attribute was deprecated in Matplotlib 3.2 and will be removed two minor releases later. Use ax.get_subplotspec().colspan.start instead.\n",
      "  if not layout[ax.rowNum + 1, ax.colNum]:\n"
     ]
    },
    {
     "data": {
      "image/png": "[encoded data removed]",
      "text/plain": [
       "<Figure size 1440x1440 with 25 Axes>"
      ]
     },
     "metadata": {
      "needs_background": "light"
     },
     "output_type": "display_data"
    }
   ],
   "source": [
    "h2o_train_ind[:-1].as_data_frame().hist(figsize=(20,20))\n",
    "plt.show()"
   ]
  },
  {
   "cell_type": "code",
   "execution_count": 66,
   "metadata": {},
   "outputs": [
    {
     "data": {
      "text/plain": [
       "['driver_minexp',\n",
       " 'Gender',\n",
       " 'MariStat',\n",
       " 'HasKmLimit',\n",
       " 'BonusMalus',\n",
       " 'OutUseNb',\n",
       " 'RiskArea',\n",
       " 'driver_minage_m',\n",
       " 'driver_minage_f',\n",
       " 'driver_minage_m_2',\n",
       " 'driver_minage_f_2',\n",
       " 'VehUsage_Private',\n",
       " 'VehUsage_Private+trip to office',\n",
       " 'VehUsage_Professional',\n",
       " 'VehUsage_Professional run',\n",
       " 'SocioCateg_CSP1',\n",
       " 'SocioCateg_CSP2',\n",
       " 'SocioCateg_CSP3',\n",
       " 'SocioCateg_CSP4',\n",
       " 'SocioCateg_CSP5',\n",
       " 'SocioCateg_CSP6',\n",
       " 'SocioCateg_CSP7',\n",
       " 'ClaimInd']"
      ]
     },
     "execution_count": 66,
     "metadata": {},
     "output_type": "execute_result"
    }
   ],
   "source": [
    "h2o_train_ind.names"
   ]
  },
  {
   "cell_type": "code",
   "execution_count": 67,
   "metadata": {},
   "outputs": [
    {
     "data": {
      "image/png": "[encoded data removed]",
      "text/plain": [
       "<Figure size 360x360 with 1 Axes>"
      ]
     },
     "metadata": {
      "needs_background": "light"
     },
     "output_type": "display_data"
    },
    {
     "data": {
      "image/png": "[encoded data removed]",
      "text/plain": [
       "<Figure size 360x360 with 1 Axes>"
      ]
     },
     "metadata": {
      "needs_background": "light"
     },
     "output_type": "display_data"
    }
   ],
   "source": [
    "h2o_train_ind[Target].as_data_frame().hist(figsize=(5,5))\n",
    "plt.show()\n",
    "h2o_test_ind[Target].as_data_frame().hist(figsize=(5,5))\n",
    "plt.show()"
   ]
  },
  {
   "cell_type": "code",
   "execution_count": 68,
   "metadata": {},
   "outputs": [
    {
     "name": "stdout",
     "output_type": "stream",
     "text": [
      "Parse progress: |█████████████████████████████████████████████████████████| 100%\n",
      "Parse progress: |█████████████████████████████████████████████████████████| 100%\n",
      "Parse progress: |█████████████████████████████████████████████████████████| 100%\n"
     ]
    }
   ],
   "source": [
    "df_ind = data.get_pd(col_features+['ClaimInd'])\n",
    "\n",
    "x_train_ind, x_test_ind, y_train_ind, y_test_ind = train_test_split(df_ind[col_features], df_ind.ClaimInd, test_size=0.3, random_state=1)\n",
    "x_valid_ind, x_test_ind, y_valid_ind, y_test_ind = train_test_split(x_test_ind, y_test_ind, test_size=0.5, random_state=1)\n",
    "\n",
    "h2o_train_ind = h2o.H2OFrame(pd.concat([x_train_ind, y_train_ind], axis=1))\n",
    "h2o_valid_ind = h2o.H2OFrame(pd.concat([x_valid_ind, y_valid_ind], axis=1))\n",
    "h2o_test_ind = h2o.H2OFrame(pd.concat([x_test_ind, y_test_ind], axis=1))\n",
    "\n",
    "h2o_train_ind['ClaimInd'] = h2o_train_ind['ClaimInd'].asfactor()\n",
    "h2o_valid_ind['ClaimInd'] = h2o_valid_ind['ClaimInd'].asfactor()\n",
    "h2o_test_ind['ClaimInd'] = h2o_test_ind['ClaimInd'].asfactor()\n",
    "\n"
   ]
  },
  {
   "cell_type": "code",
   "execution_count": 69,
   "metadata": {
    "colab": {
     "base_uri": "https://localhost:8080/",
     "height": 34
    },
    "id": "xoT7OG9ljwKY",
    "outputId": "b5ef07d3-af7d-467f-c1a6-3e085b9b62c2",
    "scrolled": true
   },
   "outputs": [
    {
     "name": "stdout",
     "output_type": "stream",
     "text": [
      "glm Model Build progress: |███████████████████████████████████████████████| 100%\n"
     ]
    }
   ],
   "source": [
    "# Инициализируем и обучим GLM модель c кросс-валидацией\n",
    "glm_binomial = H2OGeneralizedLinearEstimator(family = \"binomial\", link = \"logit\", nfolds=5, balance_classes=True)\n",
    "glm_binomial.train(y = \"ClaimInd\", x = h2o_train_ind.names[1:-2], training_frame = h2o_train_ind, validation_frame = h2o_valid_ind)"
   ]
  },
  {
   "cell_type": "code",
   "execution_count": 71,
   "metadata": {},
   "outputs": [
    {
     "name": "stdout",
     "output_type": "stream",
     "text": [
      "\n",
      "GLM Model: summary\n"
     ]
    },
    {
     "data": {
      "text/html": [
       "<div>\n",
       "<style scoped>\n",
       "    .dataframe tbody tr th:only-of-type {\n",
       "        vertical-align: middle;\n",
       "    }\n",
       "\n",
       "    .dataframe tbody tr th {\n",
       "        vertical-align: top;\n",
       "    }\n",
       "\n",
       "    .dataframe thead th {\n",
       "        text-align: right;\n",
       "    }\n",
       "</style>\n",
       "<table border=\"1\" class=\"dataframe\">\n",
       "  <thead>\n",
       "    <tr style=\"text-align: right;\">\n",
       "      <th></th>\n",
       "      <th></th>\n",
       "      <th>family</th>\n",
       "      <th>link</th>\n",
       "      <th>regularization</th>\n",
       "      <th>number_of_predictors_total</th>\n",
       "      <th>number_of_active_predictors</th>\n",
       "      <th>number_of_iterations</th>\n",
       "      <th>training_frame</th>\n",
       "    </tr>\n",
       "  </thead>\n",
       "  <tbody>\n",
       "    <tr>\n",
       "      <th>0</th>\n",
       "      <td></td>\n",
       "      <td>binomial</td>\n",
       "      <td>logit</td>\n",
       "      <td>Elastic Net (alpha = 0.5, lambda = 2.368E-5 )</td>\n",
       "      <td>20</td>\n",
       "      <td>20</td>\n",
       "      <td>3</td>\n",
       "      <td>py_12_sid_b9eb</td>\n",
       "    </tr>\n",
       "  </tbody>\n",
       "</table>\n",
       "</div>"
      ],
      "text/plain": [
       "       family   link                                 regularization  \\\n",
       "0    binomial  logit  Elastic Net (alpha = 0.5, lambda = 2.368E-5 )   \n",
       "\n",
       "   number_of_predictors_total number_of_active_predictors  \\\n",
       "0                          20                          20   \n",
       "\n",
       "   number_of_iterations  training_frame  \n",
       "0                     3  py_12_sid_b9eb  "
      ]
     },
     "metadata": {},
     "output_type": "display_data"
    },
    {
     "data": {
      "text/plain": []
     },
     "execution_count": 71,
     "metadata": {},
     "output_type": "execute_result"
    }
   ],
   "source": [
    "glm_binomial.summary()"
   ]
  },
  {
   "cell_type": "code",
   "execution_count": 72,
   "metadata": {},
   "outputs": [
    {
     "data": {
      "text/html": [
       "<div>\n",
       "<style scoped>\n",
       "    .dataframe tbody tr th:only-of-type {\n",
       "        vertical-align: middle;\n",
       "    }\n",
       "\n",
       "    .dataframe tbody tr th {\n",
       "        vertical-align: top;\n",
       "    }\n",
       "\n",
       "    .dataframe thead th {\n",
       "        text-align: right;\n",
       "    }\n",
       "</style>\n",
       "<table border=\"1\" class=\"dataframe\">\n",
       "  <thead>\n",
       "    <tr style=\"text-align: right;\">\n",
       "      <th></th>\n",
       "      <th></th>\n",
       "      <th>mean</th>\n",
       "      <th>sd</th>\n",
       "      <th>cv_1_valid</th>\n",
       "      <th>cv_2_valid</th>\n",
       "      <th>cv_3_valid</th>\n",
       "      <th>cv_4_valid</th>\n",
       "      <th>cv_5_valid</th>\n",
       "    </tr>\n",
       "  </thead>\n",
       "  <tbody>\n",
       "    <tr>\n",
       "      <th>0</th>\n",
       "      <td>accuracy</td>\n",
       "      <td>0.4675402</td>\n",
       "      <td>0.121271595</td>\n",
       "      <td>0.29869723</td>\n",
       "      <td>0.4371518</td>\n",
       "      <td>0.6165278</td>\n",
       "      <td>0.4381815</td>\n",
       "      <td>0.5471427</td>\n",
       "    </tr>\n",
       "    <tr>\n",
       "      <th>1</th>\n",
       "      <td>auc</td>\n",
       "      <td>0.563332</td>\n",
       "      <td>0.009054313</td>\n",
       "      <td>0.5488927</td>\n",
       "      <td>0.5703069</td>\n",
       "      <td>0.5646495</td>\n",
       "      <td>0.56139815</td>\n",
       "      <td>0.571413</td>\n",
       "    </tr>\n",
       "    <tr>\n",
       "      <th>2</th>\n",
       "      <td>aucpr</td>\n",
       "      <td>0.11389955</td>\n",
       "      <td>0.005453769</td>\n",
       "      <td>0.10784654</td>\n",
       "      <td>0.121078536</td>\n",
       "      <td>0.11625854</td>\n",
       "      <td>0.10906188</td>\n",
       "      <td>0.11525225</td>\n",
       "    </tr>\n",
       "    <tr>\n",
       "      <th>3</th>\n",
       "      <td>err</td>\n",
       "      <td>0.5324598</td>\n",
       "      <td>0.121271595</td>\n",
       "      <td>0.70130277</td>\n",
       "      <td>0.5628482</td>\n",
       "      <td>0.3834722</td>\n",
       "      <td>0.56181854</td>\n",
       "      <td>0.45285732</td>\n",
       "    </tr>\n",
       "    <tr>\n",
       "      <th>4</th>\n",
       "      <td>err_count</td>\n",
       "      <td>8584.0</td>\n",
       "      <td>1944.6154</td>\n",
       "      <td>11197.0</td>\n",
       "      <td>9193.0</td>\n",
       "      <td>6167.0</td>\n",
       "      <td>9120.0</td>\n",
       "      <td>7243.0</td>\n",
       "    </tr>\n",
       "    <tr>\n",
       "      <th>5</th>\n",
       "      <td>f0point5</td>\n",
       "      <td>0.1328656</td>\n",
       "      <td>0.008267254</td>\n",
       "      <td>0.122014485</td>\n",
       "      <td>0.13722378</td>\n",
       "      <td>0.14185491</td>\n",
       "      <td>0.1264829</td>\n",
       "      <td>0.13675186</td>\n",
       "    </tr>\n",
       "    <tr>\n",
       "      <th>6</th>\n",
       "      <td>f1</td>\n",
       "      <td>0.1883056</td>\n",
       "      <td>0.0073103495</td>\n",
       "      <td>0.17928608</td>\n",
       "      <td>0.19648632</td>\n",
       "      <td>0.19269538</td>\n",
       "      <td>0.18206277</td>\n",
       "      <td>0.19099744</td>\n",
       "    </tr>\n",
       "    <tr>\n",
       "      <th>7</th>\n",
       "      <td>f2</td>\n",
       "      <td>0.3250831</td>\n",
       "      <td>0.0178881</td>\n",
       "      <td>0.33788264</td>\n",
       "      <td>0.34584615</td>\n",
       "      <td>0.3003346</td>\n",
       "      <td>0.3247792</td>\n",
       "      <td>0.31657287</td>\n",
       "    </tr>\n",
       "    <tr>\n",
       "      <th>8</th>\n",
       "      <td>lift_top_group</td>\n",
       "      <td>1.3477367</td>\n",
       "      <td>0.30491936</td>\n",
       "      <td>1.7471212</td>\n",
       "      <td>1.2425635</td>\n",
       "      <td>1.2989362</td>\n",
       "      <td>0.93448085</td>\n",
       "      <td>1.5155817</td>\n",
       "    </tr>\n",
       "    <tr>\n",
       "      <th>9</th>\n",
       "      <td>logloss</td>\n",
       "      <td>0.31122002</td>\n",
       "      <td>0.0050693955</td>\n",
       "      <td>0.30811423</td>\n",
       "      <td>0.318478</td>\n",
       "      <td>0.31323156</td>\n",
       "      <td>0.30518612</td>\n",
       "      <td>0.31109017</td>\n",
       "    </tr>\n",
       "    <tr>\n",
       "      <th>10</th>\n",
       "      <td>max_per_class_error</td>\n",
       "      <td>0.5818145</td>\n",
       "      <td>0.11178552</td>\n",
       "      <td>0.75512743</td>\n",
       "      <td>0.5915818</td>\n",
       "      <td>0.5214564</td>\n",
       "      <td>0.58632386</td>\n",
       "      <td>0.45458314</td>\n",
       "    </tr>\n",
       "    <tr>\n",
       "      <th>11</th>\n",
       "      <td>mcc</td>\n",
       "      <td>0.059817966</td>\n",
       "      <td>0.008694375</td>\n",
       "      <td>0.0466448</td>\n",
       "      <td>0.06662688</td>\n",
       "      <td>0.0664649</td>\n",
       "      <td>0.055303227</td>\n",
       "      <td>0.064050026</td>\n",
       "    </tr>\n",
       "    <tr>\n",
       "      <th>12</th>\n",
       "      <td>mean_per_class_accuracy</td>\n",
       "      <td>0.54907084</td>\n",
       "      <td>0.008951743</td>\n",
       "      <td>0.5342208</td>\n",
       "      <td>0.55480176</td>\n",
       "      <td>0.55483145</td>\n",
       "      <td>0.5469855</td>\n",
       "      <td>0.55451465</td>\n",
       "    </tr>\n",
       "    <tr>\n",
       "      <th>13</th>\n",
       "      <td>mean_per_class_error</td>\n",
       "      <td>0.45092916</td>\n",
       "      <td>0.008951743</td>\n",
       "      <td>0.4657792</td>\n",
       "      <td>0.44519827</td>\n",
       "      <td>0.44516852</td>\n",
       "      <td>0.45301446</td>\n",
       "      <td>0.44548538</td>\n",
       "    </tr>\n",
       "    <tr>\n",
       "      <th>14</th>\n",
       "      <td>mse</td>\n",
       "      <td>0.08540029</td>\n",
       "      <td>0.0018740254</td>\n",
       "      <td>0.08416497</td>\n",
       "      <td>0.088077</td>\n",
       "      <td>0.08611836</td>\n",
       "      <td>0.08320033</td>\n",
       "      <td>0.085440785</td>\n",
       "    </tr>\n",
       "    <tr>\n",
       "      <th>15</th>\n",
       "      <td>null_deviance</td>\n",
       "      <td>10102.91</td>\n",
       "      <td>236.03021</td>\n",
       "      <td>9882.122</td>\n",
       "      <td>10488.881</td>\n",
       "      <td>10144.274</td>\n",
       "      <td>9967.405</td>\n",
       "      <td>10031.865</td>\n",
       "    </tr>\n",
       "    <tr>\n",
       "      <th>16</th>\n",
       "      <td>pr_auc</td>\n",
       "      <td>0.11389955</td>\n",
       "      <td>0.005453769</td>\n",
       "      <td>0.10784654</td>\n",
       "      <td>0.121078536</td>\n",
       "      <td>0.11625854</td>\n",
       "      <td>0.10906188</td>\n",
       "      <td>0.11525225</td>\n",
       "    </tr>\n",
       "    <tr>\n",
       "      <th>17</th>\n",
       "      <td>precision</td>\n",
       "      <td>0.11111088</td>\n",
       "      <td>0.008099515</td>\n",
       "      <td>0.1005922</td>\n",
       "      <td>0.11425086</td>\n",
       "      <td>0.120635964</td>\n",
       "      <td>0.105094224</td>\n",
       "      <td>0.114981174</td>\n",
       "    </tr>\n",
       "    <tr>\n",
       "      <th>18</th>\n",
       "      <td>r2</td>\n",
       "      <td>0.0038903712</td>\n",
       "      <td>0.0011268031</td>\n",
       "      <td>0.0023030874</td>\n",
       "      <td>0.0049196035</td>\n",
       "      <td>0.0042835376</td>\n",
       "      <td>0.0031567933</td>\n",
       "      <td>0.0047888346</td>\n",
       "    </tr>\n",
       "    <tr>\n",
       "      <th>19</th>\n",
       "      <td>recall</td>\n",
       "      <td>0.649441</td>\n",
       "      <td>0.13278034</td>\n",
       "      <td>0.823569</td>\n",
       "      <td>0.7011853</td>\n",
       "      <td>0.47854355</td>\n",
       "      <td>0.68029493</td>\n",
       "      <td>0.5636124</td>\n",
       "    </tr>\n",
       "    <tr>\n",
       "      <th>20</th>\n",
       "      <td>residual_deviance</td>\n",
       "      <td>10035.242</td>\n",
       "      <td>223.01903</td>\n",
       "      <td>9838.704</td>\n",
       "      <td>10403.402</td>\n",
       "      <td>10074.779</td>\n",
       "      <td>9908.173</td>\n",
       "      <td>9951.152</td>\n",
       "    </tr>\n",
       "    <tr>\n",
       "      <th>21</th>\n",
       "      <td>rmse</td>\n",
       "      <td>0.29221925</td>\n",
       "      <td>0.003202032</td>\n",
       "      <td>0.290112</td>\n",
       "      <td>0.2967777</td>\n",
       "      <td>0.2934593</td>\n",
       "      <td>0.28844467</td>\n",
       "      <td>0.29230255</td>\n",
       "    </tr>\n",
       "    <tr>\n",
       "      <th>22</th>\n",
       "      <td>specificity</td>\n",
       "      <td>0.44870064</td>\n",
       "      <td>0.14750075</td>\n",
       "      <td>0.24487258</td>\n",
       "      <td>0.4084182</td>\n",
       "      <td>0.6311194</td>\n",
       "      <td>0.41367614</td>\n",
       "      <td>0.5454169</td>\n",
       "    </tr>\n",
       "  </tbody>\n",
       "</table>\n",
       "</div>"
      ],
      "text/plain": [
       "                                     mean            sd    cv_1_valid  \\\n",
       "0                  accuracy     0.4675402   0.121271595    0.29869723   \n",
       "1                       auc      0.563332   0.009054313     0.5488927   \n",
       "2                     aucpr    0.11389955   0.005453769    0.10784654   \n",
       "3                       err     0.5324598   0.121271595    0.70130277   \n",
       "4                 err_count        8584.0     1944.6154       11197.0   \n",
       "5                  f0point5     0.1328656   0.008267254   0.122014485   \n",
       "6                        f1     0.1883056  0.0073103495    0.17928608   \n",
       "7                        f2     0.3250831     0.0178881    0.33788264   \n",
       "8            lift_top_group     1.3477367    0.30491936     1.7471212   \n",
       "9                   logloss    0.31122002  0.0050693955    0.30811423   \n",
       "10      max_per_class_error     0.5818145    0.11178552    0.75512743   \n",
       "11                      mcc   0.059817966   0.008694375     0.0466448   \n",
       "12  mean_per_class_accuracy    0.54907084   0.008951743     0.5342208   \n",
       "13     mean_per_class_error    0.45092916   0.008951743     0.4657792   \n",
       "14                      mse    0.08540029  0.0018740254    0.08416497   \n",
       "15            null_deviance      10102.91     236.03021      9882.122   \n",
       "16                   pr_auc    0.11389955   0.005453769    0.10784654   \n",
       "17                precision    0.11111088   0.008099515     0.1005922   \n",
       "18                       r2  0.0038903712  0.0011268031  0.0023030874   \n",
       "19                   recall      0.649441    0.13278034      0.823569   \n",
       "20        residual_deviance     10035.242     223.01903      9838.704   \n",
       "21                     rmse    0.29221925   0.003202032      0.290112   \n",
       "22              specificity    0.44870064    0.14750075    0.24487258   \n",
       "\n",
       "      cv_2_valid    cv_3_valid    cv_4_valid    cv_5_valid  \n",
       "0      0.4371518     0.6165278     0.4381815     0.5471427  \n",
       "1      0.5703069     0.5646495    0.56139815      0.571413  \n",
       "2    0.121078536    0.11625854    0.10906188    0.11525225  \n",
       "3      0.5628482     0.3834722    0.56181854    0.45285732  \n",
       "4         9193.0        6167.0        9120.0        7243.0  \n",
       "5     0.13722378    0.14185491     0.1264829    0.13675186  \n",
       "6     0.19648632    0.19269538    0.18206277    0.19099744  \n",
       "7     0.34584615     0.3003346     0.3247792    0.31657287  \n",
       "8      1.2425635     1.2989362    0.93448085     1.5155817  \n",
       "9       0.318478    0.31323156    0.30518612    0.31109017  \n",
       "10     0.5915818     0.5214564    0.58632386    0.45458314  \n",
       "11    0.06662688     0.0664649   0.055303227   0.064050026  \n",
       "12    0.55480176    0.55483145     0.5469855    0.55451465  \n",
       "13    0.44519827    0.44516852    0.45301446    0.44548538  \n",
       "14      0.088077    0.08611836    0.08320033   0.085440785  \n",
       "15     10488.881     10144.274      9967.405     10031.865  \n",
       "16   0.121078536    0.11625854    0.10906188    0.11525225  \n",
       "17    0.11425086   0.120635964   0.105094224   0.114981174  \n",
       "18  0.0049196035  0.0042835376  0.0031567933  0.0047888346  \n",
       "19     0.7011853    0.47854355    0.68029493     0.5636124  \n",
       "20     10403.402     10074.779      9908.173      9951.152  \n",
       "21     0.2967777     0.2934593    0.28844467    0.29230255  \n",
       "22     0.4084182     0.6311194    0.41367614     0.5454169  "
      ]
     },
     "execution_count": 72,
     "metadata": {},
     "output_type": "execute_result"
    }
   ],
   "source": [
    "glm_binomial.cross_validation_metrics_summary().as_data_frame()"
   ]
  },
  {
   "cell_type": "code",
   "execution_count": 74,
   "metadata": {},
   "outputs": [
    {
     "data": {
      "text/html": [
       "<div>\n",
       "<style scoped>\n",
       "    .dataframe tbody tr th:only-of-type {\n",
       "        vertical-align: middle;\n",
       "    }\n",
       "\n",
       "    .dataframe tbody tr th {\n",
       "        vertical-align: top;\n",
       "    }\n",
       "\n",
       "    .dataframe thead th {\n",
       "        text-align: right;\n",
       "    }\n",
       "</style>\n",
       "<table border=\"1\" class=\"dataframe\">\n",
       "  <thead>\n",
       "    <tr style=\"text-align: right;\">\n",
       "      <th></th>\n",
       "      <th>overall</th>\n",
       "      <th>0</th>\n",
       "      <th>1</th>\n",
       "      <th>2</th>\n",
       "      <th>3</th>\n",
       "      <th>4</th>\n",
       "    </tr>\n",
       "  </thead>\n",
       "  <tbody>\n",
       "    <tr>\n",
       "      <th>Intercept</th>\n",
       "      <td>2.27964</td>\n",
       "      <td>-2.27637</td>\n",
       "      <td>-2.28923</td>\n",
       "      <td>-2.28276</td>\n",
       "      <td>-2.27179</td>\n",
       "      <td>-2.27933</td>\n",
       "    </tr>\n",
       "    <tr>\n",
       "      <th>HasKmLimit</th>\n",
       "      <td>0.11551</td>\n",
       "      <td>-0.11043</td>\n",
       "      <td>-0.11479</td>\n",
       "      <td>-0.11880</td>\n",
       "      <td>-0.11380</td>\n",
       "      <td>-0.11963</td>\n",
       "    </tr>\n",
       "    <tr>\n",
       "      <th>BonusMalus</th>\n",
       "      <td>0.10427</td>\n",
       "      <td>0.10682</td>\n",
       "      <td>0.09489</td>\n",
       "      <td>0.10125</td>\n",
       "      <td>0.10926</td>\n",
       "      <td>0.10200</td>\n",
       "    </tr>\n",
       "    <tr>\n",
       "      <th>VehUsage_Professional</th>\n",
       "      <td>0.07470</td>\n",
       "      <td>0.08068</td>\n",
       "      <td>0.06725</td>\n",
       "      <td>0.07846</td>\n",
       "      <td>0.09178</td>\n",
       "      <td>0.06744</td>\n",
       "    </tr>\n",
       "    <tr>\n",
       "      <th>driver_minage_m</th>\n",
       "      <td>0.07014</td>\n",
       "      <td>-0.05935</td>\n",
       "      <td>-0.06407</td>\n",
       "      <td>-0.03765</td>\n",
       "      <td>-0.27352</td>\n",
       "      <td>-0.24835</td>\n",
       "    </tr>\n",
       "    <tr>\n",
       "      <th>VehUsage_Private</th>\n",
       "      <td>0.06792</td>\n",
       "      <td>-0.07126</td>\n",
       "      <td>-0.06175</td>\n",
       "      <td>-0.07598</td>\n",
       "      <td>-0.06428</td>\n",
       "      <td>-0.05474</td>\n",
       "    </tr>\n",
       "    <tr>\n",
       "      <th>OutUseNb</th>\n",
       "      <td>0.04272</td>\n",
       "      <td>0.05653</td>\n",
       "      <td>0.04868</td>\n",
       "      <td>0.03706</td>\n",
       "      <td>0.02705</td>\n",
       "      <td>0.04421</td>\n",
       "    </tr>\n",
       "    <tr>\n",
       "      <th>VehUsage_Professional run</th>\n",
       "      <td>0.03964</td>\n",
       "      <td>0.04394</td>\n",
       "      <td>0.03685</td>\n",
       "      <td>0.03705</td>\n",
       "      <td>0.04191</td>\n",
       "      <td>0.04345</td>\n",
       "    </tr>\n",
       "    <tr>\n",
       "      <th>Gender</th>\n",
       "      <td>0.03108</td>\n",
       "      <td>-0.01040</td>\n",
       "      <td>-0.04117</td>\n",
       "      <td>-0.02473</td>\n",
       "      <td>-0.06788</td>\n",
       "      <td>-0.07000</td>\n",
       "    </tr>\n",
       "    <tr>\n",
       "      <th>SocioCateg_CSP2</th>\n",
       "      <td>0.02430</td>\n",
       "      <td>-0.02796</td>\n",
       "      <td>-0.02463</td>\n",
       "      <td>-0.01475</td>\n",
       "      <td>-0.02878</td>\n",
       "      <td>-0.00810</td>\n",
       "    </tr>\n",
       "    <tr>\n",
       "      <th>MariStat</th>\n",
       "      <td>0.02330</td>\n",
       "      <td>-0.02326</td>\n",
       "      <td>-0.02593</td>\n",
       "      <td>-0.02444</td>\n",
       "      <td>-0.01991</td>\n",
       "      <td>-0.02630</td>\n",
       "    </tr>\n",
       "    <tr>\n",
       "      <th>RiskArea</th>\n",
       "      <td>0.02047</td>\n",
       "      <td>0.01740</td>\n",
       "      <td>0.00976</td>\n",
       "      <td>0.02230</td>\n",
       "      <td>0.02667</td>\n",
       "      <td>0.02650</td>\n",
       "    </tr>\n",
       "    <tr>\n",
       "      <th>SocioCateg_CSP6</th>\n",
       "      <td>0.02009</td>\n",
       "      <td>0.01950</td>\n",
       "      <td>0.02920</td>\n",
       "      <td>0.02399</td>\n",
       "      <td>0.02677</td>\n",
       "      <td>0.03650</td>\n",
       "    </tr>\n",
       "    <tr>\n",
       "      <th>driver_minage_f</th>\n",
       "      <td>0.01872</td>\n",
       "      <td>-0.02545</td>\n",
       "      <td>-0.02040</td>\n",
       "      <td>-0.00611</td>\n",
       "      <td>-0.02741</td>\n",
       "      <td>-0.04484</td>\n",
       "    </tr>\n",
       "    <tr>\n",
       "      <th>SocioCateg_CSP1</th>\n",
       "      <td>0.01619</td>\n",
       "      <td>-0.01402</td>\n",
       "      <td>-0.00145</td>\n",
       "      <td>-0.01434</td>\n",
       "      <td>-0.03601</td>\n",
       "      <td>0.00067</td>\n",
       "    </tr>\n",
       "    <tr>\n",
       "      <th>SocioCateg_CSP5</th>\n",
       "      <td>0.01312</td>\n",
       "      <td>0.00000</td>\n",
       "      <td>-0.00174</td>\n",
       "      <td>-0.00529</td>\n",
       "      <td>-0.00329</td>\n",
       "      <td>0.00000</td>\n",
       "    </tr>\n",
       "    <tr>\n",
       "      <th>SocioCateg_CSP3</th>\n",
       "      <td>0.01072</td>\n",
       "      <td>0.01727</td>\n",
       "      <td>0.00681</td>\n",
       "      <td>0.00956</td>\n",
       "      <td>0.02279</td>\n",
       "      <td>0.01160</td>\n",
       "    </tr>\n",
       "    <tr>\n",
       "      <th>driver_minage_m_2</th>\n",
       "      <td>0.00962</td>\n",
       "      <td>-0.00229</td>\n",
       "      <td>-0.03164</td>\n",
       "      <td>-0.03603</td>\n",
       "      <td>0.17108</td>\n",
       "      <td>0.13733</td>\n",
       "    </tr>\n",
       "    <tr>\n",
       "      <th>VehUsage_Private+trip to office</th>\n",
       "      <td>0.00826</td>\n",
       "      <td>-0.01080</td>\n",
       "      <td>-0.00680</td>\n",
       "      <td>-0.00880</td>\n",
       "      <td>0.00000</td>\n",
       "      <td>0.00000</td>\n",
       "    </tr>\n",
       "    <tr>\n",
       "      <th>SocioCateg_CSP4</th>\n",
       "      <td>0.00761</td>\n",
       "      <td>0.01086</td>\n",
       "      <td>0.01547</td>\n",
       "      <td>0.00271</td>\n",
       "      <td>0.01260</td>\n",
       "      <td>0.02526</td>\n",
       "    </tr>\n",
       "    <tr>\n",
       "      <th>driver_minage_f_2</th>\n",
       "      <td>0.00013</td>\n",
       "      <td>-0.00512</td>\n",
       "      <td>-0.00113</td>\n",
       "      <td>-0.00324</td>\n",
       "      <td>0.01115</td>\n",
       "      <td>0.02477</td>\n",
       "    </tr>\n",
       "  </tbody>\n",
       "</table>\n",
       "</div>"
      ],
      "text/plain": [
       "                                 overall        0        1        2        3  \\\n",
       "Intercept                        2.27964 -2.27637 -2.28923 -2.28276 -2.27179   \n",
       "HasKmLimit                       0.11551 -0.11043 -0.11479 -0.11880 -0.11380   \n",
       "BonusMalus                       0.10427  0.10682  0.09489  0.10125  0.10926   \n",
       "VehUsage_Professional            0.07470  0.08068  0.06725  0.07846  0.09178   \n",
       "driver_minage_m                  0.07014 -0.05935 -0.06407 -0.03765 -0.27352   \n",
       "VehUsage_Private                 0.06792 -0.07126 -0.06175 -0.07598 -0.06428   \n",
       "OutUseNb                         0.04272  0.05653  0.04868  0.03706  0.02705   \n",
       "VehUsage_Professional run        0.03964  0.04394  0.03685  0.03705  0.04191   \n",
       "Gender                           0.03108 -0.01040 -0.04117 -0.02473 -0.06788   \n",
       "SocioCateg_CSP2                  0.02430 -0.02796 -0.02463 -0.01475 -0.02878   \n",
       "MariStat                         0.02330 -0.02326 -0.02593 -0.02444 -0.01991   \n",
       "RiskArea                         0.02047  0.01740  0.00976  0.02230  0.02667   \n",
       "SocioCateg_CSP6                  0.02009  0.01950  0.02920  0.02399  0.02677   \n",
       "driver_minage_f                  0.01872 -0.02545 -0.02040 -0.00611 -0.02741   \n",
       "SocioCateg_CSP1                  0.01619 -0.01402 -0.00145 -0.01434 -0.03601   \n",
       "SocioCateg_CSP5                  0.01312  0.00000 -0.00174 -0.00529 -0.00329   \n",
       "SocioCateg_CSP3                  0.01072  0.01727  0.00681  0.00956  0.02279   \n",
       "driver_minage_m_2                0.00962 -0.00229 -0.03164 -0.03603  0.17108   \n",
       "VehUsage_Private+trip to office  0.00826 -0.01080 -0.00680 -0.00880  0.00000   \n",
       "SocioCateg_CSP4                  0.00761  0.01086  0.01547  0.00271  0.01260   \n",
       "driver_minage_f_2                0.00013 -0.00512 -0.00113 -0.00324  0.01115   \n",
       "\n",
       "                                       4  \n",
       "Intercept                       -2.27933  \n",
       "HasKmLimit                      -0.11963  \n",
       "BonusMalus                       0.10200  \n",
       "VehUsage_Professional            0.06744  \n",
       "driver_minage_m                 -0.24835  \n",
       "VehUsage_Private                -0.05474  \n",
       "OutUseNb                         0.04421  \n",
       "VehUsage_Professional run        0.04345  \n",
       "Gender                          -0.07000  \n",
       "SocioCateg_CSP2                 -0.00810  \n",
       "MariStat                        -0.02630  \n",
       "RiskArea                         0.02650  \n",
       "SocioCateg_CSP6                  0.03650  \n",
       "driver_minage_f                 -0.04484  \n",
       "SocioCateg_CSP1                  0.00067  \n",
       "SocioCateg_CSP5                  0.00000  \n",
       "SocioCateg_CSP3                  0.01160  \n",
       "driver_minage_m_2                0.13733  \n",
       "VehUsage_Private+trip to office  0.00000  \n",
       "SocioCateg_CSP4                  0.02526  \n",
       "driver_minage_f_2                0.02477  "
      ]
     },
     "execution_count": 74,
     "metadata": {},
     "output_type": "execute_result"
    }
   ],
   "source": [
    "pmodels = {}\n",
    "pmodels['overall'] = glm_binomial.coef_norm()\n",
    "for x in range(len(glm_binomial.cross_validation_models())):\n",
    "    pmodels[x] = glm_binomial.cross_validation_models()[x].coef_norm()\n",
    "coef = pd.DataFrame.from_dict(pmodels).round(5)\n",
    "coef['overall'] = abs(coef['overall'])\n",
    "coef.sort_values('overall', ascending=False)"
   ]
  },
  {
   "cell_type": "code",
   "execution_count": 75,
   "metadata": {
    "colab": {
     "base_uri": "https://localhost:8080/",
     "height": 34
    },
    "id": "KZ_XqTchoiYX",
    "outputId": "e3c87bcb-28cb-4e93-d265-a04ca7db176b"
   },
   "outputs": [
    {
     "data": {
      "text/html": [
       "<div>\n",
       "<style scoped>\n",
       "    .dataframe tbody tr th:only-of-type {\n",
       "        vertical-align: middle;\n",
       "    }\n",
       "\n",
       "    .dataframe tbody tr th {\n",
       "        vertical-align: top;\n",
       "    }\n",
       "\n",
       "    .dataframe thead th {\n",
       "        text-align: right;\n",
       "    }\n",
       "</style>\n",
       "<table border=\"1\" class=\"dataframe\">\n",
       "  <thead>\n",
       "    <tr style=\"text-align: right;\">\n",
       "      <th></th>\n",
       "      <th>names</th>\n",
       "      <th>coefficients</th>\n",
       "      <th>standardized_coefficients</th>\n",
       "    </tr>\n",
       "  </thead>\n",
       "  <tbody>\n",
       "    <tr>\n",
       "      <th>0</th>\n",
       "      <td>Intercept</td>\n",
       "      <td>-2.475904e+00</td>\n",
       "      <td>-2.279636</td>\n",
       "    </tr>\n",
       "    <tr>\n",
       "      <th>1</th>\n",
       "      <td>Gender</td>\n",
       "      <td>-6.412230e-02</td>\n",
       "      <td>-0.031080</td>\n",
       "    </tr>\n",
       "    <tr>\n",
       "      <th>2</th>\n",
       "      <td>MariStat</td>\n",
       "      <td>-6.469010e-02</td>\n",
       "      <td>-0.023304</td>\n",
       "    </tr>\n",
       "    <tr>\n",
       "      <th>3</th>\n",
       "      <td>HasKmLimit</td>\n",
       "      <td>-3.698690e-01</td>\n",
       "      <td>-0.115506</td>\n",
       "    </tr>\n",
       "    <tr>\n",
       "      <th>4</th>\n",
       "      <td>BonusMalus</td>\n",
       "      <td>6.792700e-03</td>\n",
       "      <td>0.104270</td>\n",
       "    </tr>\n",
       "    <tr>\n",
       "      <th>5</th>\n",
       "      <td>OutUseNb</td>\n",
       "      <td>6.140907e-02</td>\n",
       "      <td>0.042723</td>\n",
       "    </tr>\n",
       "    <tr>\n",
       "      <th>6</th>\n",
       "      <td>RiskArea</td>\n",
       "      <td>9.237981e-03</td>\n",
       "      <td>0.020468</td>\n",
       "    </tr>\n",
       "    <tr>\n",
       "      <th>7</th>\n",
       "      <td>driver_minage_m</td>\n",
       "      <td>-3.724896e-03</td>\n",
       "      <td>-0.070142</td>\n",
       "    </tr>\n",
       "    <tr>\n",
       "      <th>8</th>\n",
       "      <td>driver_minage_f</td>\n",
       "      <td>-1.167387e-03</td>\n",
       "      <td>-0.018724</td>\n",
       "    </tr>\n",
       "    <tr>\n",
       "      <th>9</th>\n",
       "      <td>driver_minage_m_2</td>\n",
       "      <td>-6.162300e-06</td>\n",
       "      <td>-0.009621</td>\n",
       "    </tr>\n",
       "    <tr>\n",
       "      <th>10</th>\n",
       "      <td>driver_minage_f_2</td>\n",
       "      <td>-1.040740e-07</td>\n",
       "      <td>-0.000131</td>\n",
       "    </tr>\n",
       "    <tr>\n",
       "      <th>11</th>\n",
       "      <td>VehUsage_Private</td>\n",
       "      <td>-1.436352e-01</td>\n",
       "      <td>-0.067923</td>\n",
       "    </tr>\n",
       "    <tr>\n",
       "      <th>12</th>\n",
       "      <td>VehUsage_Private+trip to office</td>\n",
       "      <td>-1.652625e-02</td>\n",
       "      <td>-0.008257</td>\n",
       "    </tr>\n",
       "    <tr>\n",
       "      <th>13</th>\n",
       "      <td>VehUsage_Professional</td>\n",
       "      <td>2.260116e-01</td>\n",
       "      <td>0.074696</td>\n",
       "    </tr>\n",
       "    <tr>\n",
       "      <th>14</th>\n",
       "      <td>VehUsage_Professional run</td>\n",
       "      <td>2.954791e-01</td>\n",
       "      <td>0.039642</td>\n",
       "    </tr>\n",
       "    <tr>\n",
       "      <th>15</th>\n",
       "      <td>SocioCateg_CSP1</td>\n",
       "      <td>-1.068416e-01</td>\n",
       "      <td>-0.016188</td>\n",
       "    </tr>\n",
       "    <tr>\n",
       "      <th>16</th>\n",
       "      <td>SocioCateg_CSP2</td>\n",
       "      <td>-1.458385e-01</td>\n",
       "      <td>-0.024296</td>\n",
       "    </tr>\n",
       "    <tr>\n",
       "      <th>17</th>\n",
       "      <td>SocioCateg_CSP3</td>\n",
       "      <td>1.033284e-01</td>\n",
       "      <td>0.010719</td>\n",
       "    </tr>\n",
       "    <tr>\n",
       "      <th>18</th>\n",
       "      <td>SocioCateg_CSP4</td>\n",
       "      <td>3.042854e-02</td>\n",
       "      <td>0.007609</td>\n",
       "    </tr>\n",
       "    <tr>\n",
       "      <th>19</th>\n",
       "      <td>SocioCateg_CSP5</td>\n",
       "      <td>-2.760245e-02</td>\n",
       "      <td>-0.013121</td>\n",
       "    </tr>\n",
       "    <tr>\n",
       "      <th>20</th>\n",
       "      <td>SocioCateg_CSP6</td>\n",
       "      <td>4.890265e-02</td>\n",
       "      <td>0.020085</td>\n",
       "    </tr>\n",
       "  </tbody>\n",
       "</table>\n",
       "</div>"
      ],
      "text/plain": [
       "                              names  coefficients  standardized_coefficients\n",
       "0                         Intercept -2.475904e+00                  -2.279636\n",
       "1                            Gender -6.412230e-02                  -0.031080\n",
       "2                          MariStat -6.469010e-02                  -0.023304\n",
       "3                        HasKmLimit -3.698690e-01                  -0.115506\n",
       "4                        BonusMalus  6.792700e-03                   0.104270\n",
       "5                          OutUseNb  6.140907e-02                   0.042723\n",
       "6                          RiskArea  9.237981e-03                   0.020468\n",
       "7                   driver_minage_m -3.724896e-03                  -0.070142\n",
       "8                   driver_minage_f -1.167387e-03                  -0.018724\n",
       "9                 driver_minage_m_2 -6.162300e-06                  -0.009621\n",
       "10                driver_minage_f_2 -1.040740e-07                  -0.000131\n",
       "11                 VehUsage_Private -1.436352e-01                  -0.067923\n",
       "12  VehUsage_Private+trip to office -1.652625e-02                  -0.008257\n",
       "13            VehUsage_Professional  2.260116e-01                   0.074696\n",
       "14        VehUsage_Professional run  2.954791e-01                   0.039642\n",
       "15                  SocioCateg_CSP1 -1.068416e-01                  -0.016188\n",
       "16                  SocioCateg_CSP2 -1.458385e-01                  -0.024296\n",
       "17                  SocioCateg_CSP3  1.033284e-01                   0.010719\n",
       "18                  SocioCateg_CSP4  3.042854e-02                   0.007609\n",
       "19                  SocioCateg_CSP5 -2.760245e-02                  -0.013121\n",
       "20                  SocioCateg_CSP6  4.890265e-02                   0.020085"
      ]
     },
     "execution_count": 75,
     "metadata": {},
     "output_type": "execute_result"
    }
   ],
   "source": [
    "# Таблица нормированных коэффициентов по всем данным и на кросс-валидации\n",
    "glm_binomial._model_json['output']['coefficients_table'].as_data_frame()"
   ]
  },
  {
   "cell_type": "code",
   "execution_count": 76,
   "metadata": {
    "colab": {
     "base_uri": "https://localhost:8080/",
     "height": 34
    },
    "id": "T9I59UXGpYlh",
    "outputId": "05fd5a65-cba0-4ab3-83d6-d06fcaf2e8bf"
   },
   "outputs": [
    {
     "name": "stdout",
     "output_type": "stream",
     "text": [
      "glm prediction progress: |████████████████████████████████████████████████| 100%\n"
     ]
    }
   ],
   "source": [
    "# Построение прогнозных значений для обучающей, валидационной и тестовой выборок\n",
    "y_pred=glm_binomial.predict(h2o_test_ind).as_data_frame()"
   ]
  },
  {
   "cell_type": "code",
   "execution_count": 77,
   "metadata": {},
   "outputs": [
    {
     "data": {
      "text/html": [
       "<div>\n",
       "<style scoped>\n",
       "    .dataframe tbody tr th:only-of-type {\n",
       "        vertical-align: middle;\n",
       "    }\n",
       "\n",
       "    .dataframe tbody tr th {\n",
       "        vertical-align: top;\n",
       "    }\n",
       "\n",
       "    .dataframe thead th {\n",
       "        text-align: right;\n",
       "    }\n",
       "</style>\n",
       "<table border=\"1\" class=\"dataframe\">\n",
       "  <thead>\n",
       "    <tr style=\"text-align: right;\">\n",
       "      <th></th>\n",
       "      <th>predict</th>\n",
       "      <th>p0</th>\n",
       "      <th>p1</th>\n",
       "    </tr>\n",
       "  </thead>\n",
       "  <tbody>\n",
       "    <tr>\n",
       "      <th>0</th>\n",
       "      <td>0</td>\n",
       "      <td>0.908986</td>\n",
       "      <td>0.091014</td>\n",
       "    </tr>\n",
       "    <tr>\n",
       "      <th>1</th>\n",
       "      <td>1</td>\n",
       "      <td>0.879293</td>\n",
       "      <td>0.120707</td>\n",
       "    </tr>\n",
       "    <tr>\n",
       "      <th>2</th>\n",
       "      <td>1</td>\n",
       "      <td>0.886150</td>\n",
       "      <td>0.113850</td>\n",
       "    </tr>\n",
       "    <tr>\n",
       "      <th>3</th>\n",
       "      <td>0</td>\n",
       "      <td>0.922013</td>\n",
       "      <td>0.077987</td>\n",
       "    </tr>\n",
       "    <tr>\n",
       "      <th>4</th>\n",
       "      <td>1</td>\n",
       "      <td>0.903523</td>\n",
       "      <td>0.096477</td>\n",
       "    </tr>\n",
       "  </tbody>\n",
       "</table>\n",
       "</div>"
      ],
      "text/plain": [
       "   predict        p0        p1\n",
       "0        0  0.908986  0.091014\n",
       "1        1  0.879293  0.120707\n",
       "2        1  0.886150  0.113850\n",
       "3        0  0.922013  0.077987\n",
       "4        1  0.903523  0.096477"
      ]
     },
     "execution_count": 77,
     "metadata": {},
     "output_type": "execute_result"
    }
   ],
   "source": [
    "y_pred.head()"
   ]
  },
  {
   "cell_type": "code",
   "execution_count": 78,
   "metadata": {},
   "outputs": [
    {
     "data": {
      "text/plain": [
       "(17274, 3)"
      ]
     },
     "execution_count": 78,
     "metadata": {},
     "output_type": "execute_result"
    }
   ],
   "source": [
    "y_pred.shape"
   ]
  },
  {
   "cell_type": "code",
   "execution_count": 79,
   "metadata": {
    "id": "g00U1gQBp_Wq"
   },
   "outputs": [],
   "source": [
    "from sklearn.metrics import accuracy_score, f1_score, confusion_matrix"
   ]
  },
  {
   "cell_type": "code",
   "execution_count": 80,
   "metadata": {},
   "outputs": [
    {
     "data": {
      "text/plain": [
       "array([[9175, 6474],\n",
       "       [ 801,  824]])"
      ]
     },
     "execution_count": 80,
     "metadata": {},
     "output_type": "execute_result"
    }
   ],
   "source": [
    "confusion_matrix(y_test_ind, y_pred['predict'])"
   ]
  },
  {
   "cell_type": "code",
   "execution_count": 81,
   "metadata": {},
   "outputs": [
    {
     "name": "stdout",
     "output_type": "stream",
     "text": [
      "\n",
      "Confusion Matrix (Act/Pred) for max f1 @ threshold = 0.09479152927183596: \n"
     ]
    },
    {
     "data": {
      "text/html": [
       "<div>\n",
       "<style scoped>\n",
       "    .dataframe tbody tr th:only-of-type {\n",
       "        vertical-align: middle;\n",
       "    }\n",
       "\n",
       "    .dataframe tbody tr th {\n",
       "        vertical-align: top;\n",
       "    }\n",
       "\n",
       "    .dataframe thead th {\n",
       "        text-align: right;\n",
       "    }\n",
       "</style>\n",
       "<table border=\"1\" class=\"dataframe\">\n",
       "  <thead>\n",
       "    <tr style=\"text-align: right;\">\n",
       "      <th></th>\n",
       "      <th></th>\n",
       "      <th>0</th>\n",
       "      <th>1</th>\n",
       "      <th>Error</th>\n",
       "      <th>Rate</th>\n",
       "    </tr>\n",
       "  </thead>\n",
       "  <tbody>\n",
       "    <tr>\n",
       "      <th>0</th>\n",
       "      <td>0</td>\n",
       "      <td>42718.0</td>\n",
       "      <td>30255.0</td>\n",
       "      <td>0.4146</td>\n",
       "      <td>(30255.0/72973.0)</td>\n",
       "    </tr>\n",
       "    <tr>\n",
       "      <th>1</th>\n",
       "      <td>1</td>\n",
       "      <td>3731.0</td>\n",
       "      <td>3904.0</td>\n",
       "      <td>0.4887</td>\n",
       "      <td>(3731.0/7635.0)</td>\n",
       "    </tr>\n",
       "    <tr>\n",
       "      <th>2</th>\n",
       "      <td>Total</td>\n",
       "      <td>46449.0</td>\n",
       "      <td>34159.0</td>\n",
       "      <td>0.4216</td>\n",
       "      <td>(33986.0/80608.0)</td>\n",
       "    </tr>\n",
       "  </tbody>\n",
       "</table>\n",
       "</div>"
      ],
      "text/plain": [
       "                0        1   Error                Rate\n",
       "0      0  42718.0  30255.0  0.4146   (30255.0/72973.0)\n",
       "1      1   3731.0   3904.0  0.4887     (3731.0/7635.0)\n",
       "2  Total  46449.0  34159.0  0.4216   (33986.0/80608.0)"
      ]
     },
     "metadata": {},
     "output_type": "display_data"
    },
    {
     "name": "stdout",
     "output_type": "stream",
     "text": [
      "\n",
      "Confusion Matrix (Act/Pred) for max f1 @ threshold = 0.09480046143327027: \n"
     ]
    },
    {
     "data": {
      "text/html": [
       "<div>\n",
       "<style scoped>\n",
       "    .dataframe tbody tr th:only-of-type {\n",
       "        vertical-align: middle;\n",
       "    }\n",
       "\n",
       "    .dataframe tbody tr th {\n",
       "        vertical-align: top;\n",
       "    }\n",
       "\n",
       "    .dataframe thead th {\n",
       "        text-align: right;\n",
       "    }\n",
       "</style>\n",
       "<table border=\"1\" class=\"dataframe\">\n",
       "  <thead>\n",
       "    <tr style=\"text-align: right;\">\n",
       "      <th></th>\n",
       "      <th></th>\n",
       "      <th>0</th>\n",
       "      <th>1</th>\n",
       "      <th>Error</th>\n",
       "      <th>Rate</th>\n",
       "    </tr>\n",
       "  </thead>\n",
       "  <tbody>\n",
       "    <tr>\n",
       "      <th>0</th>\n",
       "      <td>0</td>\n",
       "      <td>9224.0</td>\n",
       "      <td>6440.0</td>\n",
       "      <td>0.4111</td>\n",
       "      <td>(6440.0/15664.0)</td>\n",
       "    </tr>\n",
       "    <tr>\n",
       "      <th>1</th>\n",
       "      <td>1</td>\n",
       "      <td>784.0</td>\n",
       "      <td>825.0</td>\n",
       "      <td>0.4873</td>\n",
       "      <td>(784.0/1609.0)</td>\n",
       "    </tr>\n",
       "    <tr>\n",
       "      <th>2</th>\n",
       "      <td>Total</td>\n",
       "      <td>10008.0</td>\n",
       "      <td>7265.0</td>\n",
       "      <td>0.4182</td>\n",
       "      <td>(7224.0/17273.0)</td>\n",
       "    </tr>\n",
       "  </tbody>\n",
       "</table>\n",
       "</div>"
      ],
      "text/plain": [
       "                0       1   Error               Rate\n",
       "0      0   9224.0  6440.0  0.4111   (6440.0/15664.0)\n",
       "1      1    784.0   825.0  0.4873     (784.0/1609.0)\n",
       "2  Total  10008.0  7265.0  0.4182   (7224.0/17273.0)"
      ]
     },
     "metadata": {},
     "output_type": "display_data"
    },
    {
     "data": {
      "text/plain": [
       "{'train': , 'valid': }"
      ]
     },
     "execution_count": 81,
     "metadata": {},
     "output_type": "execute_result"
    }
   ],
   "source": [
    "glm_binomial.confusion_matrix(train=True, valid=True)"
   ]
  },
  {
   "cell_type": "code",
   "execution_count": 82,
   "metadata": {},
   "outputs": [
    {
     "data": {
      "text/plain": [
       "[[0.2855621219839621, 0.9052699483922191]]"
      ]
     },
     "execution_count": 82,
     "metadata": {},
     "output_type": "execute_result"
    }
   ],
   "source": [
    "glm_binomial.accuracy()"
   ]
  },
  {
   "cell_type": "code",
   "execution_count": null,
   "metadata": {},
   "outputs": [],
   "source": []
  }
 ],
 "metadata": {
  "colab": {
   "collapsed_sections": [
    "7dox3dTJN5JP",
    "oR02DxanOGDk",
    "VpYxkXdrLD01",
    "6qEMtZhcy0nZ",
    "rXdxE61XFNXd",
    "g556ItOFqrlt",
    "idUKi7_RqxHA",
    "hUUC9Vmhf5aB",
    "fKCG1lssMNA7",
    "YttnrY4wMqu3",
    "8nmnj56EM9gK",
    "A84l-r2aIxfK",
    "Xljx8j0-_jXR"
   ],
   "name": "GB Lesson 2 praсtic.ipynb",
   "provenance": []
  },
  "kernelspec": {
   "display_name": "Python 3",
   "language": "python",
   "name": "python3"
  },
  "language_info": {
   "codemirror_mode": {
    "name": "ipython",
    "version": 3
   },
   "file_extension": ".py",
   "mimetype": "text/x-python",
   "name": "python",
   "nbconvert_exporter": "python",
   "pygments_lexer": "ipython3",
   "version": "3.8.5"
  }
 },
 "nbformat": 4,
 "nbformat_minor": 1
}
